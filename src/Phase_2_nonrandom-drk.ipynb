{
 "cells": [
  {
   "cell_type": "code",
   "execution_count": 1,
   "metadata": {},
   "outputs": [],
   "source": [
    "# imports\n",
    "import networkx as nx\n",
    "import matplotlib.pyplot as plt\n",
    "import numpy as np\n",
    "import pandas as pd\n",
    "import math\n",
    "import random\n",
    "import torch\n",
    "import scipy\n",
    "import pickle\n",
    "from numpy import dot\n",
    "from tqdm.notebook import tqdm\n",
    "from numpy.linalg import norm\n",
    "from scipy.stats import pearsonr\n",
    "from operator import itemgetter\n",
    "from sklearn.metrics.pairwise import cosine_similarity,cosine_distances\n",
    "from tqdm import tqdm\n",
    "import warnings\n",
    "import csv \n",
    "warnings.filterwarnings('ignore')"
   ]
  },
  {
   "cell_type": "markdown",
   "metadata": {},
   "source": [
    "### Child vocabulary"
   ]
  },
  {
   "cell_type": "code",
   "execution_count": 2,
   "metadata": {},
   "outputs": [
    {
     "data": {
      "text/html": [
       "<div>\n",
       "<style scoped>\n",
       "    .dataframe tbody tr th:only-of-type {\n",
       "        vertical-align: middle;\n",
       "    }\n",
       "\n",
       "    .dataframe tbody tr th {\n",
       "        vertical-align: top;\n",
       "    }\n",
       "\n",
       "    .dataframe thead th {\n",
       "        text-align: right;\n",
       "    }\n",
       "</style>\n",
       "<table border=\"1\" class=\"dataframe\">\n",
       "  <thead>\n",
       "    <tr style=\"text-align: right;\">\n",
       "      <th></th>\n",
       "      <th>Word</th>\n",
       "      <th>Rating.Mean</th>\n",
       "    </tr>\n",
       "  </thead>\n",
       "  <tbody>\n",
       "    <tr>\n",
       "      <th>0</th>\n",
       "      <td>a</td>\n",
       "      <td>24.893384</td>\n",
       "    </tr>\n",
       "    <tr>\n",
       "      <th>1</th>\n",
       "      <td>aardvark</td>\n",
       "      <td>108.890000</td>\n",
       "    </tr>\n",
       "    <tr>\n",
       "      <th>2</th>\n",
       "      <td>abacus</td>\n",
       "      <td>96.690000</td>\n",
       "    </tr>\n",
       "    <tr>\n",
       "      <th>3</th>\n",
       "      <td>abalone</td>\n",
       "      <td>144.230000</td>\n",
       "    </tr>\n",
       "    <tr>\n",
       "      <th>4</th>\n",
       "      <td>abandon</td>\n",
       "      <td>96.320000</td>\n",
       "    </tr>\n",
       "    <tr>\n",
       "      <th>...</th>\n",
       "      <td>...</td>\n",
       "      <td>...</td>\n",
       "    </tr>\n",
       "    <tr>\n",
       "      <th>31119</th>\n",
       "      <td>zoom</td>\n",
       "      <td>96.570000</td>\n",
       "    </tr>\n",
       "    <tr>\n",
       "      <th>31120</th>\n",
       "      <td>zoon</td>\n",
       "      <td>144.430000</td>\n",
       "    </tr>\n",
       "    <tr>\n",
       "      <th>31121</th>\n",
       "      <td>zucchini</td>\n",
       "      <td>72.790000</td>\n",
       "    </tr>\n",
       "    <tr>\n",
       "      <th>31122</th>\n",
       "      <td>zwieback</td>\n",
       "      <td>192.100000</td>\n",
       "    </tr>\n",
       "    <tr>\n",
       "      <th>31123</th>\n",
       "      <td>zygote</td>\n",
       "      <td>180.380000</td>\n",
       "    </tr>\n",
       "  </tbody>\n",
       "</table>\n",
       "<p>31104 rows × 2 columns</p>\n",
       "</div>"
      ],
      "text/plain": [
       "           Word  Rating.Mean\n",
       "0             a    24.893384\n",
       "1      aardvark   108.890000\n",
       "2        abacus    96.690000\n",
       "3       abalone   144.230000\n",
       "4       abandon    96.320000\n",
       "...         ...          ...\n",
       "31119      zoom    96.570000\n",
       "31120      zoon   144.430000\n",
       "31121  zucchini    72.790000\n",
       "31122  zwieback   192.100000\n",
       "31123    zygote   180.380000\n",
       "\n",
       "[31104 rows x 2 columns]"
      ]
     },
     "execution_count": 2,
     "metadata": {},
     "output_type": "execute_result"
    }
   ],
   "source": [
    "# create dataframe for aoa dataset --> (word, age_avg)\n",
    "aoa = pd.read_excel('../data/AoA_ratings.xlsx')\n",
    "aoa.drop(aoa.columns[[1, 2, 3, 5, 6]], axis = 1, inplace = True) # we are only interested in the mean column\n",
    "aoa.dropna(inplace=True)\n",
    "# convert aoa from years+months to just months\n",
    "aoa['Rating.Mean'] = aoa['Rating.Mean'].apply(lambda x: int(str(x).split('.')[0]) * 12 + x%1.0)\n",
    "aoa_vocab = list(aoa.Word)\n",
    "aoa"
   ]
  },
  {
   "cell_type": "code",
   "execution_count": 3,
   "metadata": {
    "scrolled": false
   },
   "outputs": [
    {
     "data": {
      "text/plain": [
       "511"
      ]
     },
     "execution_count": 3,
     "metadata": {},
     "output_type": "execute_result"
    }
   ],
   "source": [
    "vocab = [line.strip() for line in open('../data/vertomul.txt')]\n",
    "vocab = [x for x in vocab if x in aoa_vocab]\n",
    "\n",
    "len(vocab)"
   ]
  },
  {
   "cell_type": "raw",
   "metadata": {},
   "source": [
    "aoa = aoa[aoa.Word.isin(vocab)]\n",
    "aoa_sorted = aoa.sort_values(by='Rating.Mean', ascending=True)\n",
    "\n",
    "start_words = list(aoa_sorted.Word.values[:11])\n",
    "\n",
    "start_words"
   ]
  },
  {
   "cell_type": "markdown",
   "metadata": {},
   "source": [
    "### Unpack Layers"
   ]
  },
  {
   "cell_type": "code",
   "execution_count": 4,
   "metadata": {},
   "outputs": [],
   "source": [
    "free_assoc = pickle.load( open( \"free_assoc.pickle\", \"rb\" ))\n",
    "co_oc = pickle.load( open( \"co_oc.pickle\", \"rb\" ))\n",
    "phon_conn = pickle.load( open( \"phon_conn.pickle\", \"rb\" ))\n",
    "feat_norms = pickle.load( open( \"feat_norms.pickle\", \"rb\" ))\n",
    "word_emb_layer = pickle.load( open( \"word_emb_layer.pickle\", \"rb\" ))\n",
    "visual_layer = pickle.load( open( \"visual_graph.pickle\", \"rb\" ))\n",
    "lancaster_layer = pickle.load( open( \"lancaster.pickle\", \"rb\" ))"
   ]
  },
  {
   "cell_type": "code",
   "execution_count": 5,
   "metadata": {},
   "outputs": [],
   "source": [
    "lists = [ co_oc, phon_conn, free_assoc, feat_norms, word_emb_layer, visual_layer, lancaster_layer]"
   ]
  },
  {
   "cell_type": "markdown",
   "metadata": {},
   "source": [
    "### Construct weighted graph"
   ]
  },
  {
   "cell_type": "code",
   "execution_count": 6,
   "metadata": {},
   "outputs": [],
   "source": [
    "# setting the weights. If the connection between two nodes is established across multiple layers, we up its weight\n",
    "def construct_graph_from_vocab(start_vocab, lists):\n",
    "    aggregate = nx.Graph()\n",
    "    aggregate.add_nodes_from(start_vocab)\n",
    "    aggregate.number_of_nodes()\n",
    "    for a_list in lists:\n",
    "        for pair in a_list:\n",
    "            if pair[0] not in start_vocab: continue\n",
    "            if pair[1] not in start_vocab: continue\n",
    "            if aggregate.has_edge(pair[0], pair[1]):\n",
    "                aggregate[pair[0]][pair[1]]['weight'] += 1\n",
    "            else:\n",
    "                aggregate.add_edge(pair[0], pair[1], weight=1)\n",
    "    return aggregate\n",
    "    "
   ]
  },
  {
   "cell_type": "code",
   "execution_count": 7,
   "metadata": {},
   "outputs": [
    {
     "data": {
      "text/plain": [
       "(29, 482, 511)"
      ]
     },
     "execution_count": 7,
     "metadata": {},
     "output_type": "execute_result"
    }
   ],
   "source": [
    "start_vocab = random.sample(vocab, 29)\n",
    "left_vocab = list(vocab)\n",
    "for v in start_vocab: left_vocab.remove(v)\n",
    "    \n",
    "len(start_vocab), len(left_vocab), len(vocab)"
   ]
  },
  {
   "cell_type": "code",
   "execution_count": 8,
   "metadata": {},
   "outputs": [
    {
     "data": {
      "text/plain": [
       "29"
      ]
     },
     "execution_count": 8,
     "metadata": {},
     "output_type": "execute_result"
    }
   ],
   "source": [
    "agg = construct_graph_from_vocab(start_vocab, lists)\n",
    "agg.number_of_nodes()"
   ]
  },
  {
   "cell_type": "code",
   "execution_count": 9,
   "metadata": {},
   "outputs": [],
   "source": [
    "def normalize_weights(G):\n",
    "    '''\n",
    "     This function creates a list of\n",
    "     normalized weights for each node \n",
    "     in the G graph. The sum of the \n",
    "     weights sum to 1.\n",
    "    '''\n",
    "    normalized_weights = {}\n",
    "    weights = list(G.degree(weight='weight')) # strength of each node\n",
    "    overall = sum(node[1] for node in weights) # sum of all weights in graph \n",
    "    \n",
    "    for node, weight in weights:\n",
    "        perc = weight/overall\n",
    "        normalized_weights[node]=(weight, perc)\n",
    "    \n",
    "    return normalized_weights"
   ]
  },
  {
   "cell_type": "code",
   "execution_count": 10,
   "metadata": {},
   "outputs": [],
   "source": [
    "def get_node_connections(G, batch):\n",
    "    '''\n",
    "     This function returns a list of\n",
    "     tuples with (node, edge) pairings\n",
    "     for each connection a node has. \n",
    "    '''\n",
    "    list_conns = []\n",
    "    for node in batch:\n",
    "        list_conns.append(G.edges(node))\n",
    "    return list_conns"
   ]
  },
  {
   "cell_type": "code",
   "execution_count": 11,
   "metadata": {},
   "outputs": [],
   "source": [
    "def preferential_attachment(G, newly_added):\n",
    "    '''\n",
    "     preferential attachment function call takes in a graph \n",
    "     and a list of tuples --> for each node in the batch list,\n",
    "     get all of its edges and create a list of tuples.\n",
    "    '''\n",
    "    \n",
    "    # create a list of tuples (node, edge) for each edge a node has\n",
    "    list_conns = get_node_connections(G, newly_added)\n",
    "    \n",
    "    node_avgs_list = []\n",
    "    for arr in list_conns:\n",
    "        # compute preferential attachment on batch nodes\n",
    "       \n",
    "        preds = nx.preferential_attachment(G, arr)\n",
    "        \n",
    "        # get the average of all the attachments for each node\n",
    "        node_avgs = np.mean([p for u,v,p in preds])\n",
    "        if math.isnan(node_avgs): node_avgs = 0\n",
    "        node_avgs_list.append(node_avgs)\n",
    "        \n",
    "    # list with averages preferential attachment scorer for each node in batch\n",
    "    zip_lists = list(zip(newly_added, node_avgs_list))\n",
    "\n",
    "    return zip_lists"
   ]
  },
  {
   "cell_type": "code",
   "execution_count": 12,
   "metadata": {},
   "outputs": [
    {
     "data": {
      "text/plain": [
       "['bird', 'cowboy', 'around']"
      ]
     },
     "execution_count": 12,
     "metadata": {},
     "output_type": "execute_result"
    }
   ],
   "source": [
    "def get_aoa_means_for_vocab(aoa, vocab):\n",
    "    sub = aoa[aoa.Word.isin(vocab)]\n",
    "\n",
    "    return sub\n",
    "\n",
    "def get_aoa_rank_for_vocab(aoa, vocab):\n",
    "    sub = aoa[aoa.Word.isin(vocab)]\n",
    "    sub = sub.sort_values(by='Rating.Mean')\n",
    "    return list(sub.Word)\n",
    "    \n",
    "v = ['bird', 'cowboy', 'around']\n",
    "get_aoa_rank_for_vocab(aoa, v)"
   ]
  },
  {
   "cell_type": "code",
   "execution_count": 13,
   "metadata": {},
   "outputs": [],
   "source": [
    "def tau_correlation(pa):\n",
    "    sorted_pa = sorted(pa,key=itemgetter(1), reverse=True)\n",
    "    sorted_pa = [x[0] for x in sorted_pa]\n",
    "    sorted_aoa = get_aoa_rank_for_vocab(aoa, sorted_pa)\n",
    "    return scipy.stats.kendalltau(sorted_pa, sorted_aoa)\n",
    "    "
   ]
  },
  {
   "cell_type": "code",
   "execution_count": 59,
   "metadata": {},
   "outputs": [],
   "source": [
    "def network_dev(vocab, list_layers, func, sub_vocab, N):  \n",
    "    \n",
    "#     network_dev(vec_vocab, vector_lists, cosine_attachment, 406, 20)\n",
    "    batch_corr_list = []\n",
    "    accumulate_corr_list = []\n",
    "    \n",
    "    this_vocab = vocab.copy()\n",
    "    print(\"Vocab: \", len(this_vocab))\n",
    "#     full_network = construct_graph_from_vocab(this_vocab, list_layers) #undirected, weighted graph with 7 layers\n",
    "    # we now need a list of the preferential attachment scores for each node in the network\n",
    "#     normalized_weights = normalize_weights(full_network)\n",
    "    # make a list of weights for the random picking \n",
    "#     weight_list = [normalized_weights[node][1] for node in normalized_weights]\n",
    "\n",
    "    # setup the initial network\n",
    "    left_vocab = list(this_vocab)\n",
    "    added_vocab = []\n",
    "#     sub_vocab = np.random.choice(left_vocab, init_size, replace=False, p=weight_list)\n",
    "\n",
    "#     print(\"initial network:\", sub_vocab)\n",
    "    for v in sub_vocab: left_vocab.remove(v)\n",
    "    for word in sub_vocab: added_vocab.append(word)\n",
    "    agg = construct_graph_from_vocab(sub_vocab, lists) # initial subgraph with 11 nodes\n",
    "\n",
    "    print(\"initial network size:\", agg.number_of_nodes())\n",
    "    order_of_attachment = []\n",
    "    order_of_attachment_end = []\n",
    "    # ranomly select N words in left_vocab (which has words not yet in the network)\n",
    "    with tqdm(total=len(this_vocab)-11) as pbar:\n",
    "        while len(added_vocab) < len(this_vocab):\n",
    "            current_batch = []\n",
    "#             print(\"--WHILE\",len(added_vocab), len(this_vocab))\n",
    "            list_attachment_scores = []\n",
    "#             print(\"\")\n",
    "#             print('adding {} nodes'.format(N))\n",
    "\n",
    "\n",
    "            pool_words = this_vocab.copy()\n",
    "            for word in added_vocab:\n",
    "                pool_words.remove(word)\n",
    "\n",
    "\n",
    "            for word in pool_words:\n",
    "\n",
    "                new_vocab = added_vocab.copy() \n",
    "                new_vocab.append(word)\n",
    "\n",
    "\n",
    "                N_1 = construct_graph_from_vocab(new_vocab, list_layers)\n",
    "                # get the pa for every node in the batch\n",
    "                pa = func(N_1, [word])\n",
    "\n",
    "    #             print(\"pa\", pa, word)\n",
    "    #             print(N_1.has_node(word), N_1.edges(word))\n",
    "\n",
    "                assert not math.isnan(pa[0][1]) # sanity check\n",
    "                list_attachment_scores.append(pa[0]) # [0] removing the list around the tuple\n",
    "\n",
    "            list_attachment_scores_sorted = sorted(list_attachment_scores, key=lambda tup: tup[1], reverse=True)\n",
    "#             print(\" \")\n",
    "        #     print(\"sorted list\", list_attachment_scores_sorted) # this is what we run our correlation on\n",
    "            top_20 = list_attachment_scores_sorted[:N]\n",
    "#             print(\"-- Top 20 nodes\", top_20)\n",
    "            for tup in top_20:\n",
    "                order_of_attachment.append(tup)\n",
    "                current_batch.append(tup)\n",
    "#             print(\"## Attachment at building time on current batch:\")\n",
    "            batch_corr = tau_correlation(current_batch)\n",
    "#             print(batch_corr)\n",
    "            batch_corr_list.append((batch_corr[0], batch_corr[1]))\n",
    "\n",
    "#             print(\" \")\n",
    "#             print(\"## Attachment at building time on growing network:\")\n",
    "            accumulate_corr = tau_correlation(order_of_attachment)\n",
    "#             print(accumulate_corr)\n",
    "            accumulate_corr_list.append((accumulate_corr[0], accumulate_corr[1]))\n",
    "#             print(\" \")\n",
    "            assert not math.isnan(batch_corr[0])\n",
    "\n",
    "\n",
    "            to_be_added = [word[0] for word in top_20]\n",
    "\n",
    "            for word in to_be_added:\n",
    "                order_of_attachment_end.append(word)\n",
    "\n",
    "\n",
    "            for word in to_be_added: added_vocab.append(word)\n",
    "            for v in to_be_added: left_vocab.remove(v)\n",
    "            assert len(added_vocab) + len(left_vocab) == len(this_vocab) # sanity check\n",
    "\n",
    "        #     now we are actually adding the batch of nodes in the graph\n",
    "            agg = construct_graph_from_vocab(added_vocab, lists)\n",
    "#             print(\"current network size:\", agg.number_of_nodes())\n",
    "            pbar.update(N)\n",
    "    print('batch', batch_corr_list)\n",
    "    print('accum', accumulate_corr_list)\n",
    "    return batch_corr_list, accumulate_corr_list, agg"
   ]
  },
  {
   "cell_type": "code",
   "execution_count": 15,
   "metadata": {},
   "outputs": [],
   "source": [
    "def plot_correlation(batch_corr_list, accumulate_corr_list):\n",
    "\n",
    "    assert len(batch_corr_list) == len(accumulate_corr_list)\n",
    "    len_list = len(batch_corr_list)\n",
    "    x_axis = [item for item in range(0, len_list)]\n",
    "\n",
    "    y_axis_batch = [item[0] for item in batch_corr_list]\n",
    "\n",
    "    y_axis_acc = [item[0] for item in accumulate_corr_list]\n",
    "\n",
    "\n",
    "    plt.plot(x_axis, y_axis_batch, label = \"current batch\")\n",
    "    plt.plot(x_axis, y_axis_acc, label = \"all batches\")\n",
    "    \n",
    "    for pair in enumerate(batch_corr_list):\n",
    "        if pair[1][1] < .05:\n",
    "#             print(\" I think it's this\", pair[1][1], pair[0])\n",
    "            plt.scatter(pair[0], pair[1][0], c='black')\n",
    "    \n",
    "    for pair in enumerate(accumulate_corr_list):\n",
    "        if pair[1][1] < .05:\n",
    "#             print(\" I think it's this\", pair[1][1], pair[0])\n",
    "            plt.scatter(pair[0], pair[1][0], c='black')\n",
    "            \n",
    "    plt.legend()\n",
    "    plt.title('Correlation plot')\n",
    "    plt.xlabel('Iterations')\n",
    "    plt.ylabel('Tau Correlation')\n",
    "    plt.show()"
   ]
  },
  {
   "cell_type": "markdown",
   "metadata": {},
   "source": [
    "## Preferential attachment"
   ]
  },
  {
   "cell_type": "code",
   "execution_count": 100,
   "metadata": {},
   "outputs": [],
   "source": [
    "def run_multiple_batches(vec_vocab, lists, fnc, x, y):\n",
    "\n",
    "    batch_total = []\n",
    "    accum_total = []\n",
    "\n",
    "    for i in range(0,10):\n",
    "        batch_corr_list, accumulate_corr_list = network_dev(vec_vocab, lists, fnc, x, y)\n",
    "        batch_total.append(batch_corr_list)\n",
    "        accum_total.append(accumulate_corr_list)\n",
    "\n",
    "    batch_corr_list = []\n",
    "    accumulate_corr_list = []\n",
    "    corr_std = []\n",
    "    stat_std = []\n",
    "\n",
    "    for i in range(0,len(batch_total[0])):\n",
    "        mean_corr = np.mean([x[i][0] for x in batch_total])\n",
    "        mean_stat = np.mean([x[i][1] for x in batch_total])\n",
    "        batch_corr_list.append((mean_corr, mean_stat))\n",
    "        std_corr = np.std([x[i][0] for x in batch_total])\n",
    "        std_stat = np.std([x[i][1] for x in batch_total])\n",
    "        corr_std.append((std_corr, std_stat))\n",
    "        mean_corr = np.mean([x[i][0] for x in accum_total])\n",
    "        mean_stat = np.mean([x[i][1] for x in accum_total])\n",
    "        accumulate_corr_list.append((mean_corr, mean_stat))   \n",
    "        std_corr = np.std([x[i][0] for x in accum_total])\n",
    "        std_stat = np.std([x[i][1] for x in accum_total])\n",
    "        stat_std.append((std_corr, std_stat))\n",
    "        \n",
    "    print(corr_std)\n",
    "    print(stat_std)\n",
    "    return batch_corr_list, accumulate_corr_list"
   ]
  },
  {
   "cell_type": "code",
   "execution_count": 101,
   "metadata": {},
   "outputs": [],
   "source": [
    "N = 20"
   ]
  },
  {
   "cell_type": "code",
   "execution_count": 102,
   "metadata": {},
   "outputs": [
    {
     "name": "stdout",
     "output_type": "stream",
     "text": [
      "Vocab:  511\n",
      "initial network size: 11\n"
     ]
    },
    {
     "name": "stderr",
     "output_type": "stream",
     "text": [
      "100%|███████████████████████████████████████████████████████████████| 500/500 [05:11<00:00,  1.60it/s]"
     ]
    },
    {
     "name": "stdout",
     "output_type": "stream",
     "text": [
      "batch [(-0.021052631578947368, 0.9235023313316655), (-0.052631578947368425, 0.7732194749063227), (0.09473684210526316, 0.5858584459782121), (0.2105263157894737, 0.20862839781386747), (0.052631578947368425, 0.7732194749063227), (0.12631578947368421, 0.4605237944389165), (0.1473684210526316, 0.3858571513151256), (-0.052631578947368425, 0.7732194749063227), (0.15789473684210525, 0.3513948581732795), (-0.17894736842105263, 0.2883781963764095), (0.16842105263157894, 0.31889648047194963), (-0.15789473684210525, 0.3513948581732795), (0.052631578947368425, 0.7732194749063227), (0.1473684210526316, 0.3858571513151256), (0.18947368421052632, 0.2598399893189163), (0.09473684210526316, 0.5858584459782121), (0.1368421052631579, 0.4222502818286719), (-0.021052631578947368, 0.9235023313316655), (0.18947368421052632, 0.2598399893189163), (-0.11578947368421053, 0.5006096271664154), (-0.17894736842105263, 0.2883781963764095), (-0.052631578947368425, 0.7732194749063227), (0.35789473684210527, 0.02832862734229191), (-0.08421052631578947, 0.6307989462589767), (0.06315789473684211, 0.7246362205272814)]\n",
      "accum [(-0.021052631578947368, 0.9235023313316655), (0.1, 0.3634658984081516), (-0.20112994350282487, 0.02317469480896443), (-0.027848101265822784, 0.7146558936953331), (-0.08444444444444446, 0.2131858571969415), (0.047619047619047616, 0.4405873388784286), (-0.019116135662898253, 0.7375607572383404), (-0.08742138364779874, 0.1008505820575027), (-0.042085661080074485, 0.40158336713427967), (0.016683417085427137, 0.725710698048535), (-0.0034039020340390197, 0.9401080698756581), (-0.045118549511854955, 0.29793744777195175), (-0.005643005643005641, 0.8921587427776456), (-0.030056323604710704, 0.45342345121188454), (-0.07464882943143814, 0.05383261997625638), (0.002821316614420063, 0.939982424689358), (0.00551795939614784, 0.8793151774707038), (0.02315072732900031, 0.5120218477737577), (-0.04041105402027496, 0.23950853141047945), (0.02879699248120301, 0.38970887359461914), (-0.030912603704966478, 0.343977477327124), (0.02369020501138952, 0.4578200910428625), (-0.022354835654068393, 0.473707172801642), (-0.030862908837856643, 0.31222068698074434), (0.00923446893787575, 0.7575855412289018)]\n"
     ]
    },
    {
     "name": "stderr",
     "output_type": "stream",
     "text": [
      "\n"
     ]
    }
   ],
   "source": [
    "lists = [ co_oc, phon_conn, free_assoc, feat_norms, word_emb_layer, visual_layer, lancaster_layer]\n",
    "# correlation  ,   p-value\n",
    "batch_corr_list_7_pa, accumulate_corr_list_7_pa = network_dev(vocab, lists, preferential_attachment, start_words, N)\n",
    "# plot_correlation(batch_corr_list_7_pa, accumulate_corr_list_7_pa)\n",
    "pickle.dump(batch_corr_list_7_pa, open( \"7_patt_7.pickle\", \"wb\" ))"
   ]
  },
  {
   "cell_type": "code",
   "execution_count": 74,
   "metadata": {},
   "outputs": [
    {
     "name": "stdout",
     "output_type": "stream",
     "text": [
      "Vocab:  511\n",
      "initial network size: 11\n"
     ]
    },
    {
     "name": "stderr",
     "output_type": "stream",
     "text": [
      "100%|███████████████████████████████████████████████████████████████| 500/500 [01:46<00:00,  4.70it/s]"
     ]
    },
    {
     "name": "stdout",
     "output_type": "stream",
     "text": [
      "batch [(0.010526315789473684, 0.9744669029388741), (0.08421052631578947, 0.6307989462589767), (-0.24210526315789474, 0.1458442183647273), (-0.10526315789473685, 0.5424221448910934), (0.052631578947368425, 0.7732194749063227), (-0.10526315789473685, 0.5424221448910934), (-0.08421052631578947, 0.6307989462589767), (-0.17894736842105263, 0.2883781963764095), (-0.08421052631578947, 0.6307989462589767), (0.16842105263157894, 0.31889648047194963), (-0.06315789473684211, 0.7246362205272814), (-0.15789473684210525, 0.3513948581732795), (-0.09473684210526316, 0.5858584459782121), (-0.18947368421052632, 0.2598399893189163), (-0.08421052631578947, 0.6307989462589767), (-0.1368421052631579, 0.4222502818286719), (-0.2736842105263158, 0.0983302187347563), (0.09473684210526316, 0.5858584459782121), (-0.06315789473684211, 0.7246362205272814), (-0.15789473684210525, 0.3513948581732795), (-0.08421052631578947, 0.6307989462589767), (-0.06315789473684211, 0.7246362205272814), (-0.08421052631578947, 0.6307989462589767), (0.052631578947368425, 0.7732194749063227), (0.021052631578947368, 0.9235023313316655)]\n",
      "accum [(0.010526315789473684, 0.9744669029388741), (-0.015384615384615385, 0.8888082041096124), (-0.0327683615819209, 0.7114422283624389), (-0.058227848101265814, 0.44459442515590797), (0.0008080808080808082, 0.9904954511734626), (0.060784313725490195, 0.32491082226887824), (0.07070914696813978, 0.2151769604100665), (0.059276729559748435, 0.26591514514342507), (0.11309745499689633, 0.024189144518260434), (-0.07095477386934673, 0.13566935562827), (0.07247820672478206, 0.10964181754882481), (-0.06213389121338913, 0.1517425106310575), (0.028333828333828328, 0.49604876913512963), (0.015770609318996417, 0.6940392755994775), (0.028584169453734674, 0.4603140915085405), (0.0938871473354232, 0.012226150941801059), (0.017317369425646365, 0.6337031281474677), (-0.0046115753636645, 0.8960817833327207), (0.0440216636578253, 0.20008565302102188), (-0.02298245614035088, 0.4924171369492186), (0.03325377883850438, 0.30867485350134083), (0.0005384137502588527, 0.9865374039262471), (0.04309936535000474, 0.16718330474743492), (0.011360473208072371, 0.7099027613660264), (0.06252505010020039, 0.03663238586187184)]\n"
     ]
    },
    {
     "name": "stderr",
     "output_type": "stream",
     "text": [
      "\n"
     ]
    }
   ],
   "source": [
    "lists = [ co_oc, phon_conn, free_assoc, feat_norms]\n",
    "# correlation  ,   p-value\n",
    "batch_corr_list_4_pa, accumulate_corr_list_4_pa = network_dev(vocab, lists, preferential_attachment, start_words, N)\n",
    "# plot_correlation(batch_corr_list_4_pa, accumulate_corr_list_4_pa)\n",
    "pickle.dump(batch_corr_list_4_pa, open( \"orig_4_patt_7.pickle\", \"wb\" ))"
   ]
  },
  {
   "cell_type": "code",
   "execution_count": 103,
   "metadata": {},
   "outputs": [
    {
     "name": "stdout",
     "output_type": "stream",
     "text": [
      "Vocab:  511\n",
      "initial network size: 11\n"
     ]
    },
    {
     "name": "stderr",
     "output_type": "stream",
     "text": [
      "100%|███████████████████████████████████████████████████████████████| 500/500 [03:26<00:00,  2.42it/s]"
     ]
    },
    {
     "name": "stdout",
     "output_type": "stream",
     "text": [
      "batch [(-0.06315789473684211, 0.7246362205272814), (-0.10526315789473685, 0.5424221448910934), (-0.18947368421052632, 0.2598399893189163), (0.22105263157894736, 0.18588304288709082), (0.24210526315789474, 0.1458442183647273), (0.0, 1.0), (-0.38947368421052636, 0.016406081268886954), (-0.12631578947368421, 0.4605237944389165), (-0.031578947368421054, 0.8728414598639421), (0.042105263157894736, 0.8226828854421667), (-0.06315789473684211, 0.7246362205272814), (0.09473684210526316, 0.5858584459782121), (0.09473684210526316, 0.5858584459782121), (0.19999999999999998, 0.23326655710712652), (-0.1368421052631579, 0.4222502818286719), (-0.12631578947368421, 0.4605237944389165), (0.0, 1.0), (0.010526315789473684, 0.9744669029388741), (-0.16842105263157894, 0.31889648047194963), (0.17894736842105263, 0.2883781963764095), (0.06315789473684211, 0.7246362205272814), (-0.052631578947368425, 0.7732194749063227), (0.0736842105263158, 0.6771082386478994), (0.08421052631578947, 0.6307989462589767), (-0.09473684210526316, 0.5858584459782121)]\n",
      "accum [(-0.06315789473684211, 0.7246362205272814), (0.1435897435897436, 0.19192149639323963), (0.04745762711864407, 0.5921341380808356), (0.110126582278481, 0.14822698773005016), (-0.07717171717171718, 0.25527058076132525), (0.10756302521008403, 0.08150691699327099), (0.14758478931140803, 0.009681489629478776), (-0.007861635220125786, 0.8826987740555082), (0.05350713842333954, 0.2862271268902016), (0.007236180904522612, 0.8790526735198035), (0.01178912411789124, 0.7946938389498729), (0.014225941422594144, 0.7427705044440611), (-0.010395010395010394, 0.8027884306854054), (-0.06825396825396826, 0.08865878864440127), (0.018238573021181717, 0.6375673552147887), (0.032993730407523514, 0.37858983200493634), (0.10706229394412632, 0.0032188359264805357), (-0.011049210770659238, 0.7543230126388336), (0.10851270656853214, 0.0015863611149224165), (-0.006090225563909775, 0.8556528423675406), (-0.018138424821002388, 0.578705694954413), (0.0071443363015116996, 0.8228347081459413), (0.03351330870512456, 0.2827853575556962), (0.04314544189283229, 0.15772868849988142), (-0.021386773547094187, 0.47471307681809904)]\n"
     ]
    },
    {
     "name": "stderr",
     "output_type": "stream",
     "text": [
      "\n"
     ]
    }
   ],
   "source": [
    "lists = [word_emb_layer, visual_layer, lancaster_layer]\n",
    "# correlation  ,   p-value\n",
    "batch_corr_list_3_pa, accumulate_corr_list_3_pa = network_dev(vocab, lists, preferential_attachment, start_words, N)\n",
    "# plot_correlation(batch_corr_list_3_pa, accumulate_corr_list_3_pa)\n",
    "pickle.dump(batch_corr_list_3_pa, open( \"3_patt_7.pickle\", \"wb\" ))"
   ]
  },
  {
   "cell_type": "code",
   "execution_count": 242,
   "metadata": {},
   "outputs": [
    {
     "name": "stderr",
     "output_type": "stream",
     "text": [
      "  0%|          | 0/500 [00:00<?, ?it/s]"
     ]
    },
    {
     "name": "stdout",
     "output_type": "stream",
     "text": [
      "Vocab:  511\n",
      "initial network size: 11\n"
     ]
    },
    {
     "name": "stderr",
     "output_type": "stream",
     "text": [
      "100%|██████████| 500/500 [00:06<00:00, 77.34it/s] \n"
     ]
    },
    {
     "name": "stdout",
     "output_type": "stream",
     "text": [
      "batch [(0.12631578947368421, 0.4605237944389165), (-0.09473684210526316, 0.5858584459782121), (-0.25263157894736843, 0.12841351117075267), (0.12631578947368421, 0.4605237944389165), (-0.19999999999999998, 0.23326655710712652), (-0.1473684210526316, 0.3858571513151256), (-0.15789473684210525, 0.3513948581732795), (-0.15789473684210525, 0.3513948581732795), (-0.2105263157894737, 0.20862839781386747), (-0.021052631578947368, 0.9235023313316655), (-0.10526315789473685, 0.5424221448910934), (0.10526315789473685, 0.5424221448910934), (-0.1368421052631579, 0.4222502818286719), (-0.031578947368421054, 0.8728414598639421), (-0.0736842105263158, 0.6771082386478994), (0.0, 1.0), (-0.042105263157894736, 0.8226828854421667), (-0.18947368421052632, 0.2598399893189163), (-0.19999999999999998, 0.23326655710712652), (0.16842105263157894, 0.31889648047194963), (-0.3684210526315789, 0.02373449564495179), (-0.031578947368421054, 0.8728414598639421), (0.18947368421052632, 0.2598399893189163), (0.1473684210526316, 0.3858571513151256), (0.0, 1.0)]\n",
      "accum [(0.12631578947368421, 0.4605237944389165), (-0.043589743589743594, 0.6920053103832037), (-0.08361581920903954, 0.34520370832704317), (0.036075949367088606, 0.635762697620645), (0.030707070707070714, 0.6507836830566431), (-0.020168067226890754, 0.743950294541316), (0.0421377183967112, 0.46013240630149155), (-0.0042452830188679245, 0.9364946188703475), (-0.026070763500931095, 0.6033363925747273), (-0.04080402010050251, 0.39085324898922946), (-0.00074719800747198, 0.9868412169367123), (-0.012691771269177128, 0.769679602963733), (-0.057202257202257197, 0.16935369129820033), (-0.06994367639528931, 0.08104350861957146), (-0.07955406911928652, 0.039890265620666734), (-0.020572100313479627, 0.5830028306321895), (-0.07138643067846609, 0.04949105002990272), (-0.05682451253481894, 0.10752287234212134), (-0.006415775586724065, 0.8518649127523008), (-0.01598997493734336, 0.6329284916519677), (0.030526196158654394, 0.3500427697859654), (-0.022924000828328846, 0.47249303468921067), (-0.04164061759969689, 0.18202069142105248), (-0.0068197633959638125, 0.8232974014968387), (0.006204408817635269, 0.8357160700102302)]\n"
     ]
    },
    {
     "data": {
      "image/png": "[encoded data removed]",
      "text/plain": [
       "<Figure size 432x288 with 1 Axes>"
      ]
     },
     "metadata": {
      "needs_background": "light"
     },
     "output_type": "display_data"
    }
   ],
   "source": [
    "lists = [word_emb_layer]\n",
    "# correlation  ,   p-value\n",
    "batch_corr_list_3_pa, accumulate_corr_list_3_pa = network_dev(vocab, lists, preferential_attachment, start_words, N)\n",
    "plot_correlation(batch_corr_list_3_pa, accumulate_corr_list_3_pa)"
   ]
  },
  {
   "cell_type": "code",
   "execution_count": 243,
   "metadata": {},
   "outputs": [
    {
     "name": "stderr",
     "output_type": "stream",
     "text": [
      "  0%|          | 0/500 [00:00<?, ?it/s]"
     ]
    },
    {
     "name": "stdout",
     "output_type": "stream",
     "text": [
      "Vocab:  511\n",
      "initial network size: 11\n"
     ]
    },
    {
     "name": "stderr",
     "output_type": "stream",
     "text": [
      "100%|██████████| 500/500 [00:07<00:00, 64.95it/s] "
     ]
    },
    {
     "name": "stdout",
     "output_type": "stream",
     "text": [
      "batch [(0.021052631578947368, 0.9235023313316655), (0.18947368421052632, 0.2598399893189163), (0.031578947368421054, 0.8728414598639421), (-0.09473684210526316, 0.5858584459782121), (-0.10526315789473685, 0.5424221448910934), (0.2105263157894737, 0.20862839781386747), (-0.12631578947368421, 0.4605237944389165), (-0.1473684210526316, 0.3858571513151256), (0.06315789473684211, 0.7246362205272814), (-0.1368421052631579, 0.4222502818286719), (-0.1368421052631579, 0.4222502818286719), (0.042105263157894736, 0.8226828854421667), (-0.08421052631578947, 0.6307989462589767), (0.08421052631578947, 0.6307989462589767), (0.24210526315789474, 0.1458442183647273), (0.021052631578947368, 0.9235023313316655), (0.052631578947368425, 0.7732194749063227), (-0.08421052631578947, 0.6307989462589767), (0.16842105263157894, 0.31889648047194963), (-0.09473684210526316, 0.5858584459782121), (0.031578947368421054, 0.8728414598639421), (0.30526315789473685, 0.06380788453418215), (-0.23157894736842105, 0.16497640636360544), (-0.042105263157894736, 0.8226828854421667), (0.031578947368421054, 0.8728414598639421)]\n",
      "accum [(0.021052631578947368, 0.9235023313316655), (0.09230769230769231, 0.40153974523166347), (-0.010169491525423728, 0.9086015051566433), (0.07215189873417721, 0.34350476401744545), (0.05737373737373738, 0.39767260126056825), (-0.010084033613445377, 0.8702717482181481), (-0.017060637204522097, 0.7648983829330132), (0.001729559748427673, 0.9741046075744559), (-0.008317815021725636, 0.8683301715186346), (-0.04844221105527638, 0.3083477154751677), (-0.03370693233706932, 0.45687031580338044), (-0.042956764295676436, 0.3216879588460235), (-0.04383724383724383, 0.2922542813333626), (-0.06886840757808502, 0.0858254567034823), (-0.056677814938684505, 0.14319688358119267), (-0.03428683385579937, 0.36018829076968406), (-0.033454797848342877, 0.35727289957665853), (-0.010523057876818322, 0.7656709937717051), (0.009970837383696708, 0.7716524156015622), (-0.013709273182957395, 0.6821829470142708), (-0.013274235708603253, 0.6844725152799506), (-0.02509836405052806, 0.4315322945781127), (-0.010571184995737426, 0.7347598602669582), (0.004575504523312456, 0.8809065829468902), (-0.0019879759519038074, 0.9470226526942931)]\n"
     ]
    },
    {
     "name": "stderr",
     "output_type": "stream",
     "text": [
      "\n"
     ]
    },
    {
     "data": {
      "image/png": "[encoded data removed]",
      "text/plain": [
       "<Figure size 432x288 with 1 Axes>"
      ]
     },
     "metadata": {
      "needs_background": "light"
     },
     "output_type": "display_data"
    }
   ],
   "source": [
    "lists = [visual_layer]\n",
    "# correlation  ,   p-value\n",
    "batch_corr_list_3_pa, accumulate_corr_list_3_pa = network_dev(vocab, lists, preferential_attachment, start_words, N)\n",
    "plot_correlation(batch_corr_list_3_pa, accumulate_corr_list_3_pa)"
   ]
  },
  {
   "cell_type": "code",
   "execution_count": 244,
   "metadata": {},
   "outputs": [
    {
     "name": "stderr",
     "output_type": "stream",
     "text": [
      "  0%|          | 0/500 [00:00<?, ?it/s]"
     ]
    },
    {
     "name": "stdout",
     "output_type": "stream",
     "text": [
      "Vocab:  511\n",
      "initial network size: 11\n"
     ]
    },
    {
     "name": "stderr",
     "output_type": "stream",
     "text": [
      "100%|██████████| 500/500 [03:15<00:00,  2.56it/s]"
     ]
    },
    {
     "name": "stdout",
     "output_type": "stream",
     "text": [
      "batch [(-0.0736842105263158, 0.6771082386478994), (-0.010526315789473684, 0.9744669029388741), (-0.052631578947368425, 0.7732194749063227), (0.37894736842105264, 0.01978440310624434), (0.08421052631578947, 0.6307989462589767), (-0.12631578947368421, 0.4605237944389165), (-0.021052631578947368, 0.9235023313316655), (0.09473684210526316, 0.5858584459782121), (-0.1473684210526316, 0.3858571513151256), (0.17894736842105263, 0.2883781963764095), (0.021052631578947368, 0.9235023313316655), (0.19999999999999998, 0.23326655710712652), (0.11578947368421053, 0.5006096271664154), (0.37894736842105264, 0.01978440310624434), (0.3157894736842105, 0.054753545747263134), (-0.052631578947368425, 0.7732194749063227), (-0.16842105263157894, 0.31889648047194963), (0.052631578947368425, 0.7732194749063227), (0.19999999999999998, 0.23326655710712652), (-0.18947368421052632, 0.2598399893189163), (0.052631578947368425, 0.7732194749063227), (0.25263157894736843, 0.12841351117075267), (-0.15789473684210525, 0.3513948581732795), (-0.28421052631578947, 0.08550171523715203), (0.2736842105263158, 0.0983302187347563)]\n",
      "accum [(-0.0736842105263158, 0.6771082386478994), (0.27692307692307694, 0.01184853787093589), (-0.005649717514124294, 0.949145976497315), (-0.043670886075949364, 0.5664121961629776), (-0.011313131313131315, 0.8675474521487962), (0.024369747899159664, 0.6930836021675568), (0.048304213771839674, 0.39715072526984996), (0.09103773584905661, 0.0875220234040872), (-0.016883923029174425, 0.736487491005367), (0.04904522613065326, 0.30236452949626536), (-0.01984225819842258, 0.6614033647527313), (0.004044630404463041, 0.9256588903081973), (-0.03243243243243243, 0.4358685259321541), (-0.0031746031746031746, 0.9368840722144636), (0.022653288740245265, 0.5584569688775529), (0.040242946708463956, 0.28284238577462406), (-0.020544855110185667, 0.5718481505211013), (0.044227793252862885, 0.21033179054374407), (-0.0038883488404388273, 0.9098914724926277), (0.01691729323308271, 0.613342963263164), (-0.06471189907944086, 0.04758655293990685), (0.03683992545040381, 0.24827560492262235), (-0.02809510277540968, 0.3678900078567299), (0.003061934585942936, 0.9201380624159248), (-0.006460921843687374, 0.8290268073490725)]\n"
     ]
    },
    {
     "name": "stderr",
     "output_type": "stream",
     "text": [
      "\n"
     ]
    },
    {
     "data": {
      "image/png": "[encoded data removed]",
      "text/plain": [
       "<Figure size 432x288 with 1 Axes>"
      ]
     },
     "metadata": {
      "needs_background": "light"
     },
     "output_type": "display_data"
    }
   ],
   "source": [
    "lists = [lancaster_layer]\n",
    "# correlation  ,   p-value\n",
    "batch_corr_list_3_pa, accumulate_corr_list_3_pa = network_dev(vocab, lists, preferential_attachment, start_words, N)\n",
    "plot_correlation(batch_corr_list_3_pa, accumulate_corr_list_3_pa)"
   ]
  },
  {
   "cell_type": "markdown",
   "metadata": {},
   "source": [
    "## Cosine Distance attachment"
   ]
  },
  {
   "cell_type": "code",
   "execution_count": 16,
   "metadata": {},
   "outputs": [
    {
     "data": {
      "text/plain": [
       "(529, 496, 524)"
      ]
     },
     "execution_count": 16,
     "metadata": {},
     "output_type": "execute_result"
    }
   ],
   "source": [
    "word_vectors = pickle.load( open( \"word_layer_vectors.pickle\", \"rb\" ))\n",
    "visual_vectors = pickle.load( open( \"visual_layer_vectors.pickle\", \"rb\" ))\n",
    "lancaster_vectors = pickle.load( open( \"lancaster_layer_vectors.pickle\", \"rb\" ))\n",
    "len(word_vectors), len(visual_vectors), len(lancaster_vectors)"
   ]
  },
  {
   "cell_type": "code",
   "execution_count": 17,
   "metadata": {},
   "outputs": [
    {
     "data": {
      "text/plain": [
       "466"
      ]
     },
     "execution_count": 17,
     "metadata": {},
     "output_type": "execute_result"
    }
   ],
   "source": [
    "word_list = [tens for tens in word_vectors]\n",
    "visual_list = [l for l in visual_vectors]\n",
    "lancaster_list = [x for x in lancaster_vectors]\n",
    "\n",
    "vec_vocab = list(set(word_list) & set(visual_list) & set(lancaster_list))\n",
    "vec_vocab = [x for x in vec_vocab if x in aoa_vocab]\n",
    "len(vec_vocab)"
   ]
  },
  {
   "cell_type": "code",
   "execution_count": 27,
   "metadata": {},
   "outputs": [
    {
     "data": {
      "text/plain": [
       "['yes', 'water', 'wet', 'spoon', 'mommy', 'nap']"
      ]
     },
     "execution_count": 27,
     "metadata": {},
     "output_type": "execute_result"
    }
   ],
   "source": [
    "## these should be the start words for ALL networks!!!!!!1\n",
    "\n",
    "aoa_n = aoa[aoa.Word.isin(vec_vocab)]\n",
    "aoa_sorted = aoa_n.sort_values(by='Rating.Mean', ascending=True)\n",
    "\n",
    "start_words = list(aoa_sorted.Word.values[:6])\n",
    "\n",
    "start_words"
   ]
  },
  {
   "cell_type": "code",
   "execution_count": 28,
   "metadata": {},
   "outputs": [],
   "source": [
    "vector_lists = [word_emb_layer, visual_layer, lancaster_layer, co_oc, phon_conn, free_assoc, feat_norms]"
   ]
  },
  {
   "cell_type": "code",
   "execution_count": 29,
   "metadata": {},
   "outputs": [],
   "source": [
    "cosine_graph = construct_graph_from_vocab(vec_vocab, [word_emb_layer, visual_layer, lancaster_layer])"
   ]
  },
  {
   "cell_type": "code",
   "execution_count": 30,
   "metadata": {},
   "outputs": [],
   "source": [
    "def cosine_sim(G, list_connections):\n",
    "    \n",
    "    word_sim_list = []\n",
    "    visual_sim_list = []\n",
    "    lancaster_sim_list = []\n",
    "    \n",
    "    # this iterates through one nodes connections\n",
    "    for conn in list_connections:\n",
    "        # get sim score for word embedding\n",
    "        word_score = torch.cosine_similarity(word_vectors[conn[0]].unsqueeze(0).cpu(), word_vectors[conn[1]].unsqueeze(0).cpu())\n",
    "        word_sim_list.append(word_score.numpy()[0])\n",
    "        \n",
    "        # get sim score for visual embedding\n",
    "        x_visual = np.array(visual_vectors[conn[0]])\n",
    "        y_visual = np.array(visual_vectors[conn[1]])    \n",
    "        x_visual.reshape(1,-1)\n",
    "        y_visual.reshape(1,-1)\n",
    "        visual_score = cosine_similarity(x_visual.reshape(1,-1),y_visual.reshape(1,-1))\n",
    "        visual_sim_list.append(visual_score)\n",
    "        \n",
    "        # get sim score for lancaster embedding\n",
    "        x_lancaster = lancaster_vectors[conn[0]]\n",
    "        y_lancaster = lancaster_vectors[conn[1]]\n",
    "        lancaster_score = dot(x_lancaster, y_lancaster)/(norm(x_lancaster)*(norm(y_lancaster)))\n",
    "        lancaster_sim_list.append(lancaster_score)\n",
    "\n",
    "    \n",
    "    # return the averages of the score lists\n",
    "    word_avg = np.mean([avg for avg in word_sim_list])\n",
    "    visual_avg = np.mean([avg for avg in visual_sim_list])\n",
    "    lancaster_avg = np.mean([avg for avg in lancaster_sim_list]) \n",
    "    avg = np.mean([word_avg, visual_avg, lancaster_avg])\n",
    "#     avg = visual_avg\n",
    "    if math.isnan(avg): avg = 0\n",
    "    # return the three averages\n",
    "    return avg\n",
    "        "
   ]
  },
  {
   "cell_type": "code",
   "execution_count": 31,
   "metadata": {},
   "outputs": [],
   "source": [
    "def cosine_attachment(G, newly_added):\n",
    "    '''\n",
    "     cosine attachment function call takes in a graph \n",
    "     and a list of tuples --> for each node in the batch list,\n",
    "     get all of its edges and create a list of tuples.\n",
    "    '''\n",
    "    \n",
    "    # create a list of tuples (node, edge) for each edge a node has\n",
    "    list_conns = get_node_connections(G, newly_added)\n",
    "    \n",
    "    node_avgs_list = []\n",
    "    for arr in list_conns:\n",
    "     \n",
    "        # compute cosine similarity on batch nodes\n",
    "        preds = cosine_sim(G, arr) # returns an average for word, visual and lancaster for one node\n",
    "        # get the average of all the attachments for each node\n",
    "        node_avgs_list.append(preds)\n",
    "       \n",
    "    \n",
    "    # list with averages preferential attachment scores for each node in batch\n",
    "    zip_lists = list(zip(newly_added, node_avgs_list))\n",
    "\n",
    "\n",
    "    return zip_lists"
   ]
  },
  {
   "cell_type": "code",
   "execution_count": 60,
   "metadata": {},
   "outputs": [
    {
     "name": "stdout",
     "output_type": "stream",
     "text": [
      "Vocab:  466\n",
      "initial network size: 6\n"
     ]
    },
    {
     "name": "stderr",
     "output_type": "stream",
     "text": [
      "460it [03:13,  2.38it/s]                                                          "
     ]
    },
    {
     "name": "stdout",
     "output_type": "stream",
     "text": [
      "batch [(0.24210526315789474, 0.1458442183647273), (0.021052631578947368, 0.9235023313316655), (0.19999999999999998, 0.23326655710712652), (0.010526315789473684, 0.9744669029388741), (0.15789473684210525, 0.3513948581732795), (-0.1368421052631579, 0.4222502818286719), (0.2105263157894737, 0.20862839781386747), (0.2105263157894737, 0.20862839781386747), (0.06315789473684211, 0.7246362205272814), (-0.22105263157894736, 0.18588304288709082), (-0.12631578947368421, 0.4605237944389165), (0.052631578947368425, 0.7732194749063227), (-0.17894736842105263, 0.2883781963764095), (-0.23157894736842105, 0.16497640636360544), (-0.031578947368421054, 0.8728414598639421), (0.25263157894736843, 0.12841351117075267), (0.031578947368421054, 0.8728414598639421), (0.10526315789473685, 0.5424221448910934), (-0.010526315789473684, 0.9744669029388741), (0.19999999999999998, 0.23326655710712652), (-0.2105263157894737, 0.20862839781386747), (0.042105263157894736, 0.8226828854421667), (-0.2105263157894737, 0.20862839781386747)]\n",
      "accum [(0.24210526315789474, 0.1458442183647273), (-0.11538461538461539, 0.29436542809529465), (0.1310734463276836, 0.13895885088482227), (0.010759493670886076, 0.8876657155114144), (-0.06464646464646466, 0.34059140220796036), (-0.03725490196078431, 0.5462745592606176), (-0.016238437821171636, 0.7759181745834451), (0.08081761006289308, 0.12931646973219174), (-0.01849782743637492, 0.7123702209637539), (0.05567839195979899, 0.24165289247998079), (0.06608551266085512, 0.14464776114824626), (-0.01771269177126918, 0.6828151638827463), (0.006474606474606474, 0.8763858975788921), (0.0726062467997952, 0.07012878958180692), (0.012352285395763657, 0.7496811556434966), (0.05047021943573668, 0.17801586773270495), (-0.059899357973277806, 0.09930187719555626), (0.01532033426183844, 0.6643506705210263), (-0.0028884877100402717, 0.9329982496096685), (0.004761904761904762, 0.88689464851007), (0.0214569837481532, 0.5112656730702614), (0.045992959204804305, 0.1494716584359308), (0.042152126551103536, 0.17671059001995448)]\n"
     ]
    },
    {
     "name": "stderr",
     "output_type": "stream",
     "text": [
      "\n"
     ]
    }
   ],
   "source": [
    "lists = [ word_emb_layer, visual_layer, lancaster_layer]\n",
    "\n",
    "batch_corr_list, accumulate_corr_list, agg = network_dev(vec_vocab, lists, cosine_attachment, start_words, 20)\n",
    "# plot_correlation(batch_corr_list, accumulate_corr_list)\n",
    "pickle.dump(batch_corr_list, open( \"3_cos_7.pickle\", \"wb\" ))"
   ]
  },
  {
   "cell_type": "code",
   "execution_count": 64,
   "metadata": {},
   "outputs": [],
   "source": [
    "def degree_file(aggregate):\n",
    "    degree_dict = {}\n",
    "    for node in aggregate.nodes:\n",
    "        degree_dict[node] = aggregate.degree(node)\n",
    "    \n",
    "    a_file = open(\"network_degrees.pkl\", \"wb\")\n",
    "    pickle.dump(degree_dict, a_file)\n",
    "    a_file.close()\n"
   ]
  },
  {
   "cell_type": "code",
   "execution_count": 65,
   "metadata": {},
   "outputs": [],
   "source": [
    "degree_file(agg)"
   ]
  },
  {
   "cell_type": "code",
   "execution_count": 66,
   "metadata": {},
   "outputs": [
    {
     "name": "stdout",
     "output_type": "stream",
     "text": [
      "{'yes': 5, 'water': 15, 'wet': 2, 'spoon': 32, 'mommy': 27, 'nap': 2, 'fork': 32, 'ice': 1, 'cheese': 71, 'chocolate': 74, 'sleep': 28, 'daddy': 11, 'butter': 16, 'hot': 2, 'me': 32, 'you': 52, 'balloon': 111, 'blue': 98, 'why': 44, 'sun': 124, 'asleep': 3, 'think': 39, 'swim': 8, 'cat': 110, 'turtle': 83, 'do': 42, 'red': 5, 'animal': 28, 'dark': 10, 'potato': 12, 'bread': 11, 'alligator': 6, 'candy': 15, 'pizza': 4, 'toast': 10, 'kitty': 11, 'snack': 20, 'morning': 10, 'jelly': 14, 'sky': 36, 'awake': 9, 'get': 69, 'sauce': 12, 'vanilla': 2, 'like': 51, 'go': 67, 'run': 7, 'pumpkin': 2, 'away': 45, 'cake': 47, 'night': 35, 'money': 4, 'where': 58, 'stop': 7, 'green': 42, 'white': 29, 'time': 61, 'sit': 6, 'sandwich': 10, 'back': 39, 'break': 29, 'owl': 7, 'pudding': 6, 'here': 64, 'dog': 78, 'soup': 9, 'brown': 3, 'baby': 9, 'fall': 9, 'last': 48, 'open': 4, 'try': 28, 'cookie': 9, 'long': 16, 'country': 10, 'down': 27, 'dish': 1, 'breakfast': 13, 'black': 92, 'give': 40, 'yellow': 93, 'duck': 25, 'walk': 2, 'meat': 13, 'need': 48, 'cold': 5, 'dinner': 2, 'goose': 9, 'light': 98, 'find': 50, 'milk': 26, 'help': 60, 'she': 33, 'hamburger': 16, 'push': 7, 'juice': 4, 'love': 31, 'pull': 9, 'tree': 82, 'he': 48, 'horse': 93, 'star': 26, 'hat': 38, 'soda': 10, 'frog': 43, 'lamb': 11, 'coke': 3, 'build': 6, 'who': 10, 'snow': 17, 'him': 69, 'game': 7, 'eat': 2, 'pig': 62, 'say': 35, 'under': 36, 'first': 50, 'grass': 67, 'same': 49, 'deer': 40, 'little': 40, 'garden': 35, 'room': 50, 'window': 38, 'boy': 35, 'lamp': 11, 'bathroom': 11, 'moose': 1, 'door': 4, 'bed': 6, 'house': 5, 'basement': 5, 'teacher': 15, 'street': 5, 'empty': 9, 'kitchen': 34, 'girl': 22, 'sheep': 31, 'cow': 62, 'bird': 64, 'rain': 63, 'man': 22, 'camera': 45, 'pool': 13, 'elephant': 63, 'her': 32, 'sofa': 4, 'shower': 3, 'garage': 1, 'child': 26, 'person': 5, 'sister': 11, 'friend': 37, 'happy': 15, 'knife': 8, 'touch': 1, 'flower': 107, 'bedroom': 82, 'home': 11, 'roof': 22, 'wait': 20, 'food': 11, 'wolf': 146, 'bear': 77, 'before': 41, 'drive': 1, 'lion': 4, 'brother': 13, 'people': 28, 'head': 5, 'big': 25, 'mouse': 62, 'hand': 38, 'tiger': 136, 'close': 40, 'puppy': 50, 'bring': 34, 'up': 54, 'cereal': 20, 'play': 23, 'stand': 2, 'coffee': 36, 'park': 1, 'hair': 12, 'how': 60, 'after': 25, 'face': 4, 'corn': 8, 'toy': 44, 'squirrel': 103, 'put': 72, 'new': 22, 'good': 53, 'much': 60, 'bunny': 98, 'cup': 1, 'inside': 31, 'bat': 26, 'glass': 8, 'picture': 40, 'off': 33, 'not': 57, 'finger': 19, 'plant': 77, 'fast': 6, 'flag': 129, 'doll': 9, 'paper': 17, 'airplane': 141, 'make': 56, 'bottle': 43, 'coat': 21, 'out': 80, 'truck': 91, 'ant': 16, 'around': 36, 'circus': 46, 'stick': 19, 'block': 21, 'lunch': 11, 'because': 59, 'beach': 59, 'car': 73, 'rooster': 88, 'boat': 50, 'another': 43, 'jacket': 6, 'bus': 21, 'ball': 6, 'box': 5, 'bicycle': 21, 'dress': 116, 'tractor': 82, 'cut': 5, 'hit': 2, 'clock': 93, 'chalk': 3, 'motorcycle': 52, 'better': 63, 'have': 52, 'zebra': 93, 'tuna': 6, 'clown': 96, 'couch': 30, 'closet': 2, 'hold': 16, 'throw': 2, 'sweater': 3, 'kick': 1, 'catch': 8, 'basket': 1, 'carry': 3, 'train': 46, 'shirt': 39, 'table': 6, 'drop': 7, 'pony': 74, 'with': 34, 'farm': 6, 'hammer': 38, 'take': 69, 'old': 26, 'dance': 26, 'other': 35, 'helicopter': 108, 'what': 50, 'police': 39, 'scarf': 1, 'wind': 37, 'all': 82, 'will': 50, 'now': 67, 'porch': 2, 'ride': 14, 'popcorn': 7, 'bucket': 6, 'moon': 122, 'towel': 3, 'butterfly': 75, 'bad': 39, 'cute': 51, 'behind': 19, 'nice': 13, 'over': 50, 'full': 23, 'spaghetti': 6, 'dirty': 4, 'doctor': 9, 'be': 61, 'wish': 11, 'climb': 7, 'bee': 37, 'kiss': 36, 'egg': 22, 'uncle': 12, 'today': 59, 'jump': 17, 'some': 53, 'none': 25, 'downtown': 26, 'there': 54, 'day': 48, 'cover': 6, 'pretty': 10, 'chair': 99, 'more': 64, 'ladder': 4, 'high': 27, 'nurse': 13, 'nail': 26, 'hard': 24, 'cloud': 62, 'ear': 7, 'no': 46, 'outside': 16, 'necklace': 118, 'book': 3, 'penguin': 121, 'bowl': 2, 'fine': 38, 'bug': 11, 'smile': 65, 'button': 114, 'tape': 7, 'pick': 2, 'banana': 51, 'read': 2, 'story': 2, 'pen': 1, 'broom': 3, 'soft': 1, 'pencil': 24, 'school': 33, 'purse': 5, 'yard': 4, 'show': 13, 'lady': 32, 'medicine': 1, 'slow': 19, 'apple': 60, 'buy': 39, 'tooth': 3, 'tiny': 16, 'finish': 33, 'mad': 2, 'playground': 18, 'write': 1, 'movie': 2, 'strawberry': 25, 'mouth': 21, 'pretend': 1, 'telephone': 19, 'hurry': 1, 'drawer': 21, 'eye': 102, 'bath': 4, 'please': 18, 'heavy': 4, 'skate': 38, 'zipper': 10, 'puzzle': 41, 'hurt': 10, 'present': 37, 'sink': 6, 'tomorrow': 5, 'careful': 48, 'tongue': 2, 'vacuum': 6, 'sad': 88, 'rock': 18, 'above': 1, 'dump': 4, 'oven': 28, 'sick': 4, 'hear': 5, 'yesterday': 5, 'splash': 1, 'wake': 5, 'trash': 5, 'on': 40, 'stay': 13, 'look': 33, 'spill': 5, 'when': 43, 'tray': 5, 'share': 8, 'listen': 2, 'cheek': 2, 'garbage': 3, 'paint': 2, 'hate': 6, 'talk': 11, 'for': 37, 'salt': 5, 'tonight': 34, 'church': 11, 'comb': 1, 'hen': 3, 'bump': 4, 'cowboy': 55, 'poor': 20, 'aunt': 10, 'fix': 25, 'sweep': 1, 'store': 26, 'tissue': 7, 'glue': 1, 'a': 22, 'shovel': 3, 'party': 5, 'draw': 2, 'shake': 6, 'wash': 5, 'plate': 6, 'mine': 42, 'ankle': 18, 'hide': 12, 'refrigerator': 7, 'brush': 2, 'see': 41, 'gentle': 6, 'tear': 8, 'knee': 4, 'grandpa': 17, 'cook': 0, 'rip': 0, 'leg': 2, 'shoulder': 3, 'grandma': 1, 'pour': 1, 'radio': 0, 'quiet': 0, 'cry': 0, 'taste': 0, 'pillow': 0, 'sidewalk': 0, 'belt': 0, 'arm': 0, 'gum': 0, 'jar': 0, 'stone': 0, 'zoo': 0, 'wipe': 0, 'hungry': 1, 'noisy': 0, 'sing': 0, 'thirsty': 1, 'nose': 1, 'chase': 0, 'bye': 0, 'penny': 0, 'lick': 0, 'loud': 0, 'bite': 0, 'hose': 0, 'toe': 0, 'bench': 0, 'blow': 0, 'soap': 0, 'picnic': 0, 'hug': 0, 'napkin': 0, 'sticky': 0, 'blanket': 0, 'knock': 0, 'sleepy': 0}\n"
     ]
    }
   ],
   "source": [
    "a_file = open(\"network_degrees.pkl\", \"rb\")\n",
    "output = pickle.load(a_file)\n",
    "print(output)"
   ]
  },
  {
   "cell_type": "code",
   "execution_count": 253,
   "metadata": {},
   "outputs": [
    {
     "name": "stderr",
     "output_type": "stream",
     "text": [
      "  0%|          | 0/455 [00:00<?, ?it/s]"
     ]
    },
    {
     "name": "stdout",
     "output_type": "stream",
     "text": [
      "Vocab:  466\n",
      "initial network size: 11\n"
     ]
    },
    {
     "name": "stderr",
     "output_type": "stream",
     "text": [
      "460it [00:05, 84.00it/s]                          \n"
     ]
    },
    {
     "name": "stdout",
     "output_type": "stream",
     "text": [
      "batch [(-0.2631578947368421, 0.11260412706479736), (-0.052631578947368425, 0.7732194749063227), (-0.2736842105263158, 0.0983302187347563), (0.06315789473684211, 0.7246362205272814), (-0.021052631578947368, 0.9235023313316655), (-0.12631578947368421, 0.4605237944389165), (-0.1368421052631579, 0.4222502818286719), (0.031578947368421054, 0.8728414598639421), (-0.09473684210526316, 0.5858584459782121), (0.052631578947368425, 0.7732194749063227), (-0.1473684210526316, 0.3858571513151256), (0.11578947368421053, 0.5006096271664154), (-0.19999999999999998, 0.23326655710712652), (-0.10526315789473685, 0.5424221448910934), (-0.0736842105263158, 0.6771082386478994), (0.031578947368421054, 0.8728414598639421), (-0.3684210526315789, 0.02373449564495179), (-0.042105263157894736, 0.8226828854421667), (-0.08421052631578947, 0.6307989462589767), (-0.10526315789473685, 0.5424221448910934), (0.2105263157894737, 0.20862839781386747), (0.18947368421052632, 0.2598399893189163), (-0.08571428571428572, 0.6971814254173712)]\n",
      "accum [(-0.2631578947368421, 0.11260412706479736), (0.07435897435897437, 0.49919303182919805), (0.08135593220338982, 0.3583981667810364), (-0.07341772151898733, 0.3351052493834663), (-0.06989898989898992, 0.30280894319079166), (-0.031932773109243695, 0.6050452811027427), (0.04316546762589928, 0.4492630662026661), (-0.07814465408805032, 0.1424750444178404), (0.04096834264432029, 0.4141983170739313), (-0.042110552763819094, 0.3758621137718353), (-0.0394354503943545, 0.38405165838125055), (-0.06457461645746165, 0.13630044888123447), (0.017404217404217402, 0.6758476145767467), (0.010701484895033284, 0.7895184168194556), (-0.03959866220735786, 0.30638617324841355), (-0.020689655172413793, 0.580851766214068), (-0.018011452368558042, 0.620162386909521), (-0.00897554936552151, 0.7993314545051917), (-0.016525482571865015, 0.6305196341932184), (-0.04854636591478697, 0.14704596611742587), (-0.0221388794181157, 0.49793450566130504), (-0.010457651687720023, 0.7431094303257262), (-0.0012102435009923996, 0.9692295065682284)]\n"
     ]
    },
    {
     "data": {
      "image/png": "[encoded data removed]",
      "text/plain": [
       "<Figure size 432x288 with 1 Axes>"
      ]
     },
     "metadata": {
      "needs_background": "light"
     },
     "output_type": "display_data"
    }
   ],
   "source": [
    "lists = [ word_emb_layer]\n",
    "\n",
    "batch_corr_list, accumulate_corr_list = network_dev(vec_vocab, lists, cosine_attachment, start_words, N)\n",
    "\n",
    "plot_correlation(batch_corr_list, accumulate_corr_list)"
   ]
  },
  {
   "cell_type": "code",
   "execution_count": 139,
   "metadata": {},
   "outputs": [
    {
     "name": "stdout",
     "output_type": "stream",
     "text": [
      "Vocab:  466\n",
      "initial network size: 11\n"
     ]
    },
    {
     "name": "stderr",
     "output_type": "stream",
     "text": [
      "460it [00:06, 71.16it/s]                                                                              "
     ]
    },
    {
     "name": "stdout",
     "output_type": "stream",
     "text": [
      "batch [(0.042105263157894736, 0.8226828854421667), (-0.021052631578947368, 0.9235023313316655), (-0.11578947368421053, 0.5006096271664154), (-0.2105263157894737, 0.20862839781386747), (0.16842105263157894, 0.31889648047194963), (0.10526315789473685, 0.5424221448910934), (-0.17894736842105263, 0.2883781963764095), (-0.22105263157894736, 0.18588304288709082), (0.031578947368421054, 0.8728414598639421), (-0.010526315789473684, 0.9744669029388741), (0.3263157894736842, 0.04676893674989459), (0.031578947368421054, 0.8728414598639421), (0.06315789473684211, 0.7246362205272814), (-0.052631578947368425, 0.7732194749063227), (-0.10526315789473685, 0.5424221448910934), (-0.2105263157894737, 0.20862839781386747), (-0.23157894736842105, 0.16497640636360544), (0.1368421052631579, 0.4222502818286719), (-0.15789473684210525, 0.3513948581732795), (-0.19999999999999998, 0.23326655710712652), (-0.15789473684210525, 0.3513948581732795), (0.010526315789473684, 0.9744669029388741), (-0.21904761904761905, 0.2815660702955676)]\n",
      "accum [(0.042105263157894736, 0.8226828854421667), (0.03333333333333333, 0.761945571785528), (-0.014689265536723162, 0.8682937827713235), (0.01772151898734177, 0.8160245816422206), (0.04727272727272728, 0.48587831548781113), (0.0826330532212885, 0.1808110726480846), (0.05323741007194245, 0.35071956081937095), (-0.00031446540880503143, 0.9952909473071709), (-0.017504655493482308, 0.7271793481846963), (0.08492462311557789, 0.07411760049723053), (0.03495226234952262, 0.44041166408307253), (0.07252440725244073, 0.0943059072149462), (0.013483813483813481, 0.7459770671790508), (-0.025140809011776757, 0.530588388555334), (-0.025953177257525085, 0.5026212129369332), (0.012774294670846394, 0.7331749296541924), (-0.13041818497310428, 0.0003323175577227689), (-0.03135252243887341, 0.3745459758314418), (-0.010776281072073322, 0.7537810862179368), (-0.005989974937343359, 0.8580034699730434), (-0.02493465166496193, 0.44526605588383017), (-0.01480637813211845, 0.6426293161952747), (0.031069371157476884, 0.32203305668684257)]\n"
     ]
    },
    {
     "name": "stderr",
     "output_type": "stream",
     "text": [
      "\n"
     ]
    }
   ],
   "source": [
    "lists = [visual_layer]\n",
    "\n",
    "batch_corr_list, accumulate_corr_list = network_dev(vec_vocab, lists, cosine_attachment, start_words, N)\n",
    "\n",
    "# plot_correlation(batch_corr_list, accumulate_corr_list)\n",
    "pickle.dump(batch_corr_list, open( \"visual_cos_8.pickle\", \"wb\" ))\n"
   ]
  },
  {
   "cell_type": "code",
   "execution_count": 255,
   "metadata": {},
   "outputs": [
    {
     "name": "stderr",
     "output_type": "stream",
     "text": [
      "  0%|          | 0/455 [00:00<?, ?it/s]"
     ]
    },
    {
     "name": "stdout",
     "output_type": "stream",
     "text": [
      "Vocab:  466\n",
      "initial network size: 11\n"
     ]
    },
    {
     "name": "stderr",
     "output_type": "stream",
     "text": [
      "460it [03:22,  2.28it/s]                         "
     ]
    },
    {
     "name": "stdout",
     "output_type": "stream",
     "text": [
      "batch [(0.09473684210526316, 0.5858584459782121), (-0.042105263157894736, 0.8226828854421667), (0.0, 1.0), (0.1368421052631579, 0.4222502818286719), (0.09473684210526316, 0.5858584459782121), (0.10526315789473685, 0.5424221448910934), (-0.2105263157894737, 0.20862839781386747), (-0.08421052631578947, 0.6307989462589767), (-0.08421052631578947, 0.6307989462589767), (0.0736842105263158, 0.6771082386478994), (-0.18947368421052632, 0.2598399893189163), (0.18947368421052632, 0.2598399893189163), (0.24210526315789474, 0.1458442183647273), (-0.22105263157894736, 0.18588304288709082), (0.031578947368421054, 0.8728414598639421), (0.021052631578947368, 0.9235023313316655), (0.09473684210526316, 0.5858584459782121), (0.1368421052631579, 0.4222502818286719), (-0.15789473684210525, 0.3513948581732795), (0.23157894736842105, 0.16497640636360544), (0.25263157894736843, 0.12841351117075267), (-0.09473684210526316, 0.5858584459782121), (0.04761904761904762, 0.845841042458974)]\n",
      "accum [(0.09473684210526316, 0.5858584459782121), (-0.05128205128205128, 0.6411858797379665), (0.10621468926553672, 0.2305083208370775), (-0.043670886075949364, 0.5664121961629776), (0.06101010101010102, 0.36844428764563175), (0.03417366946778711, 0.5799548371308785), (0.022816032887975332, 0.6892003456439415), (0.10833333333333334, 0.04202989327310716), (-0.015270018621973929, 0.7608672067230458), (-0.002814070351758794, 0.9528108806371752), (0.06467413864674139, 0.15342239503785204), (-0.04337517433751744, 0.3169971707520649), (0.023997623997623996, 0.5642484813127415), (0.052278545826932935, 0.19222430965735904), (-0.02278706800445931, 0.5561360161383151), (0.026214733542319752, 0.4841848133365013), (-0.02075307999305917, 0.5679579933273098), (-0.02342927886103373, 0.5069578294271986), (-0.027635050687404523, 0.4211925784148456), (0.03268170426065163, 0.3289757732566534), (-0.00018183884532333222, 0.9955584552455489), (0.017312072892938495, 0.587437501110373), (-0.01567507382485356, 0.6173433899665766)]\n"
     ]
    },
    {
     "name": "stderr",
     "output_type": "stream",
     "text": [
      "\n"
     ]
    },
    {
     "data": {
      "image/png": "[encoded data removed]",
      "text/plain": [
       "<Figure size 432x288 with 1 Axes>"
      ]
     },
     "metadata": {
      "needs_background": "light"
     },
     "output_type": "display_data"
    }
   ],
   "source": [
    "lists = [lancaster_layer]\n",
    "\n",
    "batch_corr_list, accumulate_corr_list = network_dev(vec_vocab, lists, cosine_attachment, start_words, N)\n",
    "\n",
    "plot_correlation(batch_corr_list, accumulate_corr_list)"
   ]
  },
  {
   "cell_type": "markdown",
   "metadata": {},
   "source": [
    "## Preferential acquisition"
   ]
  },
  {
   "cell_type": "markdown",
   "metadata": {},
   "source": [
    "For preferential acquisition, the utility of a candidate node is its degree in the entire network. In our example, candidate node 1 has two connections in total, whereas candidate node 2 has five connections. So we have node1 = 2 and node2 = 5. Thus, according to pa, node 2 is more likely to enter the lexicon next. This figure is based on an example from Hills et al. (2009)."
   ]
  },
  {
   "cell_type": "code",
   "execution_count": 140,
   "metadata": {},
   "outputs": [],
   "source": [
    "def preferential_acquisition(G, newly_added):\n",
    "    '''\n",
    "     preferntial acquisition function call takes in a graph \n",
    "     and a list of tuples --> for each node in the batch list,\n",
    "     get all of its edges and create a list of tuples.\n",
    "    '''\n",
    "    \n",
    "    # create a list of tuples (node, edge) for each edge a node has\n",
    "    list_conns = get_node_connections(G, newly_added)\n",
    "    \n",
    "    node_avgs_list = []\n",
    "    for arr in list_conns: # arr is a list of connections. \n",
    "#         print(arr)\n",
    "        num_conns = len(arr) # get the length of arr to find how many connections a node has\n",
    "\n",
    "        # get the average of all the attachments for each node\n",
    "        node_avgs_list.append(num_conns)\n",
    "   \n",
    "        \n",
    "    # list with averages preferential attachment scores for each node in batch\n",
    "    zip_lists = list(zip(newly_added, node_avgs_list))\n",
    "\n",
    "    return zip_lists"
   ]
  },
  {
   "cell_type": "code",
   "execution_count": 141,
   "metadata": {},
   "outputs": [
    {
     "name": "stdout",
     "output_type": "stream",
     "text": [
      "Vocab:  511\n",
      "initial network size: 11\n"
     ]
    },
    {
     "name": "stderr",
     "output_type": "stream",
     "text": [
      "  8%|█████                                                           | 40/500 [00:04<00:55,  8.23it/s]\n"
     ]
    },
    {
     "ename": "KeyboardInterrupt",
     "evalue": "",
     "output_type": "error",
     "traceback": [
      "\u001b[0;31m---------------------------------------------------------------------------\u001b[0m",
      "\u001b[0;31mKeyboardInterrupt\u001b[0m                         Traceback (most recent call last)",
      "\u001b[0;32m/var/folders/_x/crj23x4j1rs1l9p66zscxp1c0000gn/T/ipykernel_88071/4222408363.py\u001b[0m in \u001b[0;36m<module>\u001b[0;34m\u001b[0m\n\u001b[1;32m      1\u001b[0m \u001b[0mlists\u001b[0m \u001b[0;34m=\u001b[0m \u001b[0;34m[\u001b[0m\u001b[0mco_oc\u001b[0m\u001b[0;34m,\u001b[0m \u001b[0mphon_conn\u001b[0m\u001b[0;34m,\u001b[0m \u001b[0mfree_assoc\u001b[0m\u001b[0;34m,\u001b[0m \u001b[0mfeat_norms\u001b[0m\u001b[0;34m,\u001b[0m \u001b[0mword_emb_layer\u001b[0m\u001b[0;34m,\u001b[0m \u001b[0mvisual_layer\u001b[0m\u001b[0;34m,\u001b[0m \u001b[0mlancaster_layer\u001b[0m\u001b[0;34m]\u001b[0m\u001b[0;34m\u001b[0m\u001b[0;34m\u001b[0m\u001b[0m\n\u001b[1;32m      2\u001b[0m \u001b[0;31m# correlation  ,   p-value\u001b[0m\u001b[0;34m\u001b[0m\u001b[0;34m\u001b[0m\u001b[0m\n\u001b[0;32m----> 3\u001b[0;31m \u001b[0mbatch_corr_list_7_pac\u001b[0m\u001b[0;34m,\u001b[0m \u001b[0maccumulate_corr_list_7_pac\u001b[0m \u001b[0;34m=\u001b[0m \u001b[0mnetwork_dev\u001b[0m\u001b[0;34m(\u001b[0m\u001b[0mvocab\u001b[0m\u001b[0;34m,\u001b[0m \u001b[0mlists\u001b[0m\u001b[0;34m,\u001b[0m \u001b[0mpreferential_acquisition\u001b[0m\u001b[0;34m,\u001b[0m \u001b[0mstart_words\u001b[0m\u001b[0;34m,\u001b[0m \u001b[0mN\u001b[0m\u001b[0;34m)\u001b[0m\u001b[0;34m\u001b[0m\u001b[0;34m\u001b[0m\u001b[0m\n\u001b[0m\u001b[1;32m      4\u001b[0m \u001b[0;31m# plot_correlation(batch_corr_list_7_pac, accumulate_corr_list_7_pac)\u001b[0m\u001b[0;34m\u001b[0m\u001b[0;34m\u001b[0m\u001b[0m\n\u001b[1;32m      5\u001b[0m \u001b[0mpickle\u001b[0m\u001b[0;34m.\u001b[0m\u001b[0mdump\u001b[0m\u001b[0;34m(\u001b[0m\u001b[0mbatch_corr_list_7_pac\u001b[0m\u001b[0;34m,\u001b[0m \u001b[0mopen\u001b[0m\u001b[0;34m(\u001b[0m \u001b[0;34m\"7_pacq_7.pickle\"\u001b[0m\u001b[0;34m,\u001b[0m \u001b[0;34m\"wb\"\u001b[0m \u001b[0;34m)\u001b[0m\u001b[0;34m)\u001b[0m\u001b[0;34m\u001b[0m\u001b[0;34m\u001b[0m\u001b[0m\n",
      "\u001b[0;32m/var/folders/_x/crj23x4j1rs1l9p66zscxp1c0000gn/T/ipykernel_88071/3758888216.py\u001b[0m in \u001b[0;36mnetwork_dev\u001b[0;34m(vocab, list_layers, func, sub_vocab, N)\u001b[0m\n\u001b[1;32m     47\u001b[0m \u001b[0;34m\u001b[0m\u001b[0m\n\u001b[1;32m     48\u001b[0m \u001b[0;34m\u001b[0m\u001b[0m\n\u001b[0;32m---> 49\u001b[0;31m                 \u001b[0mN_1\u001b[0m \u001b[0;34m=\u001b[0m \u001b[0mconstruct_graph_from_vocab\u001b[0m\u001b[0;34m(\u001b[0m\u001b[0mnew_vocab\u001b[0m\u001b[0;34m,\u001b[0m \u001b[0mlist_layers\u001b[0m\u001b[0;34m)\u001b[0m\u001b[0;34m\u001b[0m\u001b[0;34m\u001b[0m\u001b[0m\n\u001b[0m\u001b[1;32m     50\u001b[0m                 \u001b[0;31m# get the pa for every node in the batch\u001b[0m\u001b[0;34m\u001b[0m\u001b[0;34m\u001b[0m\u001b[0m\n\u001b[1;32m     51\u001b[0m                 \u001b[0mpa\u001b[0m \u001b[0;34m=\u001b[0m \u001b[0mfunc\u001b[0m\u001b[0;34m(\u001b[0m\u001b[0mN_1\u001b[0m\u001b[0;34m,\u001b[0m \u001b[0;34m[\u001b[0m\u001b[0mword\u001b[0m\u001b[0;34m]\u001b[0m\u001b[0;34m)\u001b[0m\u001b[0;34m\u001b[0m\u001b[0;34m\u001b[0m\u001b[0m\n",
      "\u001b[0;32m/var/folders/_x/crj23x4j1rs1l9p66zscxp1c0000gn/T/ipykernel_88071/2345017703.py\u001b[0m in \u001b[0;36mconstruct_graph_from_vocab\u001b[0;34m(start_vocab, lists)\u001b[0m\n\u001b[1;32m      6\u001b[0m     \u001b[0;32mfor\u001b[0m \u001b[0ma_list\u001b[0m \u001b[0;32min\u001b[0m \u001b[0mlists\u001b[0m\u001b[0;34m:\u001b[0m\u001b[0;34m\u001b[0m\u001b[0;34m\u001b[0m\u001b[0m\n\u001b[1;32m      7\u001b[0m         \u001b[0;32mfor\u001b[0m \u001b[0mpair\u001b[0m \u001b[0;32min\u001b[0m \u001b[0ma_list\u001b[0m\u001b[0;34m:\u001b[0m\u001b[0;34m\u001b[0m\u001b[0;34m\u001b[0m\u001b[0m\n\u001b[0;32m----> 8\u001b[0;31m             \u001b[0;32mif\u001b[0m \u001b[0mpair\u001b[0m\u001b[0;34m[\u001b[0m\u001b[0;36m0\u001b[0m\u001b[0;34m]\u001b[0m \u001b[0;32mnot\u001b[0m \u001b[0;32min\u001b[0m \u001b[0mstart_vocab\u001b[0m\u001b[0;34m:\u001b[0m \u001b[0;32mcontinue\u001b[0m\u001b[0;34m\u001b[0m\u001b[0;34m\u001b[0m\u001b[0m\n\u001b[0m\u001b[1;32m      9\u001b[0m             \u001b[0;32mif\u001b[0m \u001b[0mpair\u001b[0m\u001b[0;34m[\u001b[0m\u001b[0;36m1\u001b[0m\u001b[0;34m]\u001b[0m \u001b[0;32mnot\u001b[0m \u001b[0;32min\u001b[0m \u001b[0mstart_vocab\u001b[0m\u001b[0;34m:\u001b[0m \u001b[0;32mcontinue\u001b[0m\u001b[0;34m\u001b[0m\u001b[0;34m\u001b[0m\u001b[0m\n\u001b[1;32m     10\u001b[0m             \u001b[0;32mif\u001b[0m \u001b[0maggregate\u001b[0m\u001b[0;34m.\u001b[0m\u001b[0mhas_edge\u001b[0m\u001b[0;34m(\u001b[0m\u001b[0mpair\u001b[0m\u001b[0;34m[\u001b[0m\u001b[0;36m0\u001b[0m\u001b[0;34m]\u001b[0m\u001b[0;34m,\u001b[0m \u001b[0mpair\u001b[0m\u001b[0;34m[\u001b[0m\u001b[0;36m1\u001b[0m\u001b[0;34m]\u001b[0m\u001b[0;34m)\u001b[0m\u001b[0;34m:\u001b[0m\u001b[0;34m\u001b[0m\u001b[0;34m\u001b[0m\u001b[0m\n",
      "\u001b[0;31mKeyboardInterrupt\u001b[0m: "
     ]
    }
   ],
   "source": [
    "lists = [co_oc, phon_conn, free_assoc, feat_norms, word_emb_layer, visual_layer, lancaster_layer]\n",
    "# correlation  ,   p-value\n",
    "batch_corr_list_7_pac, accumulate_corr_list_7_pac = network_dev(vocab, lists, preferential_acquisition, start_words, N)\n",
    "# plot_correlation(batch_corr_list_7_pac, accumulate_corr_list_7_pac)\n",
    "pickle.dump(batch_corr_list_7_pac, open( \"7_pacq_7.pickle\", \"wb\" ))"
   ]
  },
  {
   "cell_type": "code",
   "execution_count": 147,
   "metadata": {},
   "outputs": [
    {
     "data": {
      "text/plain": [
       "20"
      ]
     },
     "execution_count": 147,
     "metadata": {},
     "output_type": "execute_result"
    }
   ],
   "source": [
    "N"
   ]
  },
  {
   "cell_type": "code",
   "execution_count": 78,
   "metadata": {},
   "outputs": [
    {
     "name": "stdout",
     "output_type": "stream",
     "text": [
      "Vocab:  511\n",
      "initial network size: 11\n"
     ]
    },
    {
     "name": "stderr",
     "output_type": "stream",
     "text": [
      "100%|███████████████████████████████████████████████████████████████| 500/500 [01:45<00:00,  4.75it/s]"
     ]
    },
    {
     "name": "stdout",
     "output_type": "stream",
     "text": [
      "batch [(-0.22105263157894736, 0.18588304288709082), (-0.19999999999999998, 0.23326655710712652), (-0.15789473684210525, 0.3513948581732795), (-0.24210526315789474, 0.1458442183647273), (0.3263157894736842, 0.04676893674989459), (-0.052631578947368425, 0.7732194749063227), (-0.17894736842105263, 0.2883781963764095), (0.052631578947368425, 0.7732194749063227), (0.042105263157894736, 0.8226828854421667), (0.1368421052631579, 0.4222502818286719), (0.0, 1.0), (0.3473684210526316, 0.033643947242160896), (0.021052631578947368, 0.9235023313316655), (0.23157894736842105, 0.16497640636360544), (-0.052631578947368425, 0.7732194749063227), (0.06315789473684211, 0.7246362205272814), (-0.18947368421052632, 0.2598399893189163), (-0.042105263157894736, 0.8226828854421667), (0.010526315789473684, 0.9744669029388741), (-0.1368421052631579, 0.4222502818286719), (-0.06315789473684211, 0.7246362205272814), (0.08421052631578947, 0.6307989462589767), (0.0736842105263158, 0.6771082386478994), (-0.10526315789473685, 0.5424221448910934), (0.17894736842105263, 0.2883781963764095)]\n",
      "accum [(-0.22105263157894736, 0.18588304288709082), (0.12820512820512822, 0.24397711809038625), (-0.12090395480225988, 0.1722918377685264), (0.006962025316455696, 0.9271727172263463), (-0.03393939393939394, 0.6168472248997168), (-0.03809523809523809, 0.5372601700126395), (0.029804727646454265, 0.6013606775397555), (-0.0007861635220125786, 0.9882277270739314), (0.014649286157666046, 0.7703091373203612), (-0.0067336683417085425, 0.8873937133507169), (-0.07754254877542549, 0.08697226651329629), (0.05676429567642957, 0.19035512710093005), (-0.011404811404811404, 0.7840842791768534), (-0.023963133640552997, 0.5500185371885107), (-0.028940914158305464, 0.4547349667423335), (-0.01763322884012539, 0.6379444782885135), (0.018670831164324136, 0.6074167842781182), (-0.009130300216651191, 0.7959474369447561), (-0.023968893209276487, 0.4853987928355472), (-0.012030075187969926, 0.7193484665642699), (0.045959768155472216, 0.15943383407985712), (-0.03503831020915303, 0.27216691743662313), (0.002178649237472767, 0.9443333300645493), (0.05942936673625608, 0.05166053012855734), (0.005114228456913826, 0.8642725145099259)]\n"
     ]
    },
    {
     "name": "stderr",
     "output_type": "stream",
     "text": [
      "\n"
     ]
    }
   ],
   "source": [
    "lists = [co_oc, phon_conn, free_assoc, feat_norms]\n",
    "# correlation  ,   p-value\n",
    "batch_corr_list_4_pac, accumulate_corr_list_4_pac = network_dev(vocab, lists, preferential_acquisition, start_words, N)\n",
    "# plot_correlation(batch_corr_list_4_pac, accumulate_corr_list_4_pac)\n",
    "pickle.dump(batch_corr_list_4_pac, open( \"4_pacq_7.pickle\", \"wb\" ))"
   ]
  },
  {
   "cell_type": "code",
   "execution_count": 114,
   "metadata": {},
   "outputs": [
    {
     "name": "stdout",
     "output_type": "stream",
     "text": [
      "Vocab:  511\n",
      "initial network size: 11\n"
     ]
    },
    {
     "name": "stderr",
     "output_type": "stream",
     "text": [
      "100%|███████████████████████████████████████████████████████████████| 500/500 [03:25<00:00,  2.44it/s]"
     ]
    },
    {
     "name": "stdout",
     "output_type": "stream",
     "text": [
      "batch [(0.12631578947368421, 0.4605237944389165), (0.052631578947368425, 0.7732194749063227), (0.15789473684210525, 0.3513948581732795), (0.1473684210526316, 0.3858571513151256), (0.16842105263157894, 0.31889648047194963), (0.06315789473684211, 0.7246362205272814), (-0.08421052631578947, 0.6307989462589767), (0.30526315789473685, 0.06380788453418215), (-0.19999999999999998, 0.23326655710712652), (0.06315789473684211, 0.7246362205272814), (0.08421052631578947, 0.6307989462589767), (0.0736842105263158, 0.6771082386478994), (-0.010526315789473684, 0.9744669029388741), (-0.09473684210526316, 0.5858584459782121), (-0.031578947368421054, 0.8728414598639421), (0.10526315789473685, 0.5424221448910934), (-0.052631578947368425, 0.7732194749063227), (-0.12631578947368421, 0.4605237944389165), (0.18947368421052632, 0.2598399893189163), (-0.1473684210526316, 0.3858571513151256), (-0.010526315789473684, 0.9744669029388741), (0.10526315789473685, 0.5424221448910934), (-0.24210526315789474, 0.1458442183647273), (-0.08421052631578947, 0.6307989462589767), (-0.09473684210526316, 0.5858584459782121)]\n",
      "accum [(0.12631578947368421, 0.4605237944389165), (0.03076923076923077, 0.7797653555622553), (0.0384180790960452, 0.6645069553077867), (-0.07911392405063292, 0.29896028321378065), (0.05494949494949496, 0.4179127232103217), (0.024649859943977587, 0.6897382297343826), (-0.10174717368961973, 0.07450195215102026), (-0.04072327044025158, 0.4446864735785926), (-0.03339540657976412, 0.5056707115010896), (-0.010251256281407035, 0.8293194403478137), (-0.08152760481527604, 0.07193145055500591), (-0.004044630404463041, 0.9256588903081973), (-0.048945648945648935, 0.23962741372613694), (0.03476702508960574, 0.38581995270443403), (0.020557413600891864, 0.595419843612358), (0.018691222570532916, 0.6179138184263682), (0.056533055700156175, 0.11979914384428299), (0.013432373878056328, 0.7036173143018984), (-0.024496597694764612, 0.47584252387512505), (-0.04626566416040101, 0.1669956223616691), (-0.0352085464257302, 0.28110144546373406), (0.012694139573410644, 0.6907562045965256), (0.012692999905276121, 0.6841521472484893), (0.016701461377870562, 0.5844668799749063), (0.05832464929859719, 0.05124249231856188)]\n"
     ]
    },
    {
     "name": "stderr",
     "output_type": "stream",
     "text": [
      "\n"
     ]
    }
   ],
   "source": [
    "lists = [word_emb_layer, visual_layer, lancaster_layer]\n",
    "# correlation  ,   p-value\n",
    "batch_corr_list_3_pac, accumulate_corr_list_3_pac = network_dev(vocab, lists, preferential_acquisition, start_words, N)\n",
    "# plot_correlation(batch_corr_list_3_pac, accumulate_corr_list_3_pac)\n",
    "pickle.dump(batch_corr_list_3_pac, open( \"3_pacq_7.pickle\", \"wb\" ))"
   ]
  },
  {
   "cell_type": "code",
   "execution_count": 154,
   "metadata": {},
   "outputs": [
    {
     "data": {
      "text/plain": [
       "466"
      ]
     },
     "execution_count": 154,
     "metadata": {},
     "output_type": "execute_result"
    }
   ],
   "source": [
    "len(vec_vocab)\n"
   ]
  },
  {
   "cell_type": "code",
   "execution_count": 142,
   "metadata": {},
   "outputs": [
    {
     "name": "stdout",
     "output_type": "stream",
     "text": [
      "Vocab:  466\n",
      "initial network size: 11\n"
     ]
    },
    {
     "name": "stderr",
     "output_type": "stream",
     "text": [
      "460it [01:24,  5.43it/s]                                                                              "
     ]
    },
    {
     "name": "stdout",
     "output_type": "stream",
     "text": [
      "batch [(-0.17894736842105263, 0.2883781963764095), (-0.08421052631578947, 0.6307989462589767), (0.08421052631578947, 0.6307989462589767), (0.06315789473684211, 0.7246362205272814), (0.24210526315789474, 0.1458442183647273), (0.0, 1.0), (0.2947368421052632, 0.07402572925713644), (-0.06315789473684211, 0.7246362205272814), (-0.24210526315789474, 0.1458442183647273), (-0.1368421052631579, 0.4222502818286719), (0.22105263157894736, 0.18588304288709082), (-0.12631578947368421, 0.4605237944389165), (0.0736842105263158, 0.6771082386478994), (-0.042105263157894736, 0.8226828854421667), (0.19999999999999998, 0.23326655710712652), (-0.0736842105263158, 0.6771082386478994), (-0.24210526315789474, 0.1458442183647273), (0.35789473684210527, 0.02832862734229191), (-0.06315789473684211, 0.7246362205272814), (-0.1473684210526316, 0.3858571513151256), (0.25263157894736843, 0.12841351117075267), (0.18947368421052632, 0.2598399893189163), (-0.10476190476190476, 0.6264945175158468)]\n",
      "accum [(-0.17894736842105263, 0.2883781963764095), (-0.2025641025641026, 0.06564157020330877), (0.16610169491525423, 0.06077747599822805), (0.11835443037974683, 0.12022169338020931), (0.04363636363636364, 0.5200468259699014), (0.07899159663865545, 0.20079577652905922), (0.13874614594039056, 0.01501278181560548), (-0.023427672955974845, 0.6601574702880805), (0.09422718808193667, 0.06037925087206178), (0.05547738693467336, 0.2433564169142396), (-0.04151100041511, 0.3595259826128747), (-0.012203626220362623, 0.7783018454968063), (0.010276210276210274, 0.8049965920800337), (0.06088069636456734, 0.12886376944732167), (0.027959866220735787, 0.4701690739249933), (0.0006661442006269593, 0.9858165406456885), (0.11441957313899011, 0.0016412332513728108), (0.0365521510368307, 0.30054835775242206), (0.01194278572420497, 0.7281329020749508), (-0.025789473684210532, 0.44111423401750693), (-0.0066371178543016265, 0.8389913707571467), (0.014309380824187201, 0.653828438597804), (-0.04489519291281406, 0.1524400903494136)]\n"
     ]
    },
    {
     "name": "stderr",
     "output_type": "stream",
     "text": [
      "\n"
     ]
    }
   ],
   "source": [
    "lists = [co_oc, phon_conn, free_assoc, feat_norms, word_emb_layer]\n",
    "\n",
    "batch_corr_list, accumulate_corr_list = network_dev(vec_vocab, lists, preferential_acquisition, start_words, N)\n",
    "\n",
    "# plot_correlation(batch_corr_list, accumulate_corr_list)\n",
    "pickle.dump(batch_corr_list, open( \"4_word_pacq_8.pickle\", \"wb\" ))"
   ]
  },
  {
   "cell_type": "code",
   "execution_count": 143,
   "metadata": {},
   "outputs": [
    {
     "name": "stdout",
     "output_type": "stream",
     "text": [
      "Vocab:  466\n",
      "initial network size: 11\n"
     ]
    },
    {
     "name": "stderr",
     "output_type": "stream",
     "text": [
      "460it [01:26,  5.34it/s]                                                                              "
     ]
    },
    {
     "name": "stdout",
     "output_type": "stream",
     "text": [
      "batch [(-0.031578947368421054, 0.8728414598639421), (-0.16842105263157894, 0.31889648047194963), (-0.25263157894736843, 0.12841351117075267), (-0.09473684210526316, 0.5858584459782121), (-0.3473684210526316, 0.033643947242160896), (0.021052631578947368, 0.9235023313316655), (0.010526315789473684, 0.9744669029388741), (-0.15789473684210525, 0.3513948581732795), (0.08421052631578947, 0.6307989462589767), (0.0, 1.0), (-0.0736842105263158, 0.6771082386478994), (0.09473684210526316, 0.5858584459782121), (0.09473684210526316, 0.5858584459782121), (0.08421052631578947, 0.6307989462589767), (0.18947368421052632, 0.2598399893189163), (-0.010526315789473684, 0.9744669029388741), (-0.11578947368421053, 0.5006096271664154), (0.0736842105263158, 0.6771082386478994), (-0.12631578947368421, 0.4605237944389165), (0.2631578947368421, 0.11260412706479736), (-0.3684210526315789, 0.02373449564495179), (-0.06315789473684211, 0.7246362205272814), (-0.5047619047619049, 0.008269998948239689)]\n",
      "accum [(-0.031578947368421054, 0.8728414598639421), (-0.17435897435897438, 0.1130707273246966), (-0.006779661016949152, 0.9389933610593852), (-0.06772151898734177, 0.3739505442450073), (0.030303030303030307, 0.6550790316593147), (0.0876750700280112, 0.15563138819979), (0.04131551901336074, 0.4689327868706753), (0.04528301886792453, 0.39539083459359214), (-0.08653010552451894, 0.08459854915449289), (0.04422110552763819, 0.3524077518519936), (0.02108758821087588, 0.6415988553590037), (0.011436541143654116, 0.7919060114961779), (0.04989604989604989, 0.23062441137530432), (0.0011264720942140297, 0.9775835671299512), (-0.032552954292084726, 0.40043558348840513), (0.009952978056426332, 0.7905370607196994), (-0.04657296546937359, 0.20000198327255736), (-0.03135252243887341, 0.3745459758314418), (0.0021108179419525065, 0.9510103166490874), (-0.011152882205513786, 0.739037237052131), (-0.002250255710876236, 0.9450790412144484), (-0.027024228618761647, 0.39703521646435935), (0.023711090671443093, 0.4497962718188081)]\n"
     ]
    },
    {
     "name": "stderr",
     "output_type": "stream",
     "text": [
      "\n"
     ]
    }
   ],
   "source": [
    "lists = [co_oc, phon_conn, free_assoc, feat_norms, visual_layer]\n",
    "\n",
    "batch_corr_list, accumulate_corr_list = network_dev(vec_vocab, lists, preferential_acquisition, start_words, N)\n",
    "\n",
    "# plot_correlation(batch_corr_list, accumulate_corr_list)\n",
    "pickle.dump(batch_corr_list, open( \"4_visual_pacq_8.pickle\", \"wb\" ))"
   ]
  },
  {
   "cell_type": "code",
   "execution_count": 271,
   "metadata": {},
   "outputs": [
    {
     "name": "stderr",
     "output_type": "stream",
     "text": [
      "  0%|          | 0/455 [00:00<?, ?it/s]"
     ]
    },
    {
     "name": "stdout",
     "output_type": "stream",
     "text": [
      "Vocab:  466\n",
      "initial network size: 11\n"
     ]
    },
    {
     "name": "stderr",
     "output_type": "stream",
     "text": [
      "460it [03:53,  1.97it/s]                         "
     ]
    },
    {
     "name": "stdout",
     "output_type": "stream",
     "text": [
      "batch [(-0.24210526315789474, 0.1458442183647273), (-0.2631578947368421, 0.11260412706479736), (0.0, 1.0), (-0.23157894736842105, 0.16497640636360544), (-0.15789473684210525, 0.3513948581732795), (-0.010526315789473684, 0.9744669029388741), (-0.021052631578947368, 0.9235023313316655), (-0.031578947368421054, 0.8728414598639421), (0.021052631578947368, 0.9235023313316655), (-0.010526315789473684, 0.9744669029388741), (0.11578947368421053, 0.5006096271664154), (0.052631578947368425, 0.7732194749063227), (-0.2631578947368421, 0.11260412706479736), (0.24210526315789474, 0.1458442183647273), (-0.021052631578947368, 0.9235023313316655), (-0.042105263157894736, 0.8226828854421667), (-0.16842105263157894, 0.31889648047194963), (0.2736842105263158, 0.0983302187347563), (0.010526315789473684, 0.9744669029388741), (0.031578947368421054, 0.8728414598639421), (0.06315789473684211, 0.7246362205272814), (0.042105263157894736, 0.8226828854421667), (0.23809523809523814, 0.23945881568583288)]\n",
      "accum [(-0.24210526315789474, 0.1458442183647273), (-0.04871794871794872, 0.657954303171933), (0.03502824858757062, 0.6925244372396588), (0.003797468354430379, 0.9602371812289366), (-0.06303030303030303, 0.3527997289068736), (0.027450980392156862, 0.656626813309305), (0.046659815005138744, 0.4134163882855205), (0.11572327044025157, 0.029861696106818745), (0.00012414649286157664, 0.9980257749130784), (0.01386934673366834, 0.7705468955854377), (-0.06010792860107928, 0.18458905516618462), (0.020083682008368204, 0.6431332935697538), (-0.008672408672408672, 0.8349521760625092), (-0.034971838197644656, 0.38302749715071516), (0.07522853957636567, 0.051997445477094284), (0.00274294670846395, 0.9416465614486567), (-0.04067326045462433, 0.2630531052153404), (0.02862890745899102, 0.4174518361683882), (-0.013359255658936257, 0.697395655390673), (-0.012506265664160403, 0.7087367907310829), (-0.0016592794635754066, 0.9594881171989678), (-0.07883619797059431, 0.013485130174932646), (-0.0011134240209130077, 0.9716900678531112)]\n"
     ]
    },
    {
     "name": "stderr",
     "output_type": "stream",
     "text": [
      "\n"
     ]
    },
    {
     "data": {
      "image/png": "[encoded data removed]",
      "text/plain": [
       "<Figure size 432x288 with 1 Axes>"
      ]
     },
     "metadata": {
      "needs_background": "light"
     },
     "output_type": "display_data"
    }
   ],
   "source": [
    "lists = [co_oc, phon_conn, free_assoc, feat_norms, lancaster_layer]\n",
    "\n",
    "batch_corr_list, accumulate_corr_list = network_dev(vec_vocab, lists, preferential_acquisition, start_words, N)\n",
    "\n",
    "plot_correlation(batch_corr_list, accumulate_corr_list)"
   ]
  },
  {
   "cell_type": "code",
   "execution_count": null,
   "metadata": {},
   "outputs": [],
   "source": []
  },
  {
   "cell_type": "code",
   "execution_count": null,
   "metadata": {},
   "outputs": [],
   "source": []
  }
 ],
 "metadata": {
  "kernelspec": {
   "display_name": "Python 3 (ipykernel)",
   "language": "python",
   "name": "python3"
  },
  "language_info": {
   "codemirror_mode": {
    "name": "ipython",
    "version": 3
   },
   "file_extension": ".py",
   "mimetype": "text/x-python",
   "name": "python",
   "nbconvert_exporter": "python",
   "pygments_lexer": "ipython3",
   "version": "3.9.7"
  }
 },
 "nbformat": 4,
 "nbformat_minor": 4
}
