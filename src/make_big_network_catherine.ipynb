{
 "cells": [
  {
   "cell_type": "code",
   "execution_count": 1,
   "id": "12cd5e9f-7074-45a7-b6c4-b3977c795a13",
   "metadata": {},
   "outputs": [
    {
     "data": {
      "text/html": [
       "\n",
       "\t\t\t<script type=\"text/javascript\">\n",
       "\t\t\t<!--\n",
       "\t\t\t\t\n",
       "\t\t\t{\n",
       "\t\t\t\tvar element = document.getElementById('NetworKit_script');\n",
       "\t\t\t\tif (element) {\n",
       "\t\t\t\t\telement.parentNode.removeChild(element);\n",
       "\t\t\t\t}\n",
       "\t\t\t\telement = document.createElement('script');\n",
       "\t\t\t\telement.type = 'text/javascript';\n",
       "\t\t\t\telement.innerHTML = 'function NetworKit_pageEmbed(id) { var i, j; var elements; elements = document.getElementById(id).getElementsByClassName(\"Plot\"); for (i=0; i<elements.length; i++) { elements[i].id = id + \"_Plot_\" + i; var data = elements[i].getAttribute(\"data-image\").split(\"|\"); elements[i].removeAttribute(\"data-image\"); var content = \"<div class=\\\\\"Image\\\\\" id=\\\\\"\" + elements[i].id + \"_Image\\\\\" />\"; elements[i].innerHTML = content; elements[i].setAttribute(\"data-image-index\", 0); elements[i].setAttribute(\"data-image-length\", data.length); for (j=0; j<data.length; j++) { elements[i].setAttribute(\"data-image-\" + j, data[j]); } NetworKit_plotUpdate(elements[i]); elements[i].onclick = function (e) { NetworKit_overlayShow((e.target) ? e.target : e.srcElement); } } elements = document.getElementById(id).getElementsByClassName(\"HeatCell\"); for (i=0; i<elements.length; i++) { var data = parseFloat(elements[i].getAttribute(\"data-heat\")); var color = \"#00FF00\"; if (data <= 1 && data > 0) { color = \"hsla(0, 100%, 75%, \" + (data) + \")\"; } else if (data <= 0 && data >= -1) { color = \"hsla(240, 100%, 75%, \" + (-data) + \")\"; } elements[i].style.backgroundColor = color; } elements = document.getElementById(id).getElementsByClassName(\"Details\"); for (i=0; i<elements.length; i++) { elements[i].setAttribute(\"data-title\", \"-\"); NetworKit_toggleDetails(elements[i]); elements[i].onclick = function (e) { NetworKit_toggleDetails((e.target) ? e.target : e.srcElement); } } elements = document.getElementById(id).getElementsByClassName(\"MathValue\"); for (i=elements.length-1; i>=0; i--) { value = elements[i].innerHTML.trim(); if (value === \"nan\") { elements[i].parentNode.innerHTML = \"\" } } elements = document.getElementById(id).getElementsByClassName(\"SubCategory\"); for (i=elements.length-1; i>=0; i--) { value = elements[i].innerHTML.trim(); if (value === \"\") { elements[i].parentNode.removeChild(elements[i]) } } elements = document.getElementById(id).getElementsByClassName(\"Category\"); for (i=elements.length-1; i>=0; i--) { value = elements[i].innerHTML.trim(); if (value === \"\") { elements[i].parentNode.removeChild(elements[i]) } } var isFirefox = false; try { isFirefox = typeof InstallTrigger !== \"undefined\"; } catch (e) {} if (!isFirefox) { alert(\"Currently the function\\'s output is only fully supported by Firefox.\"); } } function NetworKit_plotUpdate(source) { var index = source.getAttribute(\"data-image-index\"); var data = source.getAttribute(\"data-image-\" + index); var image = document.getElementById(source.id + \"_Image\"); image.style.backgroundImage = \"url(\" + data + \")\"; } function NetworKit_showElement(id, show) { var element = document.getElementById(id); element.style.display = (show) ? \"block\" : \"none\"; } function NetworKit_overlayShow(source) { NetworKit_overlayUpdate(source); NetworKit_showElement(\"NetworKit_Overlay\", true); } function NetworKit_overlayUpdate(source) { document.getElementById(\"NetworKit_Overlay_Title\").innerHTML = source.title; var index = source.getAttribute(\"data-image-index\"); var data = source.getAttribute(\"data-image-\" + index); var image = document.getElementById(\"NetworKit_Overlay_Image\"); image.setAttribute(\"data-id\", source.id); image.style.backgroundImage = \"url(\" + data + \")\"; var link = document.getElementById(\"NetworKit_Overlay_Toolbar_Bottom_Save\"); link.href = data; link.download = source.title + \".svg\"; } function NetworKit_overlayImageShift(delta) { var image = document.getElementById(\"NetworKit_Overlay_Image\"); var source = document.getElementById(image.getAttribute(\"data-id\")); var index = parseInt(source.getAttribute(\"data-image-index\")); var length = parseInt(source.getAttribute(\"data-image-length\")); var index = (index+delta) % length; if (index < 0) { index = length + index; } source.setAttribute(\"data-image-index\", index); NetworKit_overlayUpdate(source); } function NetworKit_toggleDetails(source) { var childs = source.children; var show = false; if (source.getAttribute(\"data-title\") == \"-\") { source.setAttribute(\"data-title\", \"+\"); show = false; } else { source.setAttribute(\"data-title\", \"-\"); show = true; } for (i=0; i<childs.length; i++) { if (show) { childs[i].style.display = \"block\"; } else { childs[i].style.display = \"none\"; } } }';\n",
       "\t\t\t\telement.setAttribute('id', 'NetworKit_script');\n",
       "\t\t\t\tdocument.head.appendChild(element);\n",
       "\t\t\t}\n",
       "\t\t\n",
       "\t\t\t\t\n",
       "\t\t\t{\n",
       "\t\t\t\tvar element = document.getElementById('NetworKit_style');\n",
       "\t\t\t\tif (element) {\n",
       "\t\t\t\t\telement.parentNode.removeChild(element);\n",
       "\t\t\t\t}\n",
       "\t\t\t\telement = document.createElement('style');\n",
       "\t\t\t\telement.type = 'text/css';\n",
       "\t\t\t\telement.innerHTML = '.NetworKit_Page { font-family: Arial, Helvetica, sans-serif; font-size: 14px; } .NetworKit_Page .Value:before { font-family: Arial, Helvetica, sans-serif; font-size: 1.05em; content: attr(data-title) \":\"; margin-left: -2.5em; padding-right: 0.5em; } .NetworKit_Page .Details .Value:before { display: block; } .NetworKit_Page .Value { font-family: monospace; white-space: pre; padding-left: 2.5em; white-space: -moz-pre-wrap !important; white-space: -pre-wrap; white-space: -o-pre-wrap; white-space: pre-wrap; word-wrap: break-word; tab-size: 4; -moz-tab-size: 4; } .NetworKit_Page .Category { clear: both; padding-left: 1em; margin-bottom: 1.5em; } .NetworKit_Page .Category:before { content: attr(data-title); font-size: 1.75em; display: block; margin-left: -0.8em; margin-bottom: 0.5em; } .NetworKit_Page .SubCategory { margin-bottom: 1.5em; padding-left: 1em; } .NetworKit_Page .SubCategory:before { font-size: 1.6em; display: block; margin-left: -0.8em; margin-bottom: 0.5em; } .NetworKit_Page .SubCategory[data-title]:before { content: attr(data-title); } .NetworKit_Page .Block { display: block; } .NetworKit_Page .Block:after { content: \".\"; visibility: hidden; display: block; height: 0; clear: both; } .NetworKit_Page .Block .Thumbnail_Overview, .NetworKit_Page .Block .Thumbnail_ScatterPlot { width: 260px; float: left; } .NetworKit_Page .Block .Thumbnail_Overview img, .NetworKit_Page .Block .Thumbnail_ScatterPlot img { width: 260px; } .NetworKit_Page .Block .Thumbnail_Overview:before, .NetworKit_Page .Block .Thumbnail_ScatterPlot:before { display: block; text-align: center; font-weight: bold; } .NetworKit_Page .Block .Thumbnail_Overview:before { content: attr(data-title); } .NetworKit_Page .HeatCell { font-family: \"Courier New\", Courier, monospace; cursor: pointer; } .NetworKit_Page .HeatCell, .NetworKit_Page .HeatCellName { display: inline; padding: 0.1em; margin-right: 2px; background-color: #FFFFFF } .NetworKit_Page .HeatCellName { margin-left: 0.25em; } .NetworKit_Page .HeatCell:before { content: attr(data-heat); display: inline-block; color: #000000; width: 4em; text-align: center; } .NetworKit_Page .Measure { clear: both; } .NetworKit_Page .Measure .Details { cursor: pointer; } .NetworKit_Page .Measure .Details:before { content: \"[\" attr(data-title) \"]\"; display: block; } .NetworKit_Page .Measure .Details .Value { border-left: 1px dotted black; margin-left: 0.4em; padding-left: 3.5em; pointer-events: none; } .NetworKit_Page .Measure .Details .Spacer:before { content: \".\"; opacity: 0.0; pointer-events: none; } .NetworKit_Page .Measure .Plot { width: 440px; height: 440px; cursor: pointer; float: left; margin-left: -0.9em; margin-right: 20px; } .NetworKit_Page .Measure .Plot .Image { background-repeat: no-repeat; background-position: center center; background-size: contain; height: 100%; pointer-events: none; } .NetworKit_Page .Measure .Stat { width: 500px; float: left; } .NetworKit_Page .Measure .Stat .Group { padding-left: 1.25em; margin-bottom: 0.75em; } .NetworKit_Page .Measure .Stat .Group .Title { font-size: 1.1em; display: block; margin-bottom: 0.3em; margin-left: -0.75em; border-right-style: dotted; border-right-width: 1px; border-bottom-style: dotted; border-bottom-width: 1px; background-color: #D0D0D0; padding-left: 0.2em; } .NetworKit_Page .Measure .Stat .Group .List { -webkit-column-count: 3; -moz-column-count: 3; column-count: 3; } .NetworKit_Page .Measure .Stat .Group .List .Entry { position: relative; line-height: 1.75em; } .NetworKit_Page .Measure .Stat .Group .List .Entry[data-tooltip]:before { position: absolute; left: 0; top: -40px; background-color: #808080; color: #ffffff; height: 30px; line-height: 30px; border-radius: 5px; padding: 0 15px; content: attr(data-tooltip); white-space: nowrap; display: none; } .NetworKit_Page .Measure .Stat .Group .List .Entry[data-tooltip]:after { position: absolute; left: 15px; top: -10px; border-top: 7px solid #808080; border-left: 7px solid transparent; border-right: 7px solid transparent; content: \"\"; display: none; } .NetworKit_Page .Measure .Stat .Group .List .Entry[data-tooltip]:hover:after, .NetworKit_Page .Measure .Stat .Group .List .Entry[data-tooltip]:hover:before { display: block; } .NetworKit_Page .Measure .Stat .Group .List .Entry .MathValue { font-family: \"Courier New\", Courier, monospace; } .NetworKit_Page .Measure:after { content: \".\"; visibility: hidden; display: block; height: 0; clear: both; } .NetworKit_Page .PartitionPie { clear: both; } .NetworKit_Page .PartitionPie img { width: 600px; } #NetworKit_Overlay { left: 0px; top: 0px; display: none; position: absolute; width: 100%; height: 100%; background-color: rgba(0,0,0,0.6); z-index: 1000; } #NetworKit_Overlay_Title { position: absolute; color: white; transform: rotate(-90deg); width: 32em; height: 32em; padding-right: 0.5em; padding-top: 0.5em; text-align: right; font-size: 40px; } #NetworKit_Overlay .button { background: white; cursor: pointer; } #NetworKit_Overlay .button:before { size: 13px; display: inline-block; text-align: center; margin-top: 0.5em; margin-bottom: 0.5em; width: 1.5em; height: 1.5em; } #NetworKit_Overlay .icon-close:before { content: \"X\"; } #NetworKit_Overlay .icon-previous:before { content: \"P\"; } #NetworKit_Overlay .icon-next:before { content: \"N\"; } #NetworKit_Overlay .icon-save:before { content: \"S\"; } #NetworKit_Overlay_Toolbar_Top, #NetworKit_Overlay_Toolbar_Bottom { position: absolute; width: 40px; right: 13px; text-align: right; z-index: 1100; } #NetworKit_Overlay_Toolbar_Top { top: 0.5em; } #NetworKit_Overlay_Toolbar_Bottom { Bottom: 0.5em; } #NetworKit_Overlay_ImageContainer { position: absolute; top: 5%; left: 5%; height: 90%; width: 90%; background-repeat: no-repeat; background-position: center center; background-size: contain; } #NetworKit_Overlay_Image { height: 100%; width: 100%; background-repeat: no-repeat; background-position: center center; background-size: contain; }';\n",
       "\t\t\t\telement.setAttribute('id', 'NetworKit_style');\n",
       "\t\t\t\tdocument.head.appendChild(element);\n",
       "\t\t\t}\n",
       "\t\t\n",
       "\t\t\t\t\n",
       "\t\t\t{\n",
       "\t\t\t\tvar element = document.getElementById('NetworKit_Overlay');\n",
       "\t\t\t\tif (element) {\n",
       "\t\t\t\t\telement.parentNode.removeChild(element);\n",
       "\t\t\t\t}\n",
       "\t\t\t\telement = document.createElement('div');\n",
       "\t\t\t\telement.innerHTML = '<div id=\"NetworKit_Overlay_Toolbar_Top\"><div class=\"button icon-close\" id=\"NetworKit_Overlay_Close\" /></div><div id=\"NetworKit_Overlay_Title\" /> <div id=\"NetworKit_Overlay_ImageContainer\"> <div id=\"NetworKit_Overlay_Image\" /> </div> <div id=\"NetworKit_Overlay_Toolbar_Bottom\"> <div class=\"button icon-previous\" onclick=\"NetworKit_overlayImageShift(-1)\" /> <div class=\"button icon-next\" onclick=\"NetworKit_overlayImageShift(1)\" /> <a id=\"NetworKit_Overlay_Toolbar_Bottom_Save\"><div class=\"button icon-save\" /></a> </div>';\n",
       "\t\t\t\telement.setAttribute('id', 'NetworKit_Overlay');\n",
       "\t\t\t\tdocument.body.appendChild(element);\n",
       "\t\t\t\tdocument.getElementById('NetworKit_Overlay_Close').onclick = function (e) {\n",
       "\t\t\t\t\tdocument.getElementById('NetworKit_Overlay').style.display = 'none';\n",
       "\t\t\t\t}\n",
       "\t\t\t}\n",
       "\t\t\n",
       "\t\t\t-->\n",
       "\t\t\t</script>\n",
       "\t\t"
      ]
     },
     "metadata": {},
     "output_type": "display_data"
    }
   ],
   "source": [
    "import networkit as nk # The one Dr. Kennington had been using in make_big_network.py\n",
    "import networkx as nx # The one compatible w/ eliorc/node2vec implementation and used in Phase_1.ipynb\n",
    "import torch\n",
    "from networkx.algorithms import approximation\n",
    "import numpy as np\n",
    "from tqdm import tqdm_notebook as tqdm\n",
    "from numpy import dot\n",
    "from numpy.linalg import norm\n",
    "from tqdm import tqdm\n",
    "import pickle\n",
    "from nltk.stem import WordNetLemmatizer\n",
    "from operator import itemgetter\n",
    "import collections\n",
    "from itertools import chain, combinations\n",
    "from datetime import datetime"
   ]
  },
  {
   "cell_type": "markdown",
   "id": "abb7de33-c6c3-4337-ab33-bdf235100c85",
   "metadata": {},
   "source": [
    "## Define Shared Functions (For use with NetworkX)"
   ]
  },
  {
   "cell_type": "code",
   "execution_count": 3,
   "id": "c29779f9-97a7-4b71-ba8d-728c55bc18d9",
   "metadata": {},
   "outputs": [],
   "source": [
    "def mean_degree_connectivity_nx(graph_name):\n",
    "    num_edges = 0\n",
    "    for node in graph_name.nodes():\n",
    "        num_edges += len(graph_name.edges(node))\n",
    "\n",
    "    return num_edges/graph_name.number_of_nodes()"
   ]
  },
  {
   "cell_type": "code",
   "execution_count": 4,
   "id": "0d870382-5649-48bc-a121-0ec76fd57b83",
   "metadata": {},
   "outputs": [],
   "source": [
    "def perc_nodes_in_lcc_nx(graph_name):\n",
    "    largest_cc = max(nx.connected_components(graph_name), key=len)\n",
    "    lenght = len(largest_cc)\n",
    "    return lenght/graph_name.number_of_nodes()\n",
    "   "
   ]
  },
  {
   "cell_type": "code",
   "execution_count": 5,
   "id": "dfdb66ea-b64b-4d6f-b0d9-6a7d15abe708",
   "metadata": {},
   "outputs": [],
   "source": [
    "def mean_shortest_path_lcc_nx(graph_name):\n",
    "    S = [graph_name.subgraph(c).copy() for c in nx.connected_components(graph_name)]\n",
    "    comps = [len(max(nx.connected_components(i), key=len)) for i in S]\n",
    "    index_max = max(range(len(comps)), key=comps.__getitem__)\n",
    "    return nx.average_shortest_path_length(S[index_max])\n"
   ]
  },
  {
   "cell_type": "markdown",
   "id": "eda895fd-3106-4f77-b859-e8c1905c5628",
   "metadata": {},
   "source": [
    "## Define Shared Functions (For use with NetworKit)"
   ]
  },
  {
   "cell_type": "code",
   "execution_count": 6,
   "id": "9a78da57-7fd7-412f-98c6-92661382b499",
   "metadata": {},
   "outputs": [],
   "source": [
    "def mean_degree_connectivity_nk(graph_name):\n",
    "    num_edges = 0\n",
    "    for node in graph_name.iterNodes():\n",
    "        num_edges += graph_name.degree(node)\n",
    "\n",
    "    return num_edges/graph_name.numberOfNodes()"
   ]
  },
  {
   "cell_type": "code",
   "execution_count": 7,
   "id": "03f928ce-b37b-446a-bcff-5cd5e9a0d5b5",
   "metadata": {},
   "outputs": [],
   "source": [
    "def perc_nodes_in_lcc_nk(graph_name):\n",
    "    largest_cc = nk.components.ConnectedComponents.extractLargestConnectedComponent(graph_name)\n",
    "    length = largest_cc.numberOfNodes()\n",
    "    return length/graph_name.numberOfNodes()"
   ]
  },
  {
   "cell_type": "markdown",
   "id": "5c13ed34-a4f9-4794-85cb-f8ac73e7415a",
   "metadata": {
    "jp-MarkdownHeadingCollapsed": true,
    "tags": [],
    "toc-hr-collapsed": true
   },
   "source": [
    "## Load and Clean Data"
   ]
  },
  {
   "cell_type": "markdown",
   "id": "287b1581-4c30-4bfd-90ee-889a527e0624",
   "metadata": {
    "tags": []
   },
   "source": [
    "### Cleaned BERT Vocab\n"
   ]
  },
  {
   "cell_type": "code",
   "execution_count": 8,
   "id": "cbb46ee6-3282-4aa3-9ccc-350f2d87064e",
   "metadata": {},
   "outputs": [],
   "source": [
    "with open(\"cleaned_bert_vocab.pickle\", \"rb\") as input_file:\n",
    "    cleaned_bert_vocab = pickle.load(input_file)    \n"
   ]
  },
  {
   "cell_type": "code",
   "execution_count": 9,
   "id": "a1eb7126-6e39-4ece-9462-4ff1076ad247",
   "metadata": {},
   "outputs": [
    {
     "name": "stdout",
     "output_type": "stream",
     "text": [
      "26,573\n"
     ]
    }
   ],
   "source": [
    "print(f\"{len(cleaned_bert_vocab):,}\")"
   ]
  },
  {
   "cell_type": "markdown",
   "id": "1aae4fa3-c448-456c-9638-c82b82698546",
   "metadata": {},
   "source": [
    "### Cleaned Word Embedding List \n"
   ]
  },
  {
   "cell_type": "code",
   "execution_count": 11,
   "id": "7e436400-40ff-4722-8ce3-8eefc3c74b88",
   "metadata": {},
   "outputs": [],
   "source": [
    "threshold = 90\n",
    "with open(fr\"cleaned_word_emb_list_{threshold}_cos_thresh.pickle\", \"rb\") as input_file:\n",
    "    bert_word_emb_list = pickle.load(input_file)    "
   ]
  },
  {
   "cell_type": "code",
   "execution_count": 12,
   "id": "e226a573-99de-4e16-b69a-1174c68ca225",
   "metadata": {},
   "outputs": [
    {
     "name": "stdout",
     "output_type": "stream",
     "text": [
      "177,013\n"
     ]
    }
   ],
   "source": [
    "print(f\"{len(bert_word_emb_list):,}\")"
   ]
  },
  {
   "cell_type": "code",
   "execution_count": 13,
   "id": "1a63387c-82f1-480a-83fc-ecbe5e454273",
   "metadata": {},
   "outputs": [],
   "source": [
    "## Remove duplicate tuple pairs -- only keep one of (a, one) and (one, a) if both are present.\n",
    "bert_word_emb_list = (list(set(tuple(sorted(l)) for l in bert_word_emb_list)))"
   ]
  },
  {
   "cell_type": "code",
   "execution_count": 14,
   "id": "937fd357-87f6-48fe-9ebd-d38b83f2d386",
   "metadata": {},
   "outputs": [
    {
     "name": "stdout",
     "output_type": "stream",
     "text": [
      "177,013\n"
     ]
    }
   ],
   "source": [
    "print(f\"{len(bert_word_emb_list):,}\")"
   ]
  },
  {
   "cell_type": "code",
   "execution_count": 15,
   "id": "29bc93ef-9624-4b7a-b541-32f5d545792d",
   "metadata": {},
   "outputs": [
    {
     "data": {
      "text/plain": [
       "[('multitude', 'reclaimed'),\n",
       " ('spearheaded', 'twists'),\n",
       " ('misses', 'surpassing'),\n",
       " ('distinguishing', 'tensions'),\n",
       " ('finely', 'layered'),\n",
       " ('scarf', 'tractor'),\n",
       " ('binding', 'merging'),\n",
       " ('bothering', 'complained'),\n",
       " ('downward', 'successors'),\n",
       " ('closet', 'successors')]"
      ]
     },
     "execution_count": 15,
     "metadata": {},
     "output_type": "execute_result"
    }
   ],
   "source": [
    "bert_word_emb_list[:10]"
   ]
  },
  {
   "cell_type": "markdown",
   "id": "cdf9396a-c516-435d-b6e1-087665fe5ab3",
   "metadata": {},
   "source": [
    "### Free Association\n"
   ]
  },
  {
   "cell_type": "code",
   "execution_count": 16,
   "id": "0fbc6bba-f02e-46f7-b034-f80de4791a2a",
   "metadata": {},
   "outputs": [],
   "source": [
    "with open(r\"free_assoc_full.pickle\", \"rb\") as input_file:\n",
    "    free_assoc = pickle.load(input_file)  "
   ]
  },
  {
   "cell_type": "markdown",
   "id": "7aaec09d-14e4-4a89-a460-b51f685a021d",
   "metadata": {},
   "source": [
    "#### Intersect free_assoc w/ bert vocab"
   ]
  },
  {
   "cell_type": "code",
   "execution_count": 17,
   "id": "56f37a9e-8d1a-4b1d-a821-1921eb34bdfe",
   "metadata": {},
   "outputs": [],
   "source": [
    "free_assoc_list_intersect_bert = [word_pair for word_pair in free_assoc if all(word in cleaned_bert_vocab for word in word_pair)] # TODO: if I make cleaned_bert_vocab a set will it be a faster lookup? (hashed)"
   ]
  },
  {
   "cell_type": "code",
   "execution_count": 18,
   "id": "ef1cb49a-4de3-46cf-b371-0f305fca4bfc",
   "metadata": {},
   "outputs": [
    {
     "name": "stdout",
     "output_type": "stream",
     "text": [
      "Original length: 19,960 vs Intersect length: 12,755. Diff: 7,205\n"
     ]
    }
   ],
   "source": [
    "print(f\"Original length: {len(free_assoc):,} vs Intersect length: {len(free_assoc_list_intersect_bert):,}. Diff: {len(free_assoc)-len(free_assoc_list_intersect_bert):,}\")"
   ]
  },
  {
   "cell_type": "code",
   "execution_count": 19,
   "id": "ff922c8a-4afb-4556-8daf-36ddcbce38b7",
   "metadata": {},
   "outputs": [],
   "source": [
    "## Remove duplicate tuple pairs -- only keep one of (a, one) and (one, a) if both are present.\n",
    "free_assoc_list_intersect_bert = (list(set(tuple(sorted(l)) for l in free_assoc_list_intersect_bert)))"
   ]
  },
  {
   "cell_type": "code",
   "execution_count": 20,
   "id": "a0ef423e-b6a0-4130-a251-b91989def951",
   "metadata": {},
   "outputs": [
    {
     "name": "stdout",
     "output_type": "stream",
     "text": [
      "Length after removing duplicate tuples: 11,765\n"
     ]
    }
   ],
   "source": [
    "print(f\"Length after removing duplicate tuples: {len(free_assoc_list_intersect_bert):,}\")"
   ]
  },
  {
   "cell_type": "code",
   "execution_count": 21,
   "id": "18e61cb8-327b-4bb5-8c0a-652cf64a661d",
   "metadata": {},
   "outputs": [
    {
     "data": {
      "text/plain": [
       "[('anger', 'fury'),\n",
       " ('assembly', 'school'),\n",
       " ('salary', 'wage'),\n",
       " ('bright', 'brilliance'),\n",
       " ('activate', 'start')]"
      ]
     },
     "execution_count": 21,
     "metadata": {},
     "output_type": "execute_result"
    }
   ],
   "source": [
    "free_assoc_list_intersect_bert[:5]"
   ]
  },
  {
   "cell_type": "code",
   "execution_count": 22,
   "id": "e4ae2fbe-5140-4431-9199-2e15c5b8716a",
   "metadata": {},
   "outputs": [],
   "source": [
    "pickle.dump(free_assoc_list_intersect_bert, open( \"free_assoc_list_intersect_bert.pickle\", \"wb\" ))"
   ]
  },
  {
   "cell_type": "markdown",
   "id": "e5a6392d-d13b-4b4d-84a1-723a74328f95",
   "metadata": {
    "tags": []
   },
   "source": [
    "### Visual\n"
   ]
  },
  {
   "cell_type": "code",
   "execution_count": 23,
   "id": "ea6e9f4e-d5a2-462b-887b-f4e7fe11ddf5",
   "metadata": {},
   "outputs": [],
   "source": [
    "with open(r\"../data/fullmultiplex/visual_layer_vectors_full.pickle\", \"rb\") as input_file:\n",
    "    visual_list = pickle.load(input_file)      "
   ]
  },
  {
   "cell_type": "markdown",
   "id": "c2ed8f93-973a-47bb-8f4e-7a3c30f09dda",
   "metadata": {},
   "source": [
    "#### Intersect visual_list w/ bert vocab\n",
    "\n",
    "This was going to take 120+ hours to build so instead of intersecting w/ bert vocab before building (since it should have negligible impact on time) I intersect after (takes 5 mins). To stay consistent, I did the same for all layers as well. "
   ]
  },
  {
   "cell_type": "code",
   "execution_count": 24,
   "id": "b52fd0f3-d366-4b50-af8b-c27eee0dc91a",
   "metadata": {},
   "outputs": [],
   "source": [
    "visual_list_intersect_bert = [word_pair for word_pair in visual_list if all(word in cleaned_bert_vocab for word in word_pair)]"
   ]
  },
  {
   "cell_type": "code",
   "execution_count": 25,
   "id": "88cf77c4-dfdc-4acd-b1c2-628ebadfdcc8",
   "metadata": {},
   "outputs": [
    {
     "name": "stdout",
     "output_type": "stream",
     "text": [
      "Original length: 541,033 vs Intersect length: 461,317. Diff: 79,716\n"
     ]
    }
   ],
   "source": [
    "print(f\"Original length: {len(visual_list):,} vs Intersect length: {len(visual_list_intersect_bert):,}. Diff: {len(visual_list)-len(visual_list_intersect_bert):,}\")"
   ]
  },
  {
   "cell_type": "code",
   "execution_count": 26,
   "id": "fd7db9bf-b236-4717-8725-f941feb59a93",
   "metadata": {},
   "outputs": [],
   "source": [
    "## Remove duplicate tuple pairs -- only keep one of (a, one) and (one, a) if both are present.\n",
    "visual_list_intersect_bert = (list(set(tuple(sorted(l)) for l in visual_list_intersect_bert)))"
   ]
  },
  {
   "cell_type": "code",
   "execution_count": 27,
   "id": "e01e43fd-4195-4c1c-a016-89a4be5f0ba9",
   "metadata": {},
   "outputs": [
    {
     "name": "stdout",
     "output_type": "stream",
     "text": [
      "Length after removing duplicate tuples: 461,317\n"
     ]
    }
   ],
   "source": [
    "print(f\"Length after removing duplicate tuples: {len(visual_list_intersect_bert):,}\")"
   ]
  },
  {
   "cell_type": "code",
   "execution_count": 28,
   "id": "edf5ec42-ed42-4977-a554-af15a0b883e5",
   "metadata": {},
   "outputs": [
    {
     "data": {
      "text/plain": [
       "[('highlands', 'plants'),\n",
       " ('nanjing', 'toulouse'),\n",
       " ('bowie', 'hepburn'),\n",
       " ('hailey', 'receptions'),\n",
       " ('interiors', 'princeton'),\n",
       " ('breaststroke', 'molecules'),\n",
       " ('medicines', 'ticked'),\n",
       " ('crowns', 'peerage')]"
      ]
     },
     "execution_count": 28,
     "metadata": {},
     "output_type": "execute_result"
    }
   ],
   "source": [
    "visual_list_intersect_bert[102:110]"
   ]
  },
  {
   "cell_type": "code",
   "execution_count": 29,
   "id": "b7fa897a-ca9f-4121-b049-0ab33a8ab82a",
   "metadata": {},
   "outputs": [],
   "source": [
    "pickle.dump(visual_list_intersect_bert, open( \"visual_list_intersect_bert.pickle\", \"wb\" ))"
   ]
  },
  {
   "cell_type": "markdown",
   "id": "312cb937-054e-479d-8d2b-d2733e21a9f5",
   "metadata": {},
   "source": [
    "### Lancaster"
   ]
  },
  {
   "cell_type": "code",
   "execution_count": 31,
   "id": "3b927f77-3474-4ded-9b53-216981a0d678",
   "metadata": {},
   "outputs": [],
   "source": [
    "with open(r\"lancaster_full.pickle\", \"rb\") as input_file:\n",
    "    lancaster_list = pickle.load(input_file)    "
   ]
  },
  {
   "cell_type": "markdown",
   "id": "2e6c51e2-4b83-405c-a4ed-6636149b08e5",
   "metadata": {},
   "source": [
    "#### Intersect lancaster_list w/ bert vocab"
   ]
  },
  {
   "cell_type": "code",
   "execution_count": 32,
   "id": "22d40384-64bd-4997-a106-072793558d6d",
   "metadata": {},
   "outputs": [],
   "source": [
    "# lancaster_list_intersect_bert = [word_pair for word_pair in lancaster_list if all(word in cleaned_bert_vocab for word in word_pair)]"
   ]
  },
  {
   "cell_type": "code",
   "execution_count": 35,
   "id": "02f07d30-dbd4-45ea-91fc-35f6226d36f4",
   "metadata": {},
   "outputs": [],
   "source": [
    "with open(\"lancaster_list_intersect_bert.pickle\", \"rb\") as input_file:\n",
    "    lancaster_list_intersect_bert = pickle.load(input_file)    \n"
   ]
  },
  {
   "cell_type": "code",
   "execution_count": 36,
   "id": "c4adf128-4fa5-4651-953c-3c3662c7c11c",
   "metadata": {},
   "outputs": [
    {
     "name": "stdout",
     "output_type": "stream",
     "text": [
      "Original length: 13,114,740 vs Intersect length: 1,375,293. Diff: 11,739,447\n"
     ]
    }
   ],
   "source": [
    "print(f\"Original length: {len(lancaster_list):,} vs Intersect length: {len(lancaster_list_intersect_bert):,}. Diff: {len(lancaster_list)- len(lancaster_list_intersect_bert):,}\")"
   ]
  },
  {
   "cell_type": "code",
   "execution_count": 37,
   "id": "2d156572-b9ac-452c-b2d0-952391fc6910",
   "metadata": {},
   "outputs": [],
   "source": [
    "## Remove duplicate tuple pairs -- only keep one of (a, one) and (one, a) if both are present.\n",
    "lancaster_list_intersect_bert = (list(set(tuple(sorted(l)) for l in lancaster_list_intersect_bert)))"
   ]
  },
  {
   "cell_type": "code",
   "execution_count": 38,
   "id": "82de5aa9-c2dc-4364-a1da-3d9dd9b05a11",
   "metadata": {},
   "outputs": [
    {
     "name": "stdout",
     "output_type": "stream",
     "text": [
      "Length after removing duplicate tuples: 1,375,293\n"
     ]
    }
   ],
   "source": [
    "print(f\"Length after removing duplicate tuples: {len(lancaster_list_intersect_bert):,}\")"
   ]
  },
  {
   "cell_type": "code",
   "execution_count": 39,
   "id": "05f1da98-8f45-438d-9ea7-89a656da7431",
   "metadata": {},
   "outputs": [
    {
     "data": {
      "text/plain": [
       "[('reformed', 'unlawful'),\n",
       " ('lengthy', 'near'),\n",
       " ('disguised', 'projectile'),\n",
       " ('host', 'reception'),\n",
       " ('content', 'obsolete')]"
      ]
     },
     "execution_count": 39,
     "metadata": {},
     "output_type": "execute_result"
    }
   ],
   "source": [
    "lancaster_list_intersect_bert[:5]"
   ]
  },
  {
   "cell_type": "code",
   "execution_count": 40,
   "id": "28055c66-8b98-4cff-acc4-ddfc792e50a6",
   "metadata": {},
   "outputs": [],
   "source": [
    "pickle.dump(lancaster_list_intersect_bert, open(f\"lancaster_list_intersect_bert.pickle\", \"wb\" ) )   "
   ]
  },
  {
   "cell_type": "markdown",
   "id": "2575f770-0cdb-4c0d-b099-a27266c49f7b",
   "metadata": {},
   "source": [
    "## Build NetworkX and NetworKit networks"
   ]
  },
  {
   "cell_type": "code",
   "execution_count": 2,
   "id": "6234c771-aa6c-4874-bed5-4764f1b327a5",
   "metadata": {},
   "outputs": [],
   "source": [
    "file_date_info = datetime.utcnow().strftime(\"%m-%d_%H:%M\")"
   ]
  },
  {
   "cell_type": "code",
   "execution_count": 176,
   "id": "785b9d61-5f7e-4831-a8b3-d56eaa1a07d6",
   "metadata": {},
   "outputs": [],
   "source": [
    "layers = {\n",
    "    'free_assoc':free_assoc_list_intersect_bert,\n",
    "    'visual_list':visual_list_intersect_bert,\n",
    "    'lancaster_list':lancaster_list_intersect_bert,\n",
    "    'bert_word_emb_list':bert_word_emb_list\n",
    "         }"
   ]
  },
  {
   "cell_type": "code",
   "execution_count": 177,
   "id": "f1bc764c-9c0a-463f-b1d3-9aefb1b19ccf",
   "metadata": {
    "tags": []
   },
   "outputs": [],
   "source": [
    "layer_names = list(layers.keys())"
   ]
  },
  {
   "cell_type": "code",
   "execution_count": 178,
   "id": "40600a46-450d-49df-b02a-76264007120b",
   "metadata": {},
   "outputs": [
    {
     "name": "stdout",
     "output_type": "stream",
     "text": [
      "16706\n"
     ]
    }
   ],
   "source": [
    "words = []\n",
    "for layer_name in layer_names:\n",
    "    i = layers[layer_name]\n",
    "    for a,b in i:\n",
    "        words.append(a)\n",
    "        words.append(b)\n",
    "\n",
    "words = list(set(words)) \n",
    "print(len(words))\n",
    "word_to_index = {words[i]:i for i in range(len(words))} # Dict of word:index\n",
    "index_to_word = {i:words[i] for i in range(len(words))} # Dict of index:word"
   ]
  },
  {
   "cell_type": "code",
   "execution_count": 179,
   "id": "3e948e04-3c6e-492a-a968-8039732f2bb1",
   "metadata": {},
   "outputs": [],
   "source": [
    "pickle.dump(index_to_word, open(\"generated_layer_data/\" + \"_\".join(layer_names) + \"_index_to_word_BERT_intersect.pickle\", \"wb\" ) ) "
   ]
  },
  {
   "cell_type": "markdown",
   "id": "a97645ab-5edf-48ce-bcd4-6884de191e6a",
   "metadata": {},
   "source": [
    "## Instantiate a graph for multiplex and populate it"
   ]
  },
  {
   "cell_type": "code",
   "execution_count": 180,
   "id": "940c3d4f-dd3e-446e-864c-01ae596da295",
   "metadata": {},
   "outputs": [
    {
     "data": {
      "text/plain": [
       "False"
      ]
     },
     "execution_count": 180,
     "metadata": {},
     "output_type": "execute_result"
    }
   ],
   "source": [
    "## NetworkX\n",
    "multiplex_nx = nx.Graph()\n",
    "multiplex_nx.add_nodes_from(words)\n",
    "nx.is_weighted(multiplex_nx) # Will return true once we have added edges which result in at least one edge weight greater than 1"
   ]
  },
  {
   "cell_type": "code",
   "execution_count": 181,
   "id": "8d75d50f-5a62-441b-94d2-c117fba984ab",
   "metadata": {},
   "outputs": [
    {
     "data": {
      "text/plain": [
       "True"
      ]
     },
     "execution_count": 181,
     "metadata": {},
     "output_type": "execute_result"
    }
   ],
   "source": [
    "## NetworKit\n",
    "multiplex_nk = nk.Graph(len(words), weighted=True)\n",
    "multiplex_nk.isWeighted()"
   ]
  },
  {
   "cell_type": "markdown",
   "id": "79a41879-40e2-4b2e-a742-f07e621a4a83",
   "metadata": {},
   "source": [
    "## Add one layer at a time:"
   ]
  },
  {
   "cell_type": "markdown",
   "id": "5fa2c1df-35e0-43df-8648-51840cd91585",
   "metadata": {
    "tags": []
   },
   "source": [
    "### Free associations Layer"
   ]
  },
  {
   "cell_type": "code",
   "execution_count": 182,
   "id": "1609689b-2069-4a35-aef0-f72493df11f1",
   "metadata": {},
   "outputs": [],
   "source": [
    "free_association_words = list(set([a for tup in layers['free_assoc'] for a in tup]))\n",
    "free_assoc_word_to_index = {free_association_words[i]:i for i in range(len(free_association_words))} # Dict of word:index\n",
    "free_assoc_index_to_word = {i:free_association_words[i] for i in range(len(free_association_words))} # Dict of index:word\n",
    "pickle.dump(free_assoc_index_to_word, open( \"generated_layer_data/free_assoc_index_to_word_BERT_intersect.pickle\", \"wb\" ) ) \n",
    "\n",
    "\n",
    "## NetworkX\n",
    "free_association_layer_nx = nx.Graph()\n",
    "free_association_layer_nx.add_nodes_from(free_association_words)\n",
    "\n",
    "free_association_layer_full_vocab_nx = nx.Graph()\n",
    "free_association_layer_full_vocab_nx.add_nodes_from(words)\n",
    "\n",
    "\n",
    "## NetworKit\n",
    "free_association_layer_nk = nk.Graph(len(free_association_words))\n",
    "free_association_layer_full_vocab_nk = nk.Graph(len(words))\n"
   ]
  },
  {
   "cell_type": "code",
   "execution_count": 183,
   "id": "6dc7da5e-726f-4197-9afc-b2eec9efb597",
   "metadata": {
    "tags": []
   },
   "outputs": [],
   "source": [
    "# Add the free association layer to the multiplex\n",
    "for pair in layers['free_assoc']:\n",
    "    ## NetworkX\n",
    "    multiplex_nx.add_edge(pair[0], pair[1], weight=1) # first layer, can safely assume weight of 1\n",
    "    free_association_layer_nx.add_edge(pair[0], pair[1])\n",
    "    free_association_layer_full_vocab_nx.add_edge(pair[0], pair[1])\n",
    "    \n",
    "    ## NetworKit (IMPORTANT: NetworKit will add duplicate edges whereas NetworkX will not. This explains original edge diffs between networkit and networkx\n",
    "    ## Docs show bool checkMultiEdge param but it's not working)\n",
    "    ## (duplicate edges should no longer be an issue now that I am removing duplicate pairs in the lists)\n",
    "    if not multiplex_nk.hasEdge(word_to_index[pair[0]], word_to_index[pair[1]]):\n",
    "        multiplex_nk.addEdge(word_to_index[pair[0]], word_to_index[pair[1]], w=1)\n",
    "\n",
    "    if not free_association_layer_nk.hasEdge(free_assoc_word_to_index[pair[0]], free_assoc_word_to_index[pair[1]]):\n",
    "        free_association_layer_nk.addEdge(free_assoc_word_to_index[pair[0]], free_assoc_word_to_index[pair[1]])\n",
    "\n",
    "    if not free_association_layer_full_vocab_nk.hasEdge(word_to_index[pair[0]], word_to_index[pair[1]]):\n",
    "        free_association_layer_full_vocab_nk.addEdge(word_to_index[pair[0]], word_to_index[pair[1]])"
   ]
  },
  {
   "cell_type": "code",
   "execution_count": 184,
   "id": "3ff13f78-8904-4ff5-8d43-44c6a3bcd442",
   "metadata": {
    "tags": []
   },
   "outputs": [
    {
     "name": "stdout",
     "output_type": "stream",
     "text": [
      "Network Properties:\n",
      "nodes, edges\t\t\t16706, 11765\n",
      "directed?\t\t\tFalse\n",
      "weighted?\t\t\tTrue\n",
      "isolated nodes\t\t\t8876\n",
      "self-loops\t\t\t3\n",
      "density\t\t\t\t0.000084\n",
      "min/max/avg degree\t\t0, 131, 1.408296\n",
      "degree assortativity\t\t-0.152464\n",
      "number of connected components\t8975\n",
      "size of largest component\t7590 (45.43 %)\n"
     ]
    }
   ],
   "source": [
    "nk.overview(multiplex_nk)"
   ]
  },
  {
   "cell_type": "markdown",
   "id": "41fcf18c-f707-4c5d-b767-f4f76973a3c6",
   "metadata": {},
   "source": [
    "#### Remove self loops -- I don't expect them to contribute any value to this task. "
   ]
  },
  {
   "cell_type": "code",
   "execution_count": 185,
   "id": "c7808669-bc47-4a28-8c72-07124c3927b1",
   "metadata": {},
   "outputs": [],
   "source": [
    "multiplex_nx.remove_edges_from(nx.selfloop_edges(multiplex_nx))\n",
    "multiplex_nk.removeSelfLoops()\n",
    "\n",
    "free_association_layer_nx.remove_edges_from(nx.selfloop_edges(free_association_layer_nx))\n",
    "free_association_layer_nk.removeSelfLoops()\n",
    "\n",
    "\n",
    "free_association_layer_full_vocab_nx.remove_edges_from(nx.selfloop_edges(free_association_layer_full_vocab_nx))\n",
    "free_association_layer_full_vocab_nk.removeSelfLoops()"
   ]
  },
  {
   "cell_type": "markdown",
   "id": "8eb33d90-961c-4e06-b8b3-98d24dfb6cb7",
   "metadata": {},
   "source": [
    "#### Save Layers"
   ]
  },
  {
   "cell_type": "code",
   "execution_count": 186,
   "id": "a459c110-9f23-459c-ae71-128dc3ff80aa",
   "metadata": {},
   "outputs": [
    {
     "name": "stdout",
     "output_type": "stream",
     "text": [
      "Layer-Only Vocab: # Edges -> NetworkX: 11762 | NetworKit: 11762\n",
      "Full Vocab:       # Edges -> NetworkX: 11762 | NetworKit: 11762\n",
      "\n",
      "\n",
      "Layer-Only Vocab: # Nodes -> NetworkX: 7830  | NetworKit: 7830\n",
      "Full Vocab:       # Nodes -> NetworkX: 16706 | NetworKit: 16706\n"
     ]
    }
   ],
   "source": [
    "print(f\"Layer-Only Vocab: # Edges -> NetworkX: {free_association_layer_nx.number_of_edges()} | NetworKit: {free_association_layer_nk.numberOfEdges()}\")\n",
    "print(f\"Full Vocab:       # Edges -> NetworkX: {free_association_layer_full_vocab_nx.number_of_edges()} | NetworKit: {free_association_layer_full_vocab_nk.numberOfEdges()}\")\n",
    "print(\"\\n\")\n",
    "print(f\"Layer-Only Vocab: # Nodes -> NetworkX: {free_association_layer_nx.number_of_nodes()}  | NetworKit: {free_association_layer_nk.numberOfNodes()}\")\n",
    "print(f\"Full Vocab:       # Nodes -> NetworkX: {free_association_layer_full_vocab_nx.number_of_nodes()} | NetworKit: {free_association_layer_full_vocab_nk.numberOfNodes()}\")"
   ]
  },
  {
   "cell_type": "code",
   "execution_count": 187,
   "id": "c58b3b4c-1ea4-4bdd-9e2b-4d60284d211d",
   "metadata": {},
   "outputs": [
    {
     "name": "stdout",
     "output_type": "stream",
     "text": [
      "networkx_graphs/layers/free_association_layer_90_cos_thresh_nx_12-14_05:42.pickle\n",
      "networkx_graphs/layers/free_association_layer_full_vocab_90_cos_thresh_nx_12-14_05:42.pickle\n",
      "networkit_graphs/layers/free_association_layer_90_cos_thresh_nk_12-14_05:42.pickle\n",
      "networkit_graphs/layers/free_association_layer_full_vocab_90_cos_thresh_nk_12-14_05:42.pickle\n"
     ]
    }
   ],
   "source": [
    "#### NetworkX\n",
    "nx_filename = f\"networkx_graphs/layers/free_association_layer_{threshold}_cos_thresh_nx_{file_date_info}.pickle\"\n",
    "pickle.dump(free_association_layer_nx, open(nx_filename, \"wb\" ) )   \n",
    "print(nx_filename)\n",
    "\n",
    "nx_full_vocab_filename = f\"networkx_graphs/layers/free_association_layer_full_vocab_{threshold}_cos_thresh_nx_{file_date_info}.pickle\"\n",
    "pickle.dump(free_association_layer_full_vocab_nx, open(nx_full_vocab_filename, \"wb\" ) )   \n",
    "print(nx_full_vocab_filename)\n",
    "\n",
    "\n",
    "#### NetworKit\n",
    "nk_filename = f\"networkit_graphs/layers/free_association_layer_{threshold}_cos_thresh_nk_{file_date_info}.pickle\"\n",
    "pickle.dump(free_association_layer_nk, open(nk_filename, \"wb\" ) )   \n",
    "print(nk_filename)\n",
    "\n",
    "nk_full_vocab_filename = f\"networkit_graphs/layers/free_association_layer_full_vocab_{threshold}_cos_thresh_nk_{file_date_info}.pickle\"\n",
    "pickle.dump(free_association_layer_full_vocab_nk, open(nk_full_vocab_filename, \"wb\" ) )   \n",
    "print(nk_full_vocab_filename)"
   ]
  },
  {
   "cell_type": "markdown",
   "id": "b6cc5d9d-0e0c-4baa-8321-a5ffbba64a03",
   "metadata": {
    "jp-MarkdownHeadingCollapsed": true,
    "tags": []
   },
   "source": [
    "#### Layer Analysis"
   ]
  },
  {
   "cell_type": "markdown",
   "id": "179f9466-9d5b-4d9d-bc9d-feb8e285ca02",
   "metadata": {},
   "source": [
    "##### 1) Mean degree of connectivity _k_\n",
    "Number of nodes adjacent to the node"
   ]
  },
  {
   "cell_type": "code",
   "execution_count": 54,
   "id": "ddafe016-97cb-4bd5-86e2-3d458e354b17",
   "metadata": {},
   "outputs": [
    {
     "data": {
      "text/plain": [
       "3.0043422733077905"
      ]
     },
     "execution_count": 54,
     "metadata": {},
     "output_type": "execute_result"
    }
   ],
   "source": [
    "mean_degree_connectivity_nx(free_association_layer_nx)"
   ]
  },
  {
   "cell_type": "code",
   "execution_count": 55,
   "id": "b3942096-deb4-4a30-875b-dceecfb09dee",
   "metadata": {},
   "outputs": [
    {
     "data": {
      "text/plain": [
       "3.0043422733077905"
      ]
     },
     "execution_count": 55,
     "metadata": {},
     "output_type": "execute_result"
    }
   ],
   "source": [
    "mean_degree_connectivity_nk(free_association_layer_nk)"
   ]
  },
  {
   "cell_type": "markdown",
   "id": "00081217-753c-49fd-89e6-e95f91ba0052",
   "metadata": {},
   "source": [
    "##### 2) Mean Clustering Coefficient _CC_\n",
    "The degree to which nodes tend to cluster together"
   ]
  },
  {
   "cell_type": "code",
   "execution_count": 56,
   "id": "de7cf2d0-d216-410f-bbfb-7b06734b5329",
   "metadata": {},
   "outputs": [
    {
     "data": {
      "text/plain": [
       "0.12318254461546252"
      ]
     },
     "execution_count": 56,
     "metadata": {},
     "output_type": "execute_result"
    }
   ],
   "source": [
    "nx.average_clustering(free_association_layer_nx)"
   ]
  },
  {
   "cell_type": "markdown",
   "id": "85372b6e-473b-4f88-afdf-94a33f44deb1",
   "metadata": {},
   "source": [
    "##### 3) Assortativity Coefficient _a_\n",
    "The similarity of connections in the graph with respect to the node degree"
   ]
  },
  {
   "cell_type": "code",
   "execution_count": 57,
   "id": "2ac4d6df-3aa3-4047-8131-7434be957856",
   "metadata": {},
   "outputs": [
    {
     "data": {
      "text/plain": [
       "-0.15229921739271393"
      ]
     },
     "execution_count": 57,
     "metadata": {},
     "output_type": "execute_result"
    }
   ],
   "source": [
    "nx.degree_assortativity_coefficient(free_association_layer_nx)"
   ]
  },
  {
   "cell_type": "markdown",
   "id": "17b9f534-ec5f-404b-a031-30bbd03e1912",
   "metadata": {},
   "source": [
    "##### 4) Percentage of nodes in the Largest Connected Component (LCC)\n",
    "The largest connected sugraph in the network"
   ]
  },
  {
   "cell_type": "code",
   "execution_count": 58,
   "id": "cf7ea645-1073-41e3-a272-09e7b0a82cd1",
   "metadata": {},
   "outputs": [
    {
     "data": {
      "text/plain": [
       "0.9693486590038314"
      ]
     },
     "execution_count": 58,
     "metadata": {},
     "output_type": "execute_result"
    }
   ],
   "source": [
    "perc_nodes_in_lcc_nx(free_association_layer_nx)"
   ]
  },
  {
   "cell_type": "code",
   "execution_count": 59,
   "id": "8c12c5a4-b104-4fb5-8c9f-a0ad0f054848",
   "metadata": {},
   "outputs": [
    {
     "data": {
      "text/plain": [
       "0.9693486590038314"
      ]
     },
     "execution_count": 59,
     "metadata": {},
     "output_type": "execute_result"
    }
   ],
   "source": [
    "perc_nodes_in_lcc_nk(free_association_layer_nk)"
   ]
  },
  {
   "cell_type": "markdown",
   "id": "aa45e5a5-04dd-4599-8b9c-3518dfe22b06",
   "metadata": {},
   "source": [
    "##### 5) Mean Shortest Path length in the Largest Connected Component _d_\n",
    "Average shorted path among the nodes in LCC"
   ]
  },
  {
   "cell_type": "code",
   "execution_count": 62,
   "id": "106a5635-0077-4754-aea6-5337248e292d",
   "metadata": {},
   "outputs": [
    {
     "data": {
      "text/plain": [
       "7.34155117723784"
      ]
     },
     "execution_count": 62,
     "metadata": {},
     "output_type": "execute_result"
    }
   ],
   "source": [
    "mean_shortest_path_lcc_nx(free_association_layer_nx)"
   ]
  },
  {
   "cell_type": "markdown",
   "id": "4ba31517-a192-4105-9d78-f4d24b7e4a0b",
   "metadata": {},
   "source": [
    "#### One layer has been added to multiplex ✅"
   ]
  },
  {
   "cell_type": "code",
   "execution_count": 188,
   "id": "31e0dbcc-8a9d-459e-970b-703f7a2b8bff",
   "metadata": {},
   "outputs": [
    {
     "name": "stdout",
     "output_type": "stream",
     "text": [
      "# Edges -> NetworkX: 11762 | NetworKit: 11762\n",
      "# Nodes -> NetworkX: 16706 | NetworKit: 16706\n"
     ]
    }
   ],
   "source": [
    "print(f\"# Edges -> NetworkX: {multiplex_nx.number_of_edges()} | NetworKit: {multiplex_nk.numberOfEdges()}\")\n",
    "print(f\"# Nodes -> NetworkX: {multiplex_nx.number_of_nodes()} | NetworKit: {multiplex_nk.numberOfNodes()}\")"
   ]
  },
  {
   "cell_type": "markdown",
   "id": "b283d5e7-d693-43eb-a42f-311775868f9b",
   "metadata": {
    "tags": []
   },
   "source": [
    "### Visual Layer"
   ]
  },
  {
   "cell_type": "code",
   "execution_count": 189,
   "id": "f16eaf63-7e53-4ba1-accd-afa462a45181",
   "metadata": {},
   "outputs": [],
   "source": [
    "visual_words = list(set([a for tup in layers['visual_list'] for a in tup]))\n",
    "visual_word_to_index = {visual_words[i]:i for i in range(len(visual_words))} # Dict of word:index\n",
    "visual_index_to_word = {i:visual_words[i] for i in range(len(visual_words))} # Dict of index:word\n",
    "pickle.dump(visual_index_to_word, open( \"generated_layer_data/visual_index_to_word_BERT_intersect.pickle\", \"wb\" ) ) \n",
    "\n",
    "\n",
    "## NetworkX\n",
    "visual_layer_nx = nx.Graph()\n",
    "visual_layer_nx.add_nodes_from(visual_words)\n",
    "\n",
    "visual_layer_full_vocab_nx = nx.Graph()\n",
    "visual_layer_full_vocab_nx.add_nodes_from(words)\n",
    "\n",
    "## NetworKit\n",
    "visual_layer_nk = nk.Graph(len(visual_words))\n",
    "visual_layer_full_vocab_nk = nk.Graph(len(words))"
   ]
  },
  {
   "cell_type": "code",
   "execution_count": 190,
   "id": "d6140c99-5a54-4fb4-8e3a-25b5f34cd64a",
   "metadata": {
    "tags": []
   },
   "outputs": [],
   "source": [
    "# Add the free association layer to the multiplex\n",
    "for pair in layers['visual_list']:\n",
    "    ## NetworkX\n",
    "    if multiplex_nx.has_edge(pair[0], pair[1]):\n",
    "        multiplex_nx[pair[0]][pair[1]]['weight'] += 1\n",
    "    else:\n",
    "        multiplex_nx.add_edge(pair[0], pair[1], weight=1)    \n",
    "    \n",
    "    visual_layer_full_vocab_nx.add_edge(pair[0], pair[1])\n",
    "    visual_layer_nx.add_edge(pair[0], pair[1])\n",
    "    \n",
    "    ## NetworKit\n",
    "    if multiplex_nk.hasEdge(word_to_index[pair[0]], word_to_index[pair[1]]):\n",
    "        multiplex_nk.increaseWeight(word_to_index[pair[0]], word_to_index[pair[1]], w=1)\n",
    "\n",
    "    else:\n",
    "        multiplex_nk.addEdge(word_to_index[pair[0]], word_to_index[pair[1]], w=1)\n",
    "    \n",
    "    visual_layer_nk.addEdge(visual_word_to_index[pair[0]], visual_word_to_index[pair[1]])\n",
    "    visual_layer_full_vocab_nk.addEdge(word_to_index[pair[0]], word_to_index[pair[1]])\n",
    "\n"
   ]
  },
  {
   "cell_type": "code",
   "execution_count": 191,
   "id": "87cb2f19-71ca-43b8-9b5c-bd17080a40c2",
   "metadata": {
    "tags": []
   },
   "outputs": [
    {
     "name": "stdout",
     "output_type": "stream",
     "text": [
      "Network Properties:\n",
      "nodes, edges\t\t\t16706, 473002\n",
      "directed?\t\t\tFalse\n",
      "weighted?\t\t\tTrue\n",
      "isolated nodes\t\t\t5548\n",
      "self-loops\t\t\t0\n",
      "density\t\t\t\t0.003390\n",
      "clustering coefficient\t\t0.227748\n",
      "min/max/avg degree\t\t0, 2025, 56.626601\n",
      "degree assortativity\t\t-0.241270\n",
      "number of connected components\t5644\n",
      "size of largest component\t10929 (65.42 %)\n"
     ]
    }
   ],
   "source": [
    "nk.overview(multiplex_nk)"
   ]
  },
  {
   "cell_type": "markdown",
   "id": "2c589706-50ce-4be0-b0ad-3e707fa0b050",
   "metadata": {},
   "source": [
    "#### Remove self loops -- I don't expect them to contribute any value to this task. "
   ]
  },
  {
   "cell_type": "code",
   "execution_count": 192,
   "id": "5181cf8e-cd92-4c80-b023-3f2440790af0",
   "metadata": {
    "tags": []
   },
   "outputs": [],
   "source": [
    "multiplex_nx.remove_edges_from(nx.selfloop_edges(multiplex_nx))\n",
    "multiplex_nk.removeSelfLoops()\n",
    "\n",
    "visual_layer_nx.remove_edges_from(nx.selfloop_edges(visual_layer_nx))\n",
    "visual_layer_nk.removeSelfLoops()\n",
    "\n",
    "visual_layer_full_vocab_nx.remove_edges_from(nx.selfloop_edges(visual_layer_full_vocab_nx))\n",
    "visual_layer_full_vocab_nk.removeSelfLoops()"
   ]
  },
  {
   "cell_type": "markdown",
   "id": "e40cc695-5d6c-4a08-8a77-8e3347967e1b",
   "metadata": {},
   "source": [
    "#### Save Layers"
   ]
  },
  {
   "cell_type": "code",
   "execution_count": 193,
   "id": "b683f119-7cd6-402a-aee6-0e9c0ab5eaa2",
   "metadata": {},
   "outputs": [
    {
     "name": "stdout",
     "output_type": "stream",
     "text": [
      "Layer-Only Vocab: # Edges -> NetworkX: 461317 | NetworKit: 461317\n",
      "Full Vocab:       # Edges -> NetworkX: 461317 | NetworKit: 461317\n",
      "\n",
      "\n",
      "Layer-Only Vocab: # Nodes -> NetworkX: 3881  | NetworKit: 3881\n",
      "Full Vocab:       # Nodes -> NetworkX: 16706 | NetworKit: 16706\n"
     ]
    }
   ],
   "source": [
    "print(f\"Layer-Only Vocab: # Edges -> NetworkX: {visual_layer_nx.number_of_edges()} | NetworKit: {visual_layer_nk.numberOfEdges()}\")\n",
    "print(f\"Full Vocab:       # Edges -> NetworkX: {visual_layer_full_vocab_nx.number_of_edges()} | NetworKit: {visual_layer_full_vocab_nk.numberOfEdges()}\")\n",
    "print(\"\\n\")\n",
    "print(f\"Layer-Only Vocab: # Nodes -> NetworkX: {visual_layer_nx.number_of_nodes()}  | NetworKit: {visual_layer_nk.numberOfNodes()}\")\n",
    "print(f\"Full Vocab:       # Nodes -> NetworkX: {visual_layer_full_vocab_nx.number_of_nodes()} | NetworKit: {visual_layer_full_vocab_nk.numberOfNodes()}\")"
   ]
  },
  {
   "cell_type": "code",
   "execution_count": 194,
   "id": "944cc888-4df4-4ae2-bb10-ade5ff124b7e",
   "metadata": {},
   "outputs": [
    {
     "name": "stdout",
     "output_type": "stream",
     "text": [
      "networkx_graphs/layers/visual_layer_90_cos_thresh_nx_12-14_05:42.pickle\n",
      "networkx_graphs/layers/visual_layer_full_vocab_90_cos_thresh_nx_12-14_05:42.pickle\n",
      "networkit_graphs/layers/visual_layer_90_cos_thresh_nk_12-14_05:42.pickle\n",
      "networkit_graphs/layers/visual_layer_full_vocab_90_cos_thresh_nk_12-14_05:42.pickle\n"
     ]
    }
   ],
   "source": [
    "#### NetworkX\n",
    "nx_filename = f\"networkx_graphs/layers/visual_layer_{threshold}_cos_thresh_nx_{file_date_info}.pickle\"\n",
    "pickle.dump(visual_layer_nx, open(nx_filename, \"wb\" ) )   \n",
    "print(nx_filename)\n",
    "\n",
    "nx_full_vocab_filename = f\"networkx_graphs/layers/visual_layer_full_vocab_{threshold}_cos_thresh_nx_{file_date_info}.pickle\"\n",
    "pickle.dump(visual_layer_full_vocab_nx, open(nx_full_vocab_filename, \"wb\" ) )   \n",
    "print(nx_full_vocab_filename)\n",
    "\n",
    "\n",
    "#### NetworKit\n",
    "nk_filename = f\"networkit_graphs/layers/visual_layer_{threshold}_cos_thresh_nk_{file_date_info}.pickle\"\n",
    "pickle.dump(visual_layer_nk, open(nk_filename, \"wb\" ) )   \n",
    "print(nk_filename)\n",
    "\n",
    "nk_full_vocab_filename = f\"networkit_graphs/layers/visual_layer_full_vocab_{threshold}_cos_thresh_nk_{file_date_info}.pickle\"\n",
    "pickle.dump(visual_layer_full_vocab_nk, open(nk_full_vocab_filename, \"wb\" ) )   \n",
    "print(nk_full_vocab_filename)"
   ]
  },
  {
   "cell_type": "markdown",
   "id": "ce5e15a2-7693-428f-99ed-3e4cd0a8fbc4",
   "metadata": {
    "jp-MarkdownHeadingCollapsed": true,
    "tags": []
   },
   "source": [
    "#### Layer Analysis"
   ]
  },
  {
   "cell_type": "markdown",
   "id": "b73d4045-13cf-4dcf-b92f-a8a71c409eae",
   "metadata": {},
   "source": [
    "##### 1) Mean degree of connectivity _k_"
   ]
  },
  {
   "cell_type": "code",
   "execution_count": 71,
   "id": "48b102b6-be52-4ef9-beeb-03d125468a89",
   "metadata": {},
   "outputs": [
    {
     "data": {
      "text/plain": [
       "237.73099716567896"
      ]
     },
     "execution_count": 71,
     "metadata": {},
     "output_type": "execute_result"
    }
   ],
   "source": [
    "mean_degree_connectivity_nx(visual_layer_nx)"
   ]
  },
  {
   "cell_type": "code",
   "execution_count": 72,
   "id": "76f35fb1-39a3-495a-84f2-3ad0c4902a97",
   "metadata": {},
   "outputs": [
    {
     "data": {
      "text/plain": [
       "237.73099716567896"
      ]
     },
     "execution_count": 72,
     "metadata": {},
     "output_type": "execute_result"
    }
   ],
   "source": [
    "mean_degree_connectivity_nk(visual_layer_nk)"
   ]
  },
  {
   "cell_type": "markdown",
   "id": "f78fc57e-c87a-45a2-909d-367e1729fcf6",
   "metadata": {},
   "source": [
    "##### 2) Mean Clustering Coefficient _CC_"
   ]
  },
  {
   "cell_type": "code",
   "execution_count": 73,
   "id": "c29d8ade-d4b2-4bae-a33e-d1cd9e5a5418",
   "metadata": {},
   "outputs": [
    {
     "data": {
      "text/plain": [
       "0.765524311803005"
      ]
     },
     "execution_count": 73,
     "metadata": {},
     "output_type": "execute_result"
    }
   ],
   "source": [
    "nx.average_clustering(visual_layer_nx)"
   ]
  },
  {
   "cell_type": "markdown",
   "id": "dfbf4021-d811-4910-ac07-3c59e72843f5",
   "metadata": {},
   "source": [
    "##### 3) Assortativity Coefficient _a_"
   ]
  },
  {
   "cell_type": "code",
   "execution_count": 74,
   "id": "5b3f88bd-9da3-45fe-8c4a-8e8a75c3a2e6",
   "metadata": {},
   "outputs": [
    {
     "data": {
      "text/plain": [
       "-0.3372534316681479"
      ]
     },
     "execution_count": 74,
     "metadata": {},
     "output_type": "execute_result"
    }
   ],
   "source": [
    "nx.degree_assortativity_coefficient(visual_layer_nx)"
   ]
  },
  {
   "cell_type": "markdown",
   "id": "cec8a51a-44fd-481c-b375-ade0d07b17f1",
   "metadata": {},
   "source": [
    "##### 4) Percentage of nodes in the Largest Connected Component _Conn._"
   ]
  },
  {
   "cell_type": "code",
   "execution_count": 75,
   "id": "95b1dbd9-1941-4dbb-b20d-e8c420106a4c",
   "metadata": {},
   "outputs": [
    {
     "data": {
      "text/plain": [
       "0.9963926822983767"
      ]
     },
     "execution_count": 75,
     "metadata": {},
     "output_type": "execute_result"
    }
   ],
   "source": [
    "perc_nodes_in_lcc_nx(visual_layer_nx)"
   ]
  },
  {
   "cell_type": "code",
   "execution_count": 76,
   "id": "9f2b81cc-ed14-44b3-96d0-c2629ec8617f",
   "metadata": {},
   "outputs": [
    {
     "data": {
      "text/plain": [
       "0.9963926822983767"
      ]
     },
     "execution_count": 76,
     "metadata": {},
     "output_type": "execute_result"
    }
   ],
   "source": [
    "perc_nodes_in_lcc_nk(visual_layer_nk)"
   ]
  },
  {
   "cell_type": "markdown",
   "id": "d68be507-d9a0-4a93-9492-27a8707d1844",
   "metadata": {},
   "source": [
    "##### 5) Mean Shortest Path length in the Largest Connected Component _d_"
   ]
  },
  {
   "cell_type": "code",
   "execution_count": 77,
   "id": "bacafb8b-e361-4ccc-97db-6825ebfb4b15",
   "metadata": {},
   "outputs": [
    {
     "data": {
      "text/plain": [
       "2.3737910725626032"
      ]
     },
     "execution_count": 77,
     "metadata": {},
     "output_type": "execute_result"
    }
   ],
   "source": [
    "mean_shortest_path_lcc_nx(visual_layer_nx)"
   ]
  },
  {
   "cell_type": "markdown",
   "id": "61505f88-1c08-4155-ad7d-918d604a11da",
   "metadata": {},
   "source": [
    "#### Two layers have been added to multiplex ✅"
   ]
  },
  {
   "cell_type": "code",
   "execution_count": 195,
   "id": "5d38e5f5-822f-40a7-b430-040f7497e707",
   "metadata": {},
   "outputs": [
    {
     "name": "stdout",
     "output_type": "stream",
     "text": [
      "# Edges -> NetworkX: 473002 | NetworKit: 473002\n",
      "# Nodes -> NetworkX: 16706 | NetworKit: 16706\n"
     ]
    }
   ],
   "source": [
    "print(f\"# Edges -> NetworkX: {multiplex_nx.number_of_edges()} | NetworKit: {multiplex_nk.numberOfEdges()}\")\n",
    "print(f\"# Nodes -> NetworkX: {multiplex_nx.number_of_nodes()} | NetworKit: {multiplex_nk.numberOfNodes()}\")"
   ]
  },
  {
   "cell_type": "markdown",
   "id": "8a97fb6c-0a46-4134-8465-3de5688b9b4c",
   "metadata": {},
   "source": [
    "##### As expected, now that we have edges with a weight > 1, the network returns True for weighted. "
   ]
  },
  {
   "cell_type": "code",
   "execution_count": 196,
   "id": "17781fc1-69a4-4336-951a-dc48fa337fff",
   "metadata": {},
   "outputs": [
    {
     "data": {
      "text/plain": [
       "True"
      ]
     },
     "execution_count": 196,
     "metadata": {},
     "output_type": "execute_result"
    }
   ],
   "source": [
    "nx.is_weighted(multiplex_nx) # Will return true once we have added edges which result in at least one edge weight greater than 1"
   ]
  },
  {
   "cell_type": "markdown",
   "id": "90666852-b7dd-4679-901d-3fa8c5bdeeca",
   "metadata": {},
   "source": [
    "### Lancaster Layer"
   ]
  },
  {
   "cell_type": "code",
   "execution_count": 197,
   "id": "4e4bcf54-a73f-4dae-a955-a958e8c95980",
   "metadata": {},
   "outputs": [],
   "source": [
    "lancaster_words = list(set([a for tup in layers['lancaster_list'] for a in tup]))\n",
    "lancaster_word_to_index = {lancaster_words[i]:i for i in range(len(lancaster_words))} # Dict of word:index\n",
    "lancaster_index_to_word = {i:lancaster_words[i] for i in range(len(lancaster_words))} # Dict of index:word\n",
    "pickle.dump(lancaster_index_to_word, open( \"generated_layer_data/lancaster_index_to_word_BERT_intersect.pickle\", \"wb\" ) ) \n",
    "\n",
    "\n",
    "## NetworkX\n",
    "lancaster_layer_nx = nx.Graph()\n",
    "lancaster_layer_nx.add_nodes_from(lancaster_words)\n",
    "\n",
    "lancaster_layer_full_vocab_nx = nx.Graph()\n",
    "lancaster_layer_full_vocab_nx.add_nodes_from(words)\n",
    "\n",
    "\n",
    "\n",
    "## NetworKit\n",
    "lancaster_layer_nk = nk.Graph(len(lancaster_words))\n",
    "lancaster_layer_full_vocab_nk = nk.Graph(len(words))"
   ]
  },
  {
   "cell_type": "code",
   "execution_count": 198,
   "id": "e4ee82ec-d191-4583-8e12-728f7bceb1f5",
   "metadata": {
    "tags": []
   },
   "outputs": [],
   "source": [
    "# Add the free association layer to the multiplex\n",
    "for pair in layers['lancaster_list']:\n",
    "    ## NetworkX\n",
    "    if multiplex_nx.has_edge(pair[0], pair[1]):\n",
    "        multiplex_nx[pair[0]][pair[1]]['weight'] += 1\n",
    "    else:\n",
    "        multiplex_nx.add_edge(pair[0], pair[1], weight=1)    \n",
    "    \n",
    "    lancaster_layer_nx.add_edge(pair[0], pair[1])\n",
    "    lancaster_layer_full_vocab_nx.add_edge(pair[0], pair[1])\n",
    "    \n",
    "    \n",
    "    ## NetworKit\n",
    "    if multiplex_nk.hasEdge(word_to_index[pair[0]], word_to_index[pair[1]]):\n",
    "        multiplex_nk.increaseWeight(word_to_index[pair[0]], word_to_index[pair[1]], w=1)\n",
    "\n",
    "    else:\n",
    "        multiplex_nk.addEdge(word_to_index[pair[0]], word_to_index[pair[1]], w=1)\n",
    "    \n",
    "    lancaster_layer_nk.addEdge(lancaster_word_to_index[pair[0]], lancaster_word_to_index[pair[1]])\n",
    "    lancaster_layer_full_vocab_nk.addEdge(word_to_index[pair[0]], word_to_index[pair[1]])\n"
   ]
  },
  {
   "cell_type": "code",
   "execution_count": 199,
   "id": "7f078a7c-b3e9-43f2-bb5e-1f69237ae4bc",
   "metadata": {
    "tags": []
   },
   "outputs": [
    {
     "name": "stdout",
     "output_type": "stream",
     "text": [
      "Network Properties:\n",
      "nodes, edges\t\t\t16706, 1846353\n",
      "directed?\t\t\tFalse\n",
      "weighted?\t\t\tTrue\n",
      "isolated nodes\t\t\t1825\n",
      "self-loops\t\t\t0\n",
      "density\t\t\t\t0.013232\n",
      "clustering coefficient\t\t0.428246\n",
      "min/max/avg degree\t\t0, 2638, 221.040704\n",
      "degree assortativity\t\t0.185446\n",
      "number of connected components\t1837\n",
      "size of largest component\t14856 (88.93 %)\n"
     ]
    }
   ],
   "source": [
    "nk.overview(multiplex_nk)"
   ]
  },
  {
   "cell_type": "markdown",
   "id": "f5a460e8-e12b-45e1-9e26-2d02b8a7b2e7",
   "metadata": {},
   "source": [
    "#### Remove self loops -- I don't expect them to contribute any value to this task. "
   ]
  },
  {
   "cell_type": "code",
   "execution_count": 200,
   "id": "eb00ea96-b603-4f8d-9267-9ab65187cb56",
   "metadata": {
    "tags": []
   },
   "outputs": [],
   "source": [
    "multiplex_nx.remove_edges_from(nx.selfloop_edges(multiplex_nx))\n",
    "multiplex_nk.removeSelfLoops()\n",
    "\n",
    "lancaster_layer_nx.remove_edges_from(nx.selfloop_edges(lancaster_layer_nx))\n",
    "lancaster_layer_nk.removeSelfLoops()\n",
    "\n",
    "lancaster_layer_full_vocab_nx.remove_edges_from(nx.selfloop_edges(lancaster_layer_full_vocab_nx))\n",
    "lancaster_layer_full_vocab_nk.removeSelfLoops()"
   ]
  },
  {
   "cell_type": "markdown",
   "id": "c9ce2a61-2352-45e1-96eb-07f8c45ac76b",
   "metadata": {},
   "source": [
    "#### Save Layers"
   ]
  },
  {
   "cell_type": "code",
   "execution_count": 201,
   "id": "e9c056a6-4a4f-4586-928a-77fe990a79d7",
   "metadata": {},
   "outputs": [
    {
     "name": "stdout",
     "output_type": "stream",
     "text": [
      "Layer-Only Vocab: # Edges -> NetworkX: 1375293 | NetworKit: 1375293\n",
      "Full Vocab:       # Edges -> NetworkX: 1375293 | NetworKit: 1375293\n",
      "\n",
      "\n",
      "Layer-Only Vocab: # Nodes -> NetworkX: 11273  | NetworKit: 11273\n",
      "Full Vocab:       # Nodes -> NetworkX: 16706 | NetworKit: 16706\n"
     ]
    }
   ],
   "source": [
    "print(f\"Layer-Only Vocab: # Edges -> NetworkX: {lancaster_layer_nx.number_of_edges()} | NetworKit: {lancaster_layer_nk.numberOfEdges()}\")\n",
    "print(f\"Full Vocab:       # Edges -> NetworkX: {lancaster_layer_full_vocab_nx.number_of_edges()} | NetworKit: {lancaster_layer_full_vocab_nk.numberOfEdges()}\")\n",
    "print(\"\\n\")\n",
    "print(f\"Layer-Only Vocab: # Nodes -> NetworkX: {lancaster_layer_nx.number_of_nodes()}  | NetworKit: {lancaster_layer_nk.numberOfNodes()}\")\n",
    "print(f\"Full Vocab:       # Nodes -> NetworkX: {lancaster_layer_full_vocab_nx.number_of_nodes()} | NetworKit: {lancaster_layer_full_vocab_nk.numberOfNodes()}\")"
   ]
  },
  {
   "cell_type": "code",
   "execution_count": 203,
   "id": "db856e70-557c-4d1f-ab00-cf2bda23c479",
   "metadata": {},
   "outputs": [
    {
     "name": "stdout",
     "output_type": "stream",
     "text": [
      "networkx_graphs/layers/lancaster_layer_90_cos_thresh_nx_12-14_05:42.pickle\n",
      "networkx_graphs/layers/lancaster_layer_full_vocab_90_cos_thresh_nx_12-14_05:42.pickle\n",
      "networkit_graphs/layers/lancaster_layer_90_cos_thresh_nk_12-14_05:42.pickle\n",
      "networkit_graphs/layers/lancaster_layer_full_vocab_90_cos_thresh_nk_12-14_05:42.pickle\n"
     ]
    }
   ],
   "source": [
    "#### NetworkX\n",
    "nx_filename = f\"networkx_graphs/layers/lancaster_layer_{threshold}_cos_thresh_nx_{file_date_info}.pickle\"\n",
    "pickle.dump(lancaster_layer_nx, open(nx_filename, \"wb\" ) )   \n",
    "print(nx_filename)\n",
    "\n",
    "nx_full_vocab_filename = f\"networkx_graphs/layers/lancaster_layer_full_vocab_{threshold}_cos_thresh_nx_{file_date_info}.pickle\"\n",
    "pickle.dump(lancaster_layer_full_vocab_nx, open(nx_full_vocab_filename, \"wb\" ) )   \n",
    "print(nx_full_vocab_filename)\n",
    "\n",
    "\n",
    "#### NetworKit\n",
    "nk_filename = f\"networkit_graphs/layers/lancaster_layer_{threshold}_cos_thresh_nk_{file_date_info}.pickle\"\n",
    "pickle.dump(lancaster_layer_nk, open(nk_filename, \"wb\" ) )   \n",
    "print(nk_filename)\n",
    "\n",
    "nk_full_vocab_filename = f\"networkit_graphs/layers/lancaster_layer_full_vocab_{threshold}_cos_thresh_nk_{file_date_info}.pickle\"\n",
    "pickle.dump(lancaster_layer_full_vocab_nk, open(nk_full_vocab_filename, \"wb\" ) )   \n",
    "print(nk_full_vocab_filename)"
   ]
  },
  {
   "cell_type": "markdown",
   "id": "c40c160a-a631-4ce1-b3e9-15f29f252adf",
   "metadata": {
    "jp-MarkdownHeadingCollapsed": true,
    "tags": []
   },
   "source": [
    "#### Layer Analysis"
   ]
  },
  {
   "cell_type": "markdown",
   "id": "360ca9ca-3ed7-4be5-baa3-fd650897e64a",
   "metadata": {
    "tags": []
   },
   "source": [
    "##### 1) Mean degree of connectivity _k_"
   ]
  },
  {
   "cell_type": "code",
   "execution_count": 85,
   "id": "7d2302f3-75dc-4e67-b3eb-3616232326e6",
   "metadata": {},
   "outputs": [
    {
     "data": {
      "text/plain": [
       "243.997693604187"
      ]
     },
     "execution_count": 85,
     "metadata": {},
     "output_type": "execute_result"
    }
   ],
   "source": [
    "mean_degree_connectivity_nx(lancaster_layer_nx)"
   ]
  },
  {
   "cell_type": "code",
   "execution_count": 86,
   "id": "4eae5098-dd6f-45d5-96dd-799e93dc39fe",
   "metadata": {},
   "outputs": [
    {
     "data": {
      "text/plain": [
       "243.997693604187"
      ]
     },
     "execution_count": 86,
     "metadata": {},
     "output_type": "execute_result"
    }
   ],
   "source": [
    "mean_degree_connectivity_nk(lancaster_layer_nk)"
   ]
  },
  {
   "cell_type": "markdown",
   "id": "34b76ef5-0bb9-455a-bf2a-f889c0c9682e",
   "metadata": {},
   "source": [
    "##### 2) Mean Clustering Coefficient _CC_"
   ]
  },
  {
   "cell_type": "code",
   "execution_count": 87,
   "id": "8ab41b09-c48a-487a-aeb2-365a7c616f66",
   "metadata": {},
   "outputs": [
    {
     "data": {
      "text/plain": [
       "0.4431936950059712"
      ]
     },
     "execution_count": 87,
     "metadata": {},
     "output_type": "execute_result"
    }
   ],
   "source": [
    "nx.average_clustering(lancaster_layer_nx)"
   ]
  },
  {
   "cell_type": "markdown",
   "id": "842c24da-5049-42ea-81bc-ba1e0b12d658",
   "metadata": {},
   "source": [
    "##### 3) Assortativity Coefficient _a_"
   ]
  },
  {
   "cell_type": "code",
   "execution_count": 88,
   "id": "5be15b03-7934-475c-9e61-66491418053a",
   "metadata": {},
   "outputs": [
    {
     "data": {
      "text/plain": [
       "0.38844316153996505"
      ]
     },
     "execution_count": 88,
     "metadata": {},
     "output_type": "execute_result"
    }
   ],
   "source": [
    "nx.degree_assortativity_coefficient(lancaster_layer_nx)"
   ]
  },
  {
   "cell_type": "markdown",
   "id": "9fca552b-db53-476a-b37f-7442976a1313",
   "metadata": {},
   "source": [
    "##### 4) Percentage of nodes in the Largest Connected Component _Conn._"
   ]
  },
  {
   "cell_type": "code",
   "execution_count": 89,
   "id": "c6bab490-ccd8-4c36-b427-330f9362d473",
   "metadata": {},
   "outputs": [
    {
     "data": {
      "text/plain": [
       "0.9968952364055709"
      ]
     },
     "execution_count": 89,
     "metadata": {},
     "output_type": "execute_result"
    }
   ],
   "source": [
    "perc_nodes_in_lcc_nx(lancaster_layer_nx)"
   ]
  },
  {
   "cell_type": "code",
   "execution_count": 90,
   "id": "b23d9938-2471-4ab4-828d-76cac65abf03",
   "metadata": {},
   "outputs": [
    {
     "data": {
      "text/plain": [
       "0.9968952364055709"
      ]
     },
     "execution_count": 90,
     "metadata": {},
     "output_type": "execute_result"
    }
   ],
   "source": [
    "perc_nodes_in_lcc_nk(lancaster_layer_nk)"
   ]
  },
  {
   "cell_type": "markdown",
   "id": "e43070de-2e49-4f44-a5ad-7d4250de38c7",
   "metadata": {},
   "source": [
    "##### 5) Mean Shortest Path length in the Largest Connected Component _d_"
   ]
  },
  {
   "cell_type": "code",
   "execution_count": 91,
   "id": "7bdf5f6d-9434-4bd2-8a99-15dc2c49ceb1",
   "metadata": {},
   "outputs": [
    {
     "data": {
      "text/plain": [
       "3.1951176723515418"
      ]
     },
     "execution_count": 91,
     "metadata": {},
     "output_type": "execute_result"
    }
   ],
   "source": [
    "mean_shortest_path_lcc_nx(lancaster_layer_nx)"
   ]
  },
  {
   "cell_type": "markdown",
   "id": "d3d0e20f-ad61-49ce-b1f0-f22cb0132c86",
   "metadata": {
    "tags": []
   },
   "source": [
    "#### Three layers have been added to multiplex ✅"
   ]
  },
  {
   "cell_type": "code",
   "execution_count": 204,
   "id": "50b9bfb5-5e52-4126-9750-1afe1a634985",
   "metadata": {},
   "outputs": [
    {
     "name": "stdout",
     "output_type": "stream",
     "text": [
      "# Edges -> NetworkX: 1846353 | NetworKit: 1846353\n",
      "# Nodes -> NetworkX: 16706 | NetworKit: 16706\n"
     ]
    }
   ],
   "source": [
    "print(f\"# Edges -> NetworkX: {multiplex_nx.number_of_edges()} | NetworKit: {multiplex_nk.numberOfEdges()}\")\n",
    "print(f\"# Nodes -> NetworkX: {multiplex_nx.number_of_nodes()} | NetworKit: {multiplex_nk.numberOfNodes()}\")"
   ]
  },
  {
   "cell_type": "markdown",
   "id": "48b066ae-5fc5-4dde-b9ec-fb79b25b6e58",
   "metadata": {},
   "source": [
    "### BERT Word Embedding Layer"
   ]
  },
  {
   "cell_type": "code",
   "execution_count": 205,
   "id": "dba50a2c-c5d4-4fa1-af42-b6a6cbe71e96",
   "metadata": {},
   "outputs": [],
   "source": [
    "bert_words = list(set([a for tup in layers['bert_word_emb_list'] for a in tup]))\n",
    "bert_word_to_index = {bert_words[i]:i for i in range(len(bert_words))} # Dict of word:index\n",
    "bert_index_to_word = {i:bert_words[i] for i in range(len(bert_words))} # Dict of index:word\n",
    "pickle.dump(bert_index_to_word, open( \"generated_layer_data/bert_index_to_word_BERT_intersect.pickle\", \"wb\" ) ) \n",
    "\n",
    "\n",
    "## NetworkX\n",
    "bert_layer_nx = nx.Graph()\n",
    "bert_layer_nx.add_nodes_from(bert_words)\n",
    "\n",
    "bert_layer_full_vocab_nx = nx.Graph()\n",
    "bert_layer_full_vocab_nx.add_nodes_from(words)\n",
    "\n",
    "## NetworKit\n",
    "bert_layer_nk = nk.Graph(len(bert_words))\n",
    "bert_layer_full_vocab_nk = nk.Graph(len(words))"
   ]
  },
  {
   "cell_type": "code",
   "execution_count": 206,
   "id": "db2493b5-0ca7-4adb-a7cb-81f254b6d605",
   "metadata": {
    "tags": []
   },
   "outputs": [],
   "source": [
    "# Add the free association layer to the multiplex\n",
    "for pair in layers['bert_word_emb_list']:\n",
    "    ## NetworkX\n",
    "    if multiplex_nx.has_edge(pair[0], pair[1]):\n",
    "        multiplex_nx[pair[0]][pair[1]]['weight'] += 1\n",
    "    else:\n",
    "        multiplex_nx.add_edge(pair[0], pair[1], weight=1)    \n",
    "    \n",
    "    bert_layer_nx.add_edge(pair[0], pair[1])\n",
    "    bert_layer_full_vocab_nx.add_edge(pair[0], pair[1])\n",
    "\n",
    "    \n",
    "    ## NetworKit\n",
    "    if multiplex_nk.hasEdge(word_to_index[pair[0]], word_to_index[pair[1]]):\n",
    "        multiplex_nk.increaseWeight(word_to_index[pair[0]], word_to_index[pair[1]], w=1)\n",
    "\n",
    "    else:\n",
    "        multiplex_nk.addEdge(word_to_index[pair[0]], word_to_index[pair[1]], w=1)\n",
    "    \n",
    "    bert_layer_nk.addEdge(bert_word_to_index[pair[0]], bert_word_to_index[pair[1]])\n",
    "    bert_layer_full_vocab_nk.addEdge(word_to_index[pair[0]], word_to_index[pair[1]])\n"
   ]
  },
  {
   "cell_type": "code",
   "execution_count": 207,
   "id": "62ac4262-22d2-472e-bfa7-e9e9fea2af1f",
   "metadata": {
    "tags": []
   },
   "outputs": [
    {
     "name": "stdout",
     "output_type": "stream",
     "text": [
      "Network Properties:\n",
      "nodes, edges\t\t\t16706, 2020659\n",
      "directed?\t\t\tFalse\n",
      "weighted?\t\t\tTrue\n",
      "isolated nodes\t\t\t0\n",
      "self-loops\t\t\t0\n",
      "density\t\t\t\t0.014481\n",
      "clustering coefficient\t\t0.457812\n",
      "min/max/avg degree\t\t1, 2638, 241.908177\n",
      "degree assortativity\t\t0.171620\n",
      "number of connected components\t110\n",
      "size of largest component\t16441 (98.41 %)\n"
     ]
    }
   ],
   "source": [
    "nk.overview(multiplex_nk)"
   ]
  },
  {
   "cell_type": "markdown",
   "id": "379029ba-3fd1-4935-ac6b-d3ba810ce50f",
   "metadata": {
    "tags": []
   },
   "source": [
    "#### Remove self loops -- I don't expect them to contribute any value to this task. "
   ]
  },
  {
   "cell_type": "code",
   "execution_count": 208,
   "id": "e7a13fa6-44bd-4fb7-a4c5-d8923666fc30",
   "metadata": {
    "tags": []
   },
   "outputs": [],
   "source": [
    "multiplex_nx.remove_edges_from(nx.selfloop_edges(multiplex_nx))\n",
    "multiplex_nk.removeSelfLoops()\n",
    "\n",
    "bert_layer_nx.remove_edges_from(nx.selfloop_edges(bert_layer_nx))\n",
    "bert_layer_nk.removeSelfLoops()\n",
    "\n",
    "bert_layer_full_vocab_nx.remove_edges_from(nx.selfloop_edges(bert_layer_full_vocab_nx))\n",
    "bert_layer_full_vocab_nk.removeSelfLoops()"
   ]
  },
  {
   "cell_type": "markdown",
   "id": "d86bcfb0-7bd8-41b1-bf77-c94a66d38b03",
   "metadata": {},
   "source": [
    "#### Save Layers"
   ]
  },
  {
   "cell_type": "code",
   "execution_count": 209,
   "id": "323d0bf7-87eb-4a5e-b685-d9e071cc90c5",
   "metadata": {},
   "outputs": [
    {
     "name": "stdout",
     "output_type": "stream",
     "text": [
      "Layer-Only Vocab: # Edges -> NetworkX: 177013 | NetworKit: 177013\n",
      "Full Vocab:       # Edges -> NetworkX: 177013 | NetworKit: 177013\n",
      "\n",
      "\n",
      "Layer-Only Vocab: # Nodes -> NetworkX: 5639  | NetworKit: 5639\n",
      "Full Vocab:       # Nodes -> NetworkX: 16706 | NetworKit: 16706\n"
     ]
    }
   ],
   "source": [
    "print(f\"Layer-Only Vocab: # Edges -> NetworkX: {bert_layer_nx.number_of_edges()} | NetworKit: {bert_layer_nk.numberOfEdges()}\")\n",
    "print(f\"Full Vocab:       # Edges -> NetworkX: {bert_layer_full_vocab_nx.number_of_edges()} | NetworKit: {bert_layer_full_vocab_nk.numberOfEdges()}\")\n",
    "print(\"\\n\")\n",
    "print(f\"Layer-Only Vocab: # Nodes -> NetworkX: {bert_layer_nx.number_of_nodes()}  | NetworKit: {bert_layer_nk.numberOfNodes()}\")\n",
    "print(f\"Full Vocab:       # Nodes -> NetworkX: {bert_layer_full_vocab_nx.number_of_nodes()} | NetworKit: {bert_layer_full_vocab_nk.numberOfNodes()}\")"
   ]
  },
  {
   "cell_type": "code",
   "execution_count": 210,
   "id": "a16bf6e2-c919-4906-9268-517671389fe5",
   "metadata": {},
   "outputs": [
    {
     "name": "stdout",
     "output_type": "stream",
     "text": [
      "networkx_graphs/layers/bert_layer_90_cos_thresh_nx_12-14_05:42.pickle\n",
      "networkx_graphs/layers/bert_layer_full_vocab_90_cos_thresh_nx_12-14_05:42.pickle\n",
      "networkit_graphs/layers/bert_layer_90_cos_thresh_nk_12-14_05:42.pickle\n",
      "networkit_graphs/layers/bert_layer_full_vocab_90_cos_thresh_nk_12-14_05:42.pickle\n"
     ]
    }
   ],
   "source": [
    "#### NetowrkX\n",
    "nx_filename = f\"networkx_graphs/layers/bert_layer_{threshold}_cos_thresh_nx_{file_date_info}.pickle\"\n",
    "pickle.dump(bert_layer_nx, open(nx_filename, \"wb\" ) )   \n",
    "print(nx_filename)\n",
    "\n",
    "nx_full_vocab_filename = f\"networkx_graphs/layers/bert_layer_full_vocab_{threshold}_cos_thresh_nx_{file_date_info}.pickle\"\n",
    "pickle.dump(bert_layer_full_vocab_nx, open(nx_full_vocab_filename, \"wb\" ) )   \n",
    "print(nx_full_vocab_filename)\n",
    "\n",
    "#### NetworKit\n",
    "nk_filename = f\"networkit_graphs/layers/bert_layer_{threshold}_cos_thresh_nk_{file_date_info}.pickle\"\n",
    "pickle.dump(bert_layer_nk, open(nk_filename, \"wb\" ) )   \n",
    "print(nk_filename)\n",
    "\n",
    "nk_full_vocab_filename = f\"networkit_graphs/layers/bert_layer_full_vocab_{threshold}_cos_thresh_nk_{file_date_info}.pickle\"\n",
    "pickle.dump(bert_layer_full_vocab_nk, open(nk_full_vocab_filename, \"wb\" ) )   \n",
    "print(nk_full_vocab_filename)"
   ]
  },
  {
   "cell_type": "markdown",
   "id": "f16e1740-fa41-4642-b995-1f7b55d2f037",
   "metadata": {
    "jp-MarkdownHeadingCollapsed": true,
    "tags": []
   },
   "source": [
    "#### Layer Analysis"
   ]
  },
  {
   "cell_type": "markdown",
   "id": "145d38f6-7d58-4373-b094-036b42345ca3",
   "metadata": {},
   "source": [
    "##### 1) Mean degree of connectivity _k_"
   ]
  },
  {
   "cell_type": "code",
   "execution_count": 98,
   "id": "864b5bee-b23a-42b3-936b-3be90ee1bc9f",
   "metadata": {},
   "outputs": [
    {
     "data": {
      "text/plain": [
       "62.78169888278064"
      ]
     },
     "execution_count": 98,
     "metadata": {},
     "output_type": "execute_result"
    }
   ],
   "source": [
    "mean_degree_connectivity_nx(bert_layer_nx)"
   ]
  },
  {
   "cell_type": "code",
   "execution_count": 99,
   "id": "9e0bff21-8692-4457-a2b8-83f11d7dacbb",
   "metadata": {},
   "outputs": [
    {
     "data": {
      "text/plain": [
       "62.78169888278064"
      ]
     },
     "execution_count": 99,
     "metadata": {},
     "output_type": "execute_result"
    }
   ],
   "source": [
    "mean_degree_connectivity_nk(bert_layer_nk)"
   ]
  },
  {
   "cell_type": "markdown",
   "id": "d16c712f-d6d1-4edc-91af-d8f85e5f4058",
   "metadata": {},
   "source": [
    "##### 2) Mean Clustering Coefficient _CC_"
   ]
  },
  {
   "cell_type": "code",
   "execution_count": 100,
   "id": "6ce6d1cc-db57-4353-a3a5-58f7ecd4edc8",
   "metadata": {},
   "outputs": [
    {
     "data": {
      "text/plain": [
       "0.36108860249068137"
      ]
     },
     "execution_count": 100,
     "metadata": {},
     "output_type": "execute_result"
    }
   ],
   "source": [
    "nx.average_clustering(bert_layer_nx)"
   ]
  },
  {
   "cell_type": "markdown",
   "id": "a58d6ac0-c6df-41aa-a32b-5ce8e1eaf5fd",
   "metadata": {},
   "source": [
    "##### 3) Assortativity Coefficient _a_"
   ]
  },
  {
   "cell_type": "code",
   "execution_count": 101,
   "id": "8a3d8e34-16d7-4a3a-8c54-a3309d5b9054",
   "metadata": {},
   "outputs": [
    {
     "data": {
      "text/plain": [
       "0.053698120711544256"
      ]
     },
     "execution_count": 101,
     "metadata": {},
     "output_type": "execute_result"
    }
   ],
   "source": [
    "nx.degree_assortativity_coefficient(bert_layer_nx)"
   ]
  },
  {
   "cell_type": "markdown",
   "id": "35bf6ba9-3082-4aea-b66b-18c955c3d625",
   "metadata": {},
   "source": [
    "##### 4) Percentage of nodes in the Largest Connected Component _Conn._"
   ]
  },
  {
   "cell_type": "code",
   "execution_count": 102,
   "id": "8cea0a67-0f80-44a0-b5d2-873ed07668b3",
   "metadata": {},
   "outputs": [
    {
     "data": {
      "text/plain": [
       "0.778152154637347"
      ]
     },
     "execution_count": 102,
     "metadata": {},
     "output_type": "execute_result"
    }
   ],
   "source": [
    "perc_nodes_in_lcc_nx(bert_layer_nx)"
   ]
  },
  {
   "cell_type": "code",
   "execution_count": 103,
   "id": "38ea5786-6ff6-4916-b8e7-6a27c010b920",
   "metadata": {},
   "outputs": [
    {
     "data": {
      "text/plain": [
       "0.778152154637347"
      ]
     },
     "execution_count": 103,
     "metadata": {},
     "output_type": "execute_result"
    }
   ],
   "source": [
    "perc_nodes_in_lcc_nk(bert_layer_nk)"
   ]
  },
  {
   "cell_type": "markdown",
   "id": "20a4fe40-f50b-4376-b5d8-ec9a5abdfc78",
   "metadata": {},
   "source": [
    "##### 5) Mean Shortest Path length in the Largest Connected Component _d_"
   ]
  },
  {
   "cell_type": "code",
   "execution_count": 104,
   "id": "c03f0856-35da-49fb-9262-9de9f76aaa72",
   "metadata": {},
   "outputs": [
    {
     "data": {
      "text/plain": [
       "3.5770940245886838"
      ]
     },
     "execution_count": 104,
     "metadata": {},
     "output_type": "execute_result"
    }
   ],
   "source": [
    "mean_shortest_path_lcc_nx(bert_layer_nx)"
   ]
  },
  {
   "cell_type": "markdown",
   "id": "9d6025fa-12b5-4196-8e88-56fbf72d626a",
   "metadata": {},
   "source": [
    "#### Four layers have been added to multiplex ✅"
   ]
  },
  {
   "cell_type": "code",
   "execution_count": 211,
   "id": "ce8b3280-e82b-42ae-98eb-d87a809e5e33",
   "metadata": {},
   "outputs": [
    {
     "name": "stdout",
     "output_type": "stream",
     "text": [
      "# Edges -> NetworkX: 2020659 | NetworKit: 2020659\n",
      "# Nodes -> NetworkX: 16706 | NetworKit: 16706\n"
     ]
    }
   ],
   "source": [
    "print(f\"# Edges -> NetworkX: {multiplex_nx.number_of_edges()} | NetworKit: {multiplex_nk.numberOfEdges()}\")\n",
    "print(f\"# Nodes -> NetworkX: {multiplex_nx.number_of_nodes()} | NetworKit: {multiplex_nk.numberOfNodes()}\")"
   ]
  },
  {
   "cell_type": "markdown",
   "id": "8086a4f5-6c74-43c8-ad42-f039245dc93a",
   "metadata": {},
   "source": [
    "### Save NetworkX graph"
   ]
  },
  {
   "cell_type": "code",
   "execution_count": 212,
   "id": "19cb16e8-fcc1-4ffb-aa04-bb7a13d0ebad",
   "metadata": {},
   "outputs": [
    {
     "name": "stdout",
     "output_type": "stream",
     "text": [
      "networkx_graphs/full_adult_intersect_bert_90_cos_thresh_nx_weighted_12-14_05:42.pickle\n"
     ]
    }
   ],
   "source": [
    "filename = f\"networkx_graphs/full_adult_intersect_bert_{threshold}_cos_thresh_nx\"\n",
    "\n",
    "if nx.is_weighted(multiplex_nx):\n",
    "    filename += '_weighted'\n",
    "\n",
    "filename += f'_{file_date_info}.pickle'\n",
    "\n",
    "pickle.dump(multiplex_nx, open(filename, \"wb\" ) )   \n",
    "print(filename)"
   ]
  },
  {
   "cell_type": "code",
   "execution_count": 213,
   "id": "24b766cf-721f-48e2-842d-caa1d269848c",
   "metadata": {
    "tags": []
   },
   "outputs": [
    {
     "data": {
      "text/plain": [
       "[(('hurried', 'rushed'), 3), (('dog', 'puppy'), 3)]"
      ]
     },
     "execution_count": 213,
     "metadata": {},
     "output_type": "execute_result"
    }
   ],
   "source": [
    "list(dict(sorted(nx.get_edge_attributes(multiplex_nx, 'weight').items(), key=lambda item: item[1], reverse=True)).items())[:2]"
   ]
  },
  {
   "cell_type": "markdown",
   "id": "a0aaa844-6494-4d2d-b1f2-25b75ae81a2f",
   "metadata": {},
   "source": [
    "### Save NetworKit graph"
   ]
  },
  {
   "cell_type": "code",
   "execution_count": 214,
   "id": "1ddcc023-d18e-4658-9638-572984144371",
   "metadata": {},
   "outputs": [
    {
     "name": "stdout",
     "output_type": "stream",
     "text": [
      "networkit_graphs/full_adult_intersect_bert_90_cos_thresh_nk_weighted_12-14_05:42.pickle\n"
     ]
    }
   ],
   "source": [
    "filename = f\"networkit_graphs/full_adult_intersect_bert_{threshold}_cos_thresh_nk\"\n",
    "\n",
    "\n",
    "if multiplex_nk.isWeighted():\n",
    "    filename += '_weighted'\n",
    "\n",
    "filename += f'_{file_date_info}.pickle'\n",
    "\n",
    "pickle.dump(multiplex_nk, open(filename, \"wb\" ) )   \n",
    "print(filename)"
   ]
  },
  {
   "cell_type": "code",
   "execution_count": null,
   "id": "add1fc69-b13e-4457-918a-c6401c90b422",
   "metadata": {},
   "outputs": [],
   "source": []
  }
 ],
 "metadata": {
  "kernelspec": {
   "display_name": "Python 3 (ipykernel)",
   "language": "python",
   "name": "python3"
  },
  "language_info": {
   "codemirror_mode": {
    "name": "ipython",
    "version": 3
   },
   "file_extension": ".py",
   "mimetype": "text/x-python",
   "name": "python",
   "nbconvert_exporter": "python",
   "pygments_lexer": "ipython3",
   "version": "3.8.12"
  }
 },
 "nbformat": 4,
 "nbformat_minor": 5
}
