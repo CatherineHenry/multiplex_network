{
 "cells": [
  {
   "cell_type": "code",
   "execution_count": 2,
   "metadata": {},
   "outputs": [],
   "source": [
    "import pandas as pd\n",
    "import numpy as np\n",
    "from tqdm import tqdm_notebook as tqdm\n",
    "import pandas as pd"
   ]
  },
  {
   "cell_type": "markdown",
   "metadata": {},
   "source": [
    "### Lancaster norms \n",
    "\n",
    "- https://osf.io/7emr6/"
   ]
  },
  {
   "cell_type": "code",
   "execution_count": 3,
   "metadata": {},
   "outputs": [],
   "source": [
    "norms = pd.read_csv('Lancaster_sensorimotor_norms_for_39707_words.csv')\n",
    "\n",
    "cols = norms.describe().columns\n",
    "len(cols)\n",
    "\n",
    "# normalize all columns\n",
    "for col in cols:\n",
    "    m = norms[col].max()\n",
    "    norms[col] = norms[col] / m"
   ]
  },
  {
   "cell_type": "code",
   "execution_count": 4,
   "metadata": {},
   "outputs": [],
   "source": [
    "vecs = {}\n",
    "\n",
    "for i,row in norms.iterrows():\n",
    "    vecs[row.Word.lower()] =  row[cols].values"
   ]
  },
  {
   "cell_type": "code",
   "execution_count": 5,
   "metadata": {},
   "outputs": [
    {
     "data": {
      "text/plain": [
       "array([0.0777777778, 0.0444444444, 0.044943820183815174,\n",
       "       0.1360544218367347, 0.0333333334, 0.9111111112,\n",
       "       0.011872638879644713, 0.05941770646464646, 0.6823529412,\n",
       "       0.094117647, 0.051027640049422354, 0.3622562285533143,\n",
       "       0.21681265705337607, 0.25048971657138774, 0.5288325496381435,\n",
       "       0.21027119094193375, 0.36436443013040165, 0.0972926271673859,\n",
       "       0.2955553098269948, 0.8218044845773771, 0.40884821481007994,\n",
       "       0.25205041511149917, 0.9111111112, 0.6326321946054998, 0.705357143,\n",
       "       0.6823529412, 0.45436389826753265, 0.75, 0.9111111112,\n",
       "       0.5969745565067616, 0.6685146503379856, 0.001123034689293736,\n",
       "       0.0011229646266142617, 1.0, 0.0010144408640649241,\n",
       "       0.001014380332955427, 1.0, 0.736697247638835, 0.7947819784394251],\n",
       "      dtype=object)"
      ]
     },
     "execution_count": 5,
     "metadata": {},
     "output_type": "execute_result"
    }
   ],
   "source": [
    "vecs['red']"
   ]
  },
  {
   "cell_type": "code",
   "execution_count": 6,
   "metadata": {},
   "outputs": [
    {
     "data": {
      "text/plain": [
       "39707"
      ]
     },
     "execution_count": 6,
     "metadata": {},
     "output_type": "execute_result"
    }
   ],
   "source": [
    "len(vecs)"
   ]
  },
  {
   "cell_type": "code",
   "execution_count": null,
   "metadata": {},
   "outputs": [],
   "source": []
  }
 ],
 "metadata": {
  "kernelspec": {
   "display_name": "Python 3",
   "language": "python",
   "name": "python3"
  },
  "language_info": {
   "codemirror_mode": {
    "name": "ipython",
    "version": 3
   },
   "file_extension": ".py",
   "mimetype": "text/x-python",
   "name": "python",
   "nbconvert_exporter": "python",
   "pygments_lexer": "ipython3",
   "version": "3.7.6"
  }
 },
 "nbformat": 4,
 "nbformat_minor": 4
}
