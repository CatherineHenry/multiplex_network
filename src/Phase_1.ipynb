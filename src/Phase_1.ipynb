{
 "cells": [
  {
   "cell_type": "code",
   "execution_count": 1,
   "metadata": {},
   "outputs": [],
   "source": [
    "#imports\n",
    "from flair.embeddings import WordEmbeddings\n",
    "from flair.data import Sentence\n",
    "import networkx as nx\n",
    "import torch\n",
    "from networkx.algorithms import approximation\n",
    "import pandas as pd\n",
    "import numpy as np\n",
    "from tqdm import tqdm_notebook as tqdm\n",
    "from numpy import dot\n",
    "from numpy.linalg import norm\n",
    "from sklearn.metrics.pairwise import cosine_similarity,cosine_distances\n",
    "from tqdm.notebook import tqdm\n",
    "import pickle\n",
    "from nltk.stem import WordNetLemmatizer\n",
    "import collections"
   ]
  },
  {
   "cell_type": "code",
   "execution_count": 350,
   "metadata": {},
   "outputs": [],
   "source": [
    "word_thresh = 0.8\n",
    "visual_thresh = 0.8\n",
    "lancaster_thresh = 0.97"
   ]
  },
  {
   "cell_type": "markdown",
   "metadata": {},
   "source": [
    "# Read child vocabulary "
   ]
  },
  {
   "cell_type": "code",
   "execution_count": 351,
   "metadata": {},
   "outputs": [
    {
     "name": "stdout",
     "output_type": "stream",
     "text": [
      "529\n"
     ]
    }
   ],
   "source": [
    "words = [line.strip() for line in open('../data/vertomul.txt')]\n",
    "print(len(words))"
   ]
  },
  {
   "cell_type": "markdown",
   "metadata": {},
   "source": [
    "# Recreate the Multiplex Network"
   ]
  },
  {
   "cell_type": "code",
   "execution_count": 352,
   "metadata": {},
   "outputs": [],
   "source": [
    "def mean_degree_connectivity(graph_name):\n",
    "    num_edges = 0\n",
    "    for node in graph_name.nodes():\n",
    "        num_edges += len(graph_name.edges(node))\n",
    "\n",
    "    return num_edges/graph_name.number_of_nodes()"
   ]
  },
  {
   "cell_type": "code",
   "execution_count": 353,
   "metadata": {},
   "outputs": [],
   "source": [
    "def perc_nodes_in_lcc(graph_name):\n",
    "    largest_cc = max(nx.connected_components(graph_name), key=len)\n",
    "    lenght = len(largest_cc)\n",
    "    return lenght/graph_name.number_of_nodes()\n",
    "   "
   ]
  },
  {
   "cell_type": "code",
   "execution_count": 354,
   "metadata": {},
   "outputs": [],
   "source": [
    "def mean_shortest_path_lcc(graph_name):\n",
    "    S = [graph_name.subgraph(c).copy() for c in nx.connected_components(graph_name)]\n",
    "    comps = [len(max(nx.connected_components(i), key=len)) for i in S]\n",
    "    index_max = max(range(len(comps)), key=comps.__getitem__)\n",
    "    return nx.average_shortest_path_length(S[index_max])\n"
   ]
  },
  {
   "cell_type": "markdown",
   "metadata": {},
   "source": [
    "## Get the data for the 4 layers"
   ]
  },
  {
   "cell_type": "code",
   "execution_count": 355,
   "metadata": {},
   "outputs": [],
   "source": [
    "phonological_sim_words = [line.strip() for line in open('../data/phcmul.txt')]\n",
    "feature_sharing_words = [line.strip() for line in open('../data/mrmul.txt')]\n",
    "free_association_words = [line.strip() for line in open('../data/famul.txt')]\n",
    "co_occurrances_words = [line.strip() for line in open('../data/cumul.txt')]"
   ]
  },
  {
   "cell_type": "markdown",
   "metadata": {},
   "source": [
    "## Clean up the data and store it into lists"
   ]
  },
  {
   "cell_type": "code",
   "execution_count": 356,
   "metadata": {},
   "outputs": [],
   "source": [
    "phonological_sim_list = []\n",
    "feature_sharing_list = []\n",
    "free_association_list = []\n",
    "co_occurrances_list = []\n",
    "\n",
    "for pair in phonological_sim_words:\n",
    "    phonological_sim_list.append(tuple(map(str, pair.split('\\t'))))\n",
    "    \n",
    "for pair in feature_sharing_words:\n",
    "    feature_sharing_list.append(tuple(map(str, pair.split('\\t'))))\n",
    "    \n",
    "for pair in free_association_words:\n",
    "    free_association_list.append(tuple(map(str, pair.split('\\t'))))\n",
    "    \n",
    "for pair in co_occurrances_words :\n",
    "    co_occurrances_list.append(tuple(map(str, pair.split('\\t'))))\n",
    "\n"
   ]
  },
  {
   "cell_type": "markdown",
   "metadata": {},
   "source": [
    "## Instantiate a graph for multiplex and populate it"
   ]
  },
  {
   "cell_type": "code",
   "execution_count": 357,
   "metadata": {},
   "outputs": [],
   "source": [
    "multiplex = nx.Graph()\n",
    "multiplex.add_nodes_from(words)"
   ]
  },
  {
   "cell_type": "markdown",
   "metadata": {},
   "source": [
    "## We'll add one layer at a time:"
   ]
  },
  {
   "cell_type": "markdown",
   "metadata": {},
   "source": [
    "## Free associations Layer"
   ]
  },
  {
   "cell_type": "code",
   "execution_count": 358,
   "metadata": {},
   "outputs": [
    {
     "data": {
      "text/plain": [
       "529"
      ]
     },
     "execution_count": 358,
     "metadata": {},
     "output_type": "execute_result"
    }
   ],
   "source": [
    "free_assoc = nx.Graph()\n",
    "free_assoc.add_nodes_from(words)\n",
    "len(free_assoc.nodes)"
   ]
  },
  {
   "cell_type": "code",
   "execution_count": 359,
   "metadata": {},
   "outputs": [],
   "source": [
    "# Add the free association layer to the multiplex\n",
    "for pair in free_association_list:\n",
    "    multiplex.add_edge(pair[0], pair[1])\n",
    "    \n",
    "# Add the free association layer to its graph\n",
    "for pair in free_association_list:\n",
    "    free_assoc.add_edge(pair[0], pair[1])"
   ]
  },
  {
   "cell_type": "code",
   "execution_count": 360,
   "metadata": {},
   "outputs": [
    {
     "data": {
      "text/plain": [
       "529"
      ]
     },
     "execution_count": 360,
     "metadata": {},
     "output_type": "execute_result"
    }
   ],
   "source": [
    "len(free_assoc.nodes)"
   ]
  },
  {
   "cell_type": "markdown",
   "metadata": {},
   "source": [
    "### 1) Mean degree of connectivity _k_"
   ]
  },
  {
   "cell_type": "code",
   "execution_count": 361,
   "metadata": {},
   "outputs": [
    {
     "data": {
      "text/plain": [
       "9.228733459357278"
      ]
     },
     "execution_count": 361,
     "metadata": {},
     "output_type": "execute_result"
    }
   ],
   "source": [
    "mean_degree_connectivity(free_assoc)"
   ]
  },
  {
   "cell_type": "markdown",
   "metadata": {},
   "source": [
    "### 2) Mean Clustering Coefficient _CC_"
   ]
  },
  {
   "cell_type": "code",
   "execution_count": 362,
   "metadata": {},
   "outputs": [
    {
     "data": {
      "text/plain": [
       "0.1941295782803327"
      ]
     },
     "execution_count": 362,
     "metadata": {},
     "output_type": "execute_result"
    }
   ],
   "source": [
    "nx.average_clustering(free_assoc)"
   ]
  },
  {
   "cell_type": "markdown",
   "metadata": {},
   "source": [
    "### 3) Assortativity Coefficient _a_"
   ]
  },
  {
   "cell_type": "code",
   "execution_count": 363,
   "metadata": {},
   "outputs": [
    {
     "data": {
      "text/plain": [
       "-0.10131692039561035"
      ]
     },
     "execution_count": 363,
     "metadata": {},
     "output_type": "execute_result"
    }
   ],
   "source": [
    "nx.degree_assortativity_coefficient(free_assoc)"
   ]
  },
  {
   "cell_type": "markdown",
   "metadata": {},
   "source": [
    "### 4) Percentage of nodes in the Largest Connected Component _Conn._"
   ]
  },
  {
   "cell_type": "code",
   "execution_count": 364,
   "metadata": {},
   "outputs": [
    {
     "data": {
      "text/plain": [
       "0.996219281663516"
      ]
     },
     "execution_count": 364,
     "metadata": {},
     "output_type": "execute_result"
    }
   ],
   "source": [
    "perc_nodes_in_lcc(free_assoc)"
   ]
  },
  {
   "cell_type": "markdown",
   "metadata": {},
   "source": [
    "### 5) Mean Shortest Path lenght in the Largest Connected Component _d_"
   ]
  },
  {
   "cell_type": "code",
   "execution_count": 365,
   "metadata": {},
   "outputs": [
    {
     "data": {
      "text/plain": [
       "3.1650493142185123"
      ]
     },
     "execution_count": 365,
     "metadata": {},
     "output_type": "execute_result"
    }
   ],
   "source": [
    "mean_shortest_path_lcc(free_assoc)"
   ]
  },
  {
   "cell_type": "markdown",
   "metadata": {},
   "source": [
    "### We have added one layer to multiplex"
   ]
  },
  {
   "cell_type": "code",
   "execution_count": 366,
   "metadata": {},
   "outputs": [
    {
     "data": {
      "text/plain": [
       "2441"
      ]
     },
     "execution_count": 366,
     "metadata": {},
     "output_type": "execute_result"
    }
   ],
   "source": [
    "multiplex.number_of_edges()"
   ]
  },
  {
   "cell_type": "code",
   "execution_count": 367,
   "metadata": {},
   "outputs": [],
   "source": [
    "pickle.dump(free_association_list, open( \"free_assoc.pickle\", \"wb\" ) )"
   ]
  },
  {
   "cell_type": "code",
   "execution_count": 368,
   "metadata": {},
   "outputs": [
    {
     "data": {
      "text/plain": [
       "529"
      ]
     },
     "execution_count": 368,
     "metadata": {},
     "output_type": "execute_result"
    }
   ],
   "source": [
    "len(free_assoc.nodes)"
   ]
  },
  {
   "cell_type": "markdown",
   "metadata": {},
   "source": [
    "## Feature Sharing Norms Layer"
   ]
  },
  {
   "cell_type": "code",
   "execution_count": 369,
   "metadata": {},
   "outputs": [],
   "source": [
    "feat_norms = nx.Graph()\n",
    "feat_norms.add_nodes_from(words)"
   ]
  },
  {
   "cell_type": "code",
   "execution_count": 370,
   "metadata": {},
   "outputs": [],
   "source": [
    "for pair in feature_sharing_list:\n",
    "        multiplex.add_edge(pair[0], pair[1])\n",
    "    \n",
    "for pair in feature_sharing_list:\n",
    "    feat_norms.add_edge(pair[0], pair[1])"
   ]
  },
  {
   "cell_type": "code",
   "execution_count": 371,
   "metadata": {},
   "outputs": [
    {
     "data": {
      "text/plain": [
       "529"
      ]
     },
     "execution_count": 371,
     "metadata": {},
     "output_type": "execute_result"
    }
   ],
   "source": [
    "len(feat_norms.nodes)"
   ]
  },
  {
   "cell_type": "markdown",
   "metadata": {},
   "source": [
    "### 1) Mean degree of connectivity _k_"
   ]
  },
  {
   "cell_type": "code",
   "execution_count": 372,
   "metadata": {},
   "outputs": [
    {
     "data": {
      "text/plain": [
       "9.032136105860113"
      ]
     },
     "execution_count": 372,
     "metadata": {},
     "output_type": "execute_result"
    }
   ],
   "source": [
    "mean_degree_connectivity(feat_norms)"
   ]
  },
  {
   "cell_type": "markdown",
   "metadata": {},
   "source": [
    "### 2) Mean Clustering Coefficient _CC_"
   ]
  },
  {
   "cell_type": "code",
   "execution_count": 373,
   "metadata": {},
   "outputs": [
    {
     "data": {
      "text/plain": [
       "0.1520222342517882"
      ]
     },
     "execution_count": 373,
     "metadata": {},
     "output_type": "execute_result"
    }
   ],
   "source": [
    "nx.average_clustering(feat_norms)"
   ]
  },
  {
   "cell_type": "markdown",
   "metadata": {},
   "source": [
    "### 3) Assortativity Coefficient _a_"
   ]
  },
  {
   "cell_type": "code",
   "execution_count": 374,
   "metadata": {},
   "outputs": [
    {
     "data": {
      "text/plain": [
       "-0.010608927346370844"
      ]
     },
     "execution_count": 374,
     "metadata": {},
     "output_type": "execute_result"
    }
   ],
   "source": [
    "nx.degree_assortativity_coefficient(feat_norms)"
   ]
  },
  {
   "cell_type": "markdown",
   "metadata": {},
   "source": [
    "### 4) Percentage of nodes in the Largest Connected Component _Conn._"
   ]
  },
  {
   "cell_type": "code",
   "execution_count": 375,
   "metadata": {},
   "outputs": [
    {
     "data": {
      "text/plain": [
       "0.24196597353497165"
      ]
     },
     "execution_count": 375,
     "metadata": {},
     "output_type": "execute_result"
    }
   ],
   "source": [
    "perc_nodes_in_lcc(feat_norms)"
   ]
  },
  {
   "cell_type": "markdown",
   "metadata": {},
   "source": [
    "### 5) Mean Shortest Path lenght in the Largest Connected Component _d_"
   ]
  },
  {
   "cell_type": "code",
   "execution_count": 376,
   "metadata": {},
   "outputs": [
    {
     "data": {
      "text/plain": [
       "1.7570127952755905"
      ]
     },
     "execution_count": 376,
     "metadata": {},
     "output_type": "execute_result"
    }
   ],
   "source": [
    "mean_shortest_path_lcc(feat_norms)"
   ]
  },
  {
   "cell_type": "markdown",
   "metadata": {},
   "source": [
    "### We have added two layers to multiplex"
   ]
  },
  {
   "cell_type": "code",
   "execution_count": 377,
   "metadata": {},
   "outputs": [
    {
     "data": {
      "text/plain": [
       "4686"
      ]
     },
     "execution_count": 377,
     "metadata": {},
     "output_type": "execute_result"
    }
   ],
   "source": [
    "multiplex.number_of_edges()"
   ]
  },
  {
   "cell_type": "code",
   "execution_count": 378,
   "metadata": {},
   "outputs": [],
   "source": [
    "pickle.dump(feature_sharing_list, open( \"feat_norms.pickle\", \"wb\" ) )"
   ]
  },
  {
   "cell_type": "code",
   "execution_count": 379,
   "metadata": {},
   "outputs": [
    {
     "data": {
      "text/plain": [
       "529"
      ]
     },
     "execution_count": 379,
     "metadata": {},
     "output_type": "execute_result"
    }
   ],
   "source": [
    "len(feat_norms.nodes)"
   ]
  },
  {
   "cell_type": "markdown",
   "metadata": {},
   "source": [
    "## Co-occurrences Layer"
   ]
  },
  {
   "cell_type": "code",
   "execution_count": 380,
   "metadata": {},
   "outputs": [],
   "source": [
    "co_oc = nx.Graph()\n",
    "co_oc.add_nodes_from(words)"
   ]
  },
  {
   "cell_type": "code",
   "execution_count": 381,
   "metadata": {},
   "outputs": [],
   "source": [
    "for pair in co_occurrances_list:\n",
    "    multiplex.add_edge(pair[0], pair[1])\n",
    "    \n",
    "for pair in co_occurrances_list:\n",
    "    co_oc.add_edge(pair[0], pair[1])"
   ]
  },
  {
   "cell_type": "code",
   "execution_count": 382,
   "metadata": {},
   "outputs": [
    {
     "data": {
      "text/plain": [
       "529"
      ]
     },
     "execution_count": 382,
     "metadata": {},
     "output_type": "execute_result"
    }
   ],
   "source": [
    "len(co_oc.nodes)"
   ]
  },
  {
   "cell_type": "markdown",
   "metadata": {},
   "source": [
    "### 1) Mean Degree of connectivity _k_"
   ]
  },
  {
   "cell_type": "code",
   "execution_count": 383,
   "metadata": {},
   "outputs": [
    {
     "data": {
      "text/plain": [
       "8.117202268431003"
      ]
     },
     "execution_count": 383,
     "metadata": {},
     "output_type": "execute_result"
    }
   ],
   "source": [
    "mean_degree_connectivity(co_oc)"
   ]
  },
  {
   "cell_type": "markdown",
   "metadata": {},
   "source": [
    "### 2) Mean Clustering Coefficient _CC_"
   ]
  },
  {
   "cell_type": "code",
   "execution_count": 384,
   "metadata": {},
   "outputs": [
    {
     "data": {
      "text/plain": [
       "0.34767890644326055"
      ]
     },
     "execution_count": 384,
     "metadata": {},
     "output_type": "execute_result"
    }
   ],
   "source": [
    "nx.average_clustering(co_oc)"
   ]
  },
  {
   "cell_type": "markdown",
   "metadata": {},
   "source": [
    "### 3) Assortativity Coefficient _a_"
   ]
  },
  {
   "cell_type": "code",
   "execution_count": 385,
   "metadata": {},
   "outputs": [
    {
     "data": {
      "text/plain": [
       "-0.43924523453557984"
      ]
     },
     "execution_count": 385,
     "metadata": {},
     "output_type": "execute_result"
    }
   ],
   "source": [
    "nx.degree_assortativity_coefficient(co_oc)"
   ]
  },
  {
   "cell_type": "markdown",
   "metadata": {},
   "source": [
    "### 4) Percentage of nodes in the Largest Connected Component _Conn._"
   ]
  },
  {
   "cell_type": "code",
   "execution_count": 386,
   "metadata": {},
   "outputs": [
    {
     "data": {
      "text/plain": [
       "0.6238185255198487"
      ]
     },
     "execution_count": 386,
     "metadata": {},
     "output_type": "execute_result"
    }
   ],
   "source": [
    "perc_nodes_in_lcc(co_oc)"
   ]
  },
  {
   "cell_type": "markdown",
   "metadata": {},
   "source": [
    "### 5) Mean shortest path length of the Largest Connect Component _d_"
   ]
  },
  {
   "cell_type": "code",
   "execution_count": 387,
   "metadata": {},
   "outputs": [
    {
     "data": {
      "text/plain": [
       "2.154517822602929"
      ]
     },
     "execution_count": 387,
     "metadata": {},
     "output_type": "execute_result"
    }
   ],
   "source": [
    "mean_shortest_path_lcc(co_oc)"
   ]
  },
  {
   "cell_type": "markdown",
   "metadata": {},
   "source": [
    "### We have added three layers to multiplex"
   ]
  },
  {
   "cell_type": "code",
   "execution_count": 388,
   "metadata": {},
   "outputs": [
    {
     "data": {
      "text/plain": [
       "6696"
      ]
     },
     "execution_count": 388,
     "metadata": {},
     "output_type": "execute_result"
    }
   ],
   "source": [
    "multiplex.number_of_edges()"
   ]
  },
  {
   "cell_type": "code",
   "execution_count": 389,
   "metadata": {},
   "outputs": [],
   "source": [
    "pickle.dump(co_occurrances_list, open( \"co_oc.pickle\", \"wb\" ))"
   ]
  },
  {
   "cell_type": "code",
   "execution_count": 390,
   "metadata": {},
   "outputs": [
    {
     "data": {
      "text/plain": [
       "529"
      ]
     },
     "execution_count": 390,
     "metadata": {},
     "output_type": "execute_result"
    }
   ],
   "source": [
    "len(co_oc.nodes)"
   ]
  },
  {
   "cell_type": "markdown",
   "metadata": {},
   "source": [
    "## Phonological Layer"
   ]
  },
  {
   "cell_type": "code",
   "execution_count": 391,
   "metadata": {},
   "outputs": [],
   "source": [
    "phon_conn = nx.Graph()\n",
    "phon_conn.add_nodes_from(words)"
   ]
  },
  {
   "cell_type": "code",
   "execution_count": 392,
   "metadata": {},
   "outputs": [],
   "source": [
    "for pair in phonological_sim_list:\n",
    "    multiplex.add_edge(pair[0], pair[1])\n",
    "\n",
    "for pair in phonological_sim_list:\n",
    "     phon_conn.add_edge(pair[0], pair[1])"
   ]
  },
  {
   "cell_type": "code",
   "execution_count": 393,
   "metadata": {},
   "outputs": [
    {
     "data": {
      "text/plain": [
       "529"
      ]
     },
     "execution_count": 393,
     "metadata": {},
     "output_type": "execute_result"
    }
   ],
   "source": [
    "len(phon_conn.nodes)"
   ]
  },
  {
   "cell_type": "markdown",
   "metadata": {},
   "source": [
    "### 1) Mean Degree of Connectivity _a_"
   ]
  },
  {
   "cell_type": "code",
   "execution_count": 394,
   "metadata": {},
   "outputs": [
    {
     "data": {
      "text/plain": [
       "1.3194706994328922"
      ]
     },
     "execution_count": 394,
     "metadata": {},
     "output_type": "execute_result"
    }
   ],
   "source": [
    "mean_degree_connectivity(phon_conn)"
   ]
  },
  {
   "cell_type": "markdown",
   "metadata": {},
   "source": [
    "### 2) Mean Clustering Coefficient _CC_"
   ]
  },
  {
   "cell_type": "code",
   "execution_count": 395,
   "metadata": {},
   "outputs": [
    {
     "data": {
      "text/plain": [
       "0.1176973624988748"
      ]
     },
     "execution_count": 395,
     "metadata": {},
     "output_type": "execute_result"
    }
   ],
   "source": [
    "nx.average_clustering(phon_conn)"
   ]
  },
  {
   "cell_type": "markdown",
   "metadata": {},
   "source": [
    "### 3) Assortativity Coefficient _a_"
   ]
  },
  {
   "cell_type": "code",
   "execution_count": 396,
   "metadata": {},
   "outputs": [
    {
     "data": {
      "text/plain": [
       "0.4824768300873068"
      ]
     },
     "execution_count": 396,
     "metadata": {},
     "output_type": "execute_result"
    }
   ],
   "source": [
    "nx.degree_assortativity_coefficient(phon_conn)"
   ]
  },
  {
   "cell_type": "markdown",
   "metadata": {},
   "source": [
    "### 4) Percentage of nodes in the Largest Connected Component _Conn._"
   ]
  },
  {
   "cell_type": "code",
   "execution_count": 397,
   "metadata": {},
   "outputs": [
    {
     "data": {
      "text/plain": [
       "0.33081285444234404"
      ]
     },
     "execution_count": 397,
     "metadata": {},
     "output_type": "execute_result"
    }
   ],
   "source": [
    "perc_nodes_in_lcc(phon_conn)"
   ]
  },
  {
   "cell_type": "markdown",
   "metadata": {},
   "source": [
    "### 5) Mean shortest path in the Largest Connected Component _d_"
   ]
  },
  {
   "cell_type": "code",
   "execution_count": 398,
   "metadata": {},
   "outputs": [
    {
     "data": {
      "text/plain": [
       "7.694844006568145"
      ]
     },
     "execution_count": 398,
     "metadata": {},
     "output_type": "execute_result"
    }
   ],
   "source": [
    "mean_shortest_path_lcc(phon_conn)"
   ]
  },
  {
   "cell_type": "code",
   "execution_count": 399,
   "metadata": {},
   "outputs": [],
   "source": [
    "pickle.dump(phonological_sim_list, open( \"phon_conn.pickle\", \"wb\" ))"
   ]
  },
  {
   "cell_type": "markdown",
   "metadata": {},
   "source": [
    "### We have added all layers to the multiplex"
   ]
  },
  {
   "cell_type": "code",
   "execution_count": 400,
   "metadata": {},
   "outputs": [
    {
     "data": {
      "text/plain": [
       "6998"
      ]
     },
     "execution_count": 400,
     "metadata": {},
     "output_type": "execute_result"
    }
   ],
   "source": [
    "multiplex.number_of_edges()"
   ]
  },
  {
   "cell_type": "code",
   "execution_count": 401,
   "metadata": {},
   "outputs": [
    {
     "data": {
      "text/plain": [
       "529"
      ]
     },
     "execution_count": 401,
     "metadata": {},
     "output_type": "execute_result"
    }
   ],
   "source": [
    "len(phon_conn.nodes)"
   ]
  },
  {
   "cell_type": "markdown",
   "metadata": {},
   "source": [
    "## The original multiplex layer has been populated"
   ]
  },
  {
   "cell_type": "markdown",
   "metadata": {},
   "source": [
    "### 1) Mean degree of connectivity _k_"
   ]
  },
  {
   "cell_type": "code",
   "execution_count": 402,
   "metadata": {},
   "outputs": [
    {
     "data": {
      "text/plain": [
       "26.457466918714555"
      ]
     },
     "execution_count": 402,
     "metadata": {},
     "output_type": "execute_result"
    }
   ],
   "source": [
    "mean_degree_connectivity(multiplex)"
   ]
  },
  {
   "cell_type": "markdown",
   "metadata": {},
   "source": [
    "### 2) Mean Clustering Coefficient _CC_"
   ]
  },
  {
   "cell_type": "code",
   "execution_count": 403,
   "metadata": {},
   "outputs": [
    {
     "data": {
      "text/plain": [
       "0.3279300913138615"
      ]
     },
     "execution_count": 403,
     "metadata": {},
     "output_type": "execute_result"
    }
   ],
   "source": [
    "nx.average_clustering(multiplex)"
   ]
  },
  {
   "cell_type": "markdown",
   "metadata": {},
   "source": [
    "### 3) Assortativity Coefficient _a_"
   ]
  },
  {
   "cell_type": "code",
   "execution_count": 404,
   "metadata": {},
   "outputs": [
    {
     "data": {
      "text/plain": [
       "-0.0706390777510928"
      ]
     },
     "execution_count": 404,
     "metadata": {},
     "output_type": "execute_result"
    }
   ],
   "source": [
    "nx.degree_assortativity_coefficient(multiplex)"
   ]
  },
  {
   "cell_type": "markdown",
   "metadata": {},
   "source": [
    "### 4) Number of nodes in the Lagest Connected Component _Conn._"
   ]
  },
  {
   "cell_type": "code",
   "execution_count": 405,
   "metadata": {},
   "outputs": [
    {
     "data": {
      "text/plain": [
       "1.0"
      ]
     },
     "execution_count": 405,
     "metadata": {},
     "output_type": "execute_result"
    }
   ],
   "source": [
    "perc_nodes_in_lcc(multiplex)"
   ]
  },
  {
   "cell_type": "markdown",
   "metadata": {},
   "source": [
    "### 5) Mean shortest path in the Largest Connected Component _d_"
   ]
  },
  {
   "cell_type": "code",
   "execution_count": 406,
   "metadata": {},
   "outputs": [
    {
     "data": {
      "text/plain": [
       "2.391905825743255"
      ]
     },
     "execution_count": 406,
     "metadata": {},
     "output_type": "execute_result"
    }
   ],
   "source": [
    "mean_shortest_path_lcc(multiplex)"
   ]
  },
  {
   "cell_type": "code",
   "execution_count": 407,
   "metadata": {},
   "outputs": [],
   "source": [
    "pickle.dump(multiplex, open( \"multiplex.pickle\", \"wb\" ))"
   ]
  },
  {
   "cell_type": "code",
   "execution_count": 408,
   "metadata": {},
   "outputs": [
    {
     "data": {
      "text/plain": [
       "529"
      ]
     },
     "execution_count": 408,
     "metadata": {},
     "output_type": "execute_result"
    }
   ],
   "source": [
    "len(multiplex.nodes)"
   ]
  },
  {
   "cell_type": "markdown",
   "metadata": {},
   "source": [
    "# Create the Word Embedding Network"
   ]
  },
  {
   "cell_type": "code",
   "execution_count": 409,
   "metadata": {},
   "outputs": [],
   "source": [
    "glove_embedding = WordEmbeddings('glove')"
   ]
  },
  {
   "cell_type": "code",
   "execution_count": 410,
   "metadata": {},
   "outputs": [],
   "source": [
    "word_emb = {}\n",
    "for word in words:\n",
    "    sentence = Sentence(word) # --> strip() removes the white space from beginning and end of word\n",
    "     # embed a sentence using glove.\n",
    "    glove_embedding.embed(sentence)\n",
    "    for token in sentence:\n",
    "\n",
    "        word_emb[word]=token.embedding"
   ]
  },
  {
   "cell_type": "code",
   "execution_count": 411,
   "metadata": {},
   "outputs": [
    {
     "data": {
      "text/plain": [
       "100"
      ]
     },
     "execution_count": 411,
     "metadata": {},
     "output_type": "execute_result"
    }
   ],
   "source": [
    "len(word_emb['red'])"
   ]
  },
  {
   "cell_type": "code",
   "execution_count": 412,
   "metadata": {},
   "outputs": [],
   "source": [
    "pickle.dump(word_emb, open( \"word_layer_vectors.pickle\", \"wb\" ))"
   ]
  },
  {
   "cell_type": "code",
   "execution_count": 413,
   "metadata": {},
   "outputs": [],
   "source": [
    "word_emb_layer = nx.Graph()\n",
    "word_emb_layer.add_nodes_from(words)"
   ]
  },
  {
   "cell_type": "markdown",
   "metadata": {},
   "source": [
    "### Compute distance using cosine similarity\n"
   ]
  },
  {
   "cell_type": "code",
   "execution_count": 414,
   "metadata": {},
   "outputs": [
    {
     "data": {
      "application/vnd.jupyter.widget-view+json": {
       "model_id": "880b35ed521e412b82c7ba5caa7d75f1",
       "version_major": 2,
       "version_minor": 0
      },
      "text/plain": [
       "  0%|          | 0/529 [00:00<?, ?it/s]"
      ]
     },
     "metadata": {},
     "output_type": "display_data"
    }
   ],
   "source": [
    "word_emb_list = []\n",
    "for item in tqdm(word_emb):\n",
    "    x = word_emb[item]\n",
    "   \n",
    "    for word in word_emb:\n",
    "        if word is not item:\n",
    "            y = word_emb[word]\n",
    "            cosine_sim = torch.cosine_similarity(x.unsqueeze(0), y.unsqueeze(0))\n",
    "            \n",
    "            if cosine_sim > word_thresh:\n",
    "                word_emb_list.append((item, word))\n",
    "                word_emb_layer.add_edge(item, word)"
   ]
  },
  {
   "cell_type": "code",
   "execution_count": 415,
   "metadata": {},
   "outputs": [
    {
     "data": {
      "text/plain": [
       "529"
      ]
     },
     "execution_count": 415,
     "metadata": {},
     "output_type": "execute_result"
    }
   ],
   "source": [
    "len(word_emb_layer.nodes)"
   ]
  },
  {
   "cell_type": "markdown",
   "metadata": {},
   "source": [
    "### 1) Mean Dregree of connectivity _k_"
   ]
  },
  {
   "cell_type": "code",
   "execution_count": 416,
   "metadata": {},
   "outputs": [
    {
     "data": {
      "text/plain": [
       "0.9300567107750473"
      ]
     },
     "execution_count": 416,
     "metadata": {},
     "output_type": "execute_result"
    }
   ],
   "source": [
    "mean_degree_connectivity(word_emb_layer)"
   ]
  },
  {
   "cell_type": "markdown",
   "metadata": {},
   "source": [
    "### 2) Mean Clustering Coefficient _CC_"
   ]
  },
  {
   "cell_type": "code",
   "execution_count": 417,
   "metadata": {},
   "outputs": [
    {
     "data": {
      "text/plain": [
       "0.06606594537207236"
      ]
     },
     "execution_count": 417,
     "metadata": {},
     "output_type": "execute_result"
    }
   ],
   "source": [
    "nx.average_clustering(word_emb_layer)"
   ]
  },
  {
   "cell_type": "markdown",
   "metadata": {},
   "source": [
    "### 3) Assortativity Coefficient _a_"
   ]
  },
  {
   "cell_type": "code",
   "execution_count": 418,
   "metadata": {},
   "outputs": [
    {
     "data": {
      "text/plain": [
       "0.411242570002427"
      ]
     },
     "execution_count": 418,
     "metadata": {},
     "output_type": "execute_result"
    }
   ],
   "source": [
    "nx.degree_assortativity_coefficient(word_emb_layer)"
   ]
  },
  {
   "cell_type": "markdown",
   "metadata": {},
   "source": [
    "### 4) Percentage of nodes in the LCC _Conn._"
   ]
  },
  {
   "cell_type": "code",
   "execution_count": 419,
   "metadata": {},
   "outputs": [
    {
     "data": {
      "text/plain": [
       "0.1342155009451796"
      ]
     },
     "execution_count": 419,
     "metadata": {},
     "output_type": "execute_result"
    }
   ],
   "source": [
    "perc_nodes_in_lcc(word_emb_layer)"
   ]
  },
  {
   "cell_type": "markdown",
   "metadata": {},
   "source": [
    "### 5) Mean shortest path in LLC _d_"
   ]
  },
  {
   "cell_type": "code",
   "execution_count": 420,
   "metadata": {},
   "outputs": [
    {
     "data": {
      "text/plain": [
       "3.2305835010060364"
      ]
     },
     "execution_count": 420,
     "metadata": {},
     "output_type": "execute_result"
    }
   ],
   "source": [
    "mean_shortest_path_lcc(word_emb_layer)"
   ]
  },
  {
   "cell_type": "code",
   "execution_count": 421,
   "metadata": {},
   "outputs": [],
   "source": [
    "pickle.dump(word_emb_list, open( \"word_emb_layer.pickle\", \"wb\" ))"
   ]
  },
  {
   "cell_type": "code",
   "execution_count": 422,
   "metadata": {},
   "outputs": [
    {
     "data": {
      "text/plain": [
       "529"
      ]
     },
     "execution_count": 422,
     "metadata": {},
     "output_type": "execute_result"
    }
   ],
   "source": [
    "len(word_emb_layer.nodes)"
   ]
  },
  {
   "cell_type": "markdown",
   "metadata": {},
   "source": [
    "# Create the Visual Embedding Network"
   ]
  },
  {
   "cell_type": "code",
   "execution_count": 423,
   "metadata": {},
   "outputs": [],
   "source": [
    "file = open('../data/clip_embeddings.txt', 'r')\n",
    "lines = file.readlines()"
   ]
  },
  {
   "cell_type": "code",
   "execution_count": 424,
   "metadata": {},
   "outputs": [],
   "source": [
    "visual_vecs = {}\n",
    "for line in lines:\n",
    "    visual_vecs[line.split()[0]] = line.split()[1:]"
   ]
  },
  {
   "cell_type": "code",
   "execution_count": 425,
   "metadata": {},
   "outputs": [
    {
     "data": {
      "text/plain": [
       "513"
      ]
     },
     "execution_count": 425,
     "metadata": {},
     "output_type": "execute_result"
    }
   ],
   "source": [
    "len(visual_vecs['car'])"
   ]
  },
  {
   "cell_type": "code",
   "execution_count": 426,
   "metadata": {},
   "outputs": [],
   "source": [
    "pickle.dump(visual_vecs, open( \"visual_layer_vectors.pickle\", \"wb\" ))"
   ]
  },
  {
   "cell_type": "code",
   "execution_count": 427,
   "metadata": {},
   "outputs": [
    {
     "data": {
      "text/plain": [
       "529"
      ]
     },
     "execution_count": 427,
     "metadata": {},
     "output_type": "execute_result"
    }
   ],
   "source": [
    "visual_graph = nx.Graph()\n",
    "visual_graph.add_nodes_from(words)\n",
    "len(visual_graph.nodes)"
   ]
  },
  {
   "cell_type": "code",
   "execution_count": 428,
   "metadata": {},
   "outputs": [
    {
     "data": {
      "application/vnd.jupyter.widget-view+json": {
       "model_id": "0648199ab2604b1ebdc9a5f9e063a317",
       "version_major": 2,
       "version_minor": 0
      },
      "text/plain": [
       "  0%|          | 0/496 [00:00<?, ?it/s]"
      ]
     },
     "metadata": {},
     "output_type": "display_data"
    }
   ],
   "source": [
    "visual_list = []\n",
    "for item in tqdm(visual_vecs):\n",
    "    x = np.array(visual_vecs[item])\n",
    "   \n",
    "    for word in visual_vecs:\n",
    "        if word is not item:\n",
    "            y = np.array(visual_vecs[word])\n",
    "          \n",
    "            cosine_sim = cosine_similarity(x.reshape(1,-1),y.reshape(1,-1))\n",
    "            \n",
    "            if cosine_sim > visual_thresh:\n",
    "                visual_list.append((item, word))\n",
    "                visual_graph.add_edge(item, word)"
   ]
  },
  {
   "cell_type": "code",
   "execution_count": 429,
   "metadata": {},
   "outputs": [
    {
     "data": {
      "text/plain": [
       "529"
      ]
     },
     "execution_count": 429,
     "metadata": {},
     "output_type": "execute_result"
    }
   ],
   "source": [
    "len(visual_graph.nodes)"
   ]
  },
  {
   "cell_type": "code",
   "execution_count": 430,
   "metadata": {},
   "outputs": [
    {
     "name": "stdout",
     "output_type": "stream",
     "text": [
      "[('tree', 'plant'), ('tree', 'wolf'), ('tree', 'flower'), ('tree', 'tiger'), ('tree', 'airplane'), ('tree', 'flag'), ('tree', 'necklace'), ('horse', 'squirrel'), ('horse', 'wolf'), ('horse', 'tiger'), ('horse', 'airplane'), ('horse', 'moon'), ('horse', 'helicopter'), ('horse', 'flag'), ('horse', 'pony'), ('horse', 'penguin'), ('horse', 'sun'), ('horse', 'rooster'), ('horse', 'necklace'), ('horse', 'dog'), ('truck', 'wolf'), ('truck', 'airplane'), ('truck', 'tractor'), ('truck', 'helicopter'), ('truck', 'car'), ('plant', 'tree'), ('plant', 'wolf'), ('plant', 'flower'), ('plant', 'tiger'), ('plant', 'airplane'), ('plant', 'flag'), ('plant', 'garden'), ('plant', 'grass'), ('plant', 'butterfly'), ('plant', 'sun'), ('blue', 'eye'), ('blue', 'beads'), ('blue', 'wolf'), ('blue', 'dress'), ('blue', 'airplane'), ('blue', 'moon'), ('blue', 'helicopter'), ('blue', 'flag'), ('blue', 'button'), ('blue', 'penguin'), ('blue', 'light'), ('blue', 'yellow'), ('blue', 'necklace'), ('eye', 'blue'), ('eye', 'beads'), ('eye', 'wolf'), ('eye', 'flower'), ('eye', 'tiger'), ('eye', 'dress'), ('eye', 'airplane'), ('eye', 'moon'), ('eye', 'glasses'), ('eye', 'flag'), ('eye', 'button'), ('eye', 'cat'), ('eye', 'penguin'), ('eye', 'light'), ('eye', 'sun'), ('eye', 'clock'), ('beads', 'blue'), ('beads', 'eye'), ('beads', 'wolf'), ('beads', 'flower'), ('beads', 'tiger'), ('beads', 'bunny'), ('beads', 'airplane'), ('beads', 'moon'), ('beads', 'balloon'), ('beads', 'flag'), ('beads', 'grapes'), ('beads', 'grass'), ('beads', 'button'), ('beads', 'zebra'), ('beads', 'penguin'), ('beads', 'sun'), ('beads', 'necklace'), ('squirrel', 'horse'), ('squirrel', 'wolf'), ('squirrel', 'tiger'), ('squirrel', 'bunny'), ('squirrel', 'airplane'), ('squirrel', 'moon'), ('squirrel', 'flag'), ('squirrel', 'cat'), ('squirrel', 'penguin'), ('squirrel', 'rooster'), ('elephant', 'airplane'), ('wolf', 'tree'), ('wolf', 'horse'), ('wolf', 'truck'), ('wolf', 'plant'), ('wolf', 'blue'), ('wolf', 'eye'), ('wolf', 'beads'), ('wolf', 'squirrel'), ('wolf', 'flower'), ('wolf', 'tiger'), ('wolf', 'chair'), ('wolf', 'sad'), ('wolf', 'bunny'), ('wolf', 'dress'), ('wolf', 'airplane'), ('wolf', 'moon'), ('wolf', 'bear'), ('wolf', 'balloon'), ('wolf', 'tractor'), ('wolf', 'glasses'), ('wolf', 'helicopter'), ('wolf', 'flag'), ('wolf', 'grapes'), ('wolf', 'button'), ('wolf', 'cat'), ('wolf', 'car'), ('wolf', 'black'), ('wolf', 'zebra'), ('wolf', 'penguin'), ('wolf', 'light'), ('wolf', 'stairs'), ('wolf', 'puppy'), ('wolf', 'yellow'), ('wolf', 'sun'), ('wolf', 'rooster'), ('wolf', 'necklace'), ('wolf', 'dog'), ('wolf', 'pig'), ('wolf', 'deer'), ('wolf', 'clock'), ('night', 'moon'), ('flower', 'tree'), ('flower', 'plant'), ('flower', 'eye'), ('flower', 'beads'), ('flower', 'wolf'), ('flower', 'tiger'), ('flower', 'bunny'), ('flower', 'dress'), ('flower', 'airplane'), ('flower', 'moon'), ('flower', 'balloon'), ('flower', 'flag'), ('flower', 'grapes'), ('flower', 'button'), ('flower', 'cat'), ('flower', 'turtle'), ('flower', 'zebra'), ('flower', 'penguin'), ('flower', 'light'), ('flower', 'yellow'), ('flower', 'butterfly'), ('flower', 'sun'), ('flower', 'necklace'), ('tiger', 'tree'), ('tiger', 'horse'), ('tiger', 'plant'), ('tiger', 'eye'), ('tiger', 'beads'), ('tiger', 'squirrel'), ('tiger', 'wolf'), ('tiger', 'flower'), ('tiger', 'chair'), ('tiger', 'sad'), ('tiger', 'bunny'), ('tiger', 'dress'), ('tiger', 'clown'), ('tiger', 'airplane'), ('tiger', 'moon'), ('tiger', 'balloon'), ('tiger', 'glasses'), ('tiger', 'helicopter'), ('tiger', 'flag'), ('tiger', 'button'), ('tiger', 'cat'), ('tiger', 'turtle'), ('tiger', 'black'), ('tiger', 'zebra'), ('tiger', 'penguin'), ('tiger', 'light'), ('tiger', 'stairs'), ('tiger', 'yellow'), ('tiger', 'butterfly'), ('tiger', 'sun'), ('tiger', 'rooster'), ('tiger', 'necklace'), ('tiger', 'dog'), ('tiger', 'deer'), ('chair', 'wolf'), ('chair', 'tiger'), ('chair', 'dress'), ('chair', 'airplane'), ('chair', 'helicopter'), ('chair', 'cat'), ('chair', 'stairs'), ('chair', 'necklace'), ('sad', 'wolf'), ('sad', 'tiger'), ('sad', 'airplane'), ('bunny', 'beads'), ('bunny', 'squirrel'), ('bunny', 'wolf'), ('bunny', 'flower'), ('bunny', 'tiger'), ('bunny', 'airplane'), ('bunny', 'moon'), ('bunny', 'button'), ('bunny', 'cat'), ('bunny', 'penguin'), ('bunny', 'rooster'), ('bunny', 'necklace'), ('dress', 'blue'), ('dress', 'eye'), ('dress', 'wolf'), ('dress', 'flower'), ('dress', 'tiger'), ('dress', 'chair'), ('dress', 'airplane'), ('dress', 'moon'), ('dress', 'glasses'), ('dress', 'flag'), ('dress', 'button'), ('dress', 'cat'), ('dress', 'black'), ('dress', 'penguin'), ('dress', 'sun'), ('dress', 'rooster'), ('dress', 'necklace'), ('smile', 'sun'), ('chocolate', 'cake'), ('clown', 'tiger'), ('clown', 'balloon'), ('clown', 'penguin'), ('airplane', 'tree'), ('airplane', 'horse'), ('airplane', 'truck'), ('airplane', 'plant'), ('airplane', 'blue'), ('airplane', 'eye'), ('airplane', 'beads'), ('airplane', 'squirrel'), ('airplane', 'elephant'), ('airplane', 'wolf'), ('airplane', 'flower'), ('airplane', 'tiger'), ('airplane', 'chair'), ('airplane', 'sad'), ('airplane', 'bunny'), ('airplane', 'dress'), ('airplane', 'moon'), ('airplane', 'balloon'), ('airplane', 'tractor'), ('airplane', 'cloud'), ('airplane', 'glasses'), ('airplane', 'helicopter'), ('airplane', 'flag'), ('airplane', 'grapes'), ('airplane', 'bird'), ('airplane', 'button'), ('airplane', 'cat'), ('airplane', 'car'), ('airplane', 'black'), ('airplane', 'zebra'), ('airplane', 'penguin'), ('airplane', 'light'), ('airplane', 'stairs'), ('airplane', 'yellow'), ('airplane', 'butterfly'), ('airplane', 'sun'), ('airplane', 'rooster'), ('airplane', 'necklace'), ('airplane', 'dog'), ('airplane', 'clock'), ('moon', 'horse'), ('moon', 'blue'), ('moon', 'eye'), ('moon', 'beads'), ('moon', 'squirrel'), ('moon', 'wolf'), ('moon', 'night'), ('moon', 'flower'), ('moon', 'tiger'), ('moon', 'bunny'), ('moon', 'dress'), ('moon', 'airplane'), ('moon', 'balloon'), ('moon', 'cloud'), ('moon', 'glasses'), ('moon', 'helicopter'), ('moon', 'flag'), ('moon', 'grapes'), ('moon', 'button'), ('moon', 'cat'), ('moon', 'black'), ('moon', 'penguin'), ('moon', 'light'), ('moon', 'yellow'), ('moon', 'sun'), ('moon', 'rooster'), ('moon', 'necklace'), ('moon', 'clock'), ('bear', 'wolf'), ('balloon', 'beads'), ('balloon', 'wolf'), ('balloon', 'flower'), ('balloon', 'tiger'), ('balloon', 'clown'), ('balloon', 'airplane'), ('balloon', 'moon'), ('balloon', 'flag'), ('balloon', 'button'), ('balloon', 'penguin'), ('balloon', 'light'), ('balloon', 'yellow'), ('balloon', 'sun'), ('balloon', 'necklace'), ('tractor', 'truck'), ('tractor', 'wolf'), ('tractor', 'airplane'), ('tractor', 'helicopter'), ('tractor', 'car'), ('cloud', 'airplane'), ('cloud', 'moon'), ('glasses', 'eye'), ('glasses', 'wolf'), ('glasses', 'tiger'), ('glasses', 'dress'), ('glasses', 'airplane'), ('glasses', 'moon'), ('glasses', 'flag'), ('glasses', 'button'), ('glasses', 'penguin'), ('glasses', 'sun'), ('helicopter', 'horse'), ('helicopter', 'truck'), ('helicopter', 'blue'), ('helicopter', 'wolf'), ('helicopter', 'tiger'), ('helicopter', 'chair'), ('helicopter', 'airplane'), ('helicopter', 'moon'), ('helicopter', 'tractor'), ('helicopter', 'flag'), ('helicopter', 'button'), ('helicopter', 'cat'), ('helicopter', 'penguin'), ('helicopter', 'sun'), ('helicopter', 'necklace'), ('flag', 'tree'), ('flag', 'horse'), ('flag', 'plant'), ('flag', 'blue'), ('flag', 'eye'), ('flag', 'beads'), ('flag', 'squirrel'), ('flag', 'wolf'), ('flag', 'flower'), ('flag', 'tiger'), ('flag', 'dress'), ('flag', 'airplane'), ('flag', 'moon'), ('flag', 'balloon'), ('flag', 'glasses'), ('flag', 'helicopter'), ('flag', 'grapes'), ('flag', 'button'), ('flag', 'cat'), ('flag', 'car'), ('flag', 'black'), ('flag', 'zebra'), ('flag', 'penguin'), ('flag', 'light'), ('flag', 'stairs'), ('flag', 'yellow'), ('flag', 'sun'), ('flag', 'rooster'), ('flag', 'necklace'), ('flag', 'dog'), ('grapes', 'beads'), ('grapes', 'wolf'), ('grapes', 'flower'), ('grapes', 'airplane'), ('grapes', 'moon'), ('grapes', 'flag'), ('grapes', 'button'), ('grapes', 'sun'), ('grapes', 'necklace'), ('garden', 'plant'), ('grass', 'plant'), ('grass', 'beads'), ('bird', 'airplane'), ('bird', 'penguin'), ('bird', 'sun'), ('bird', 'rooster'), ('pony', 'horse'), ('button', 'blue'), ('button', 'eye'), ('button', 'beads'), ('button', 'wolf'), ('button', 'flower'), ('button', 'tiger'), ('button', 'bunny'), ('button', 'dress'), ('button', 'airplane'), ('button', 'moon'), ('button', 'balloon'), ('button', 'glasses'), ('button', 'helicopter'), ('button', 'flag'), ('button', 'grapes'), ('button', 'cat'), ('button', 'zebra'), ('button', 'penguin'), ('button', 'light'), ('button', 'yellow'), ('button', 'sun'), ('button', 'necklace'), ('button', 'clock'), ('cat', 'eye'), ('cat', 'squirrel'), ('cat', 'wolf'), ('cat', 'flower'), ('cat', 'tiger'), ('cat', 'chair'), ('cat', 'bunny'), ('cat', 'dress'), ('cat', 'airplane'), ('cat', 'moon'), ('cat', 'helicopter'), ('cat', 'flag'), ('cat', 'button'), ('cat', 'black'), ('cat', 'penguin'), ('cat', 'sun'), ('cat', 'necklace'), ('cat', 'dog'), ('car', 'truck'), ('car', 'wolf'), ('car', 'airplane'), ('car', 'tractor'), ('car', 'flag'), ('turtle', 'flower'), ('turtle', 'tiger'), ('turtle', 'zebra'), ('turtle', 'penguin'), ('turtle', 'sun'), ('cake', 'chocolate'), ('black', 'wolf'), ('black', 'tiger'), ('black', 'dress'), ('black', 'airplane'), ('black', 'moon'), ('black', 'flag'), ('black', 'cat'), ('black', 'penguin'), ('zebra', 'beads'), ('zebra', 'wolf'), ('zebra', 'flower'), ('zebra', 'tiger'), ('zebra', 'airplane'), ('zebra', 'flag'), ('zebra', 'button'), ('zebra', 'turtle'), ('zebra', 'penguin'), ('zebra', 'butterfly'), ('zebra', 'sun'), ('zebra', 'necklace'), ('penguin', 'horse'), ('penguin', 'blue'), ('penguin', 'eye'), ('penguin', 'beads'), ('penguin', 'squirrel'), ('penguin', 'wolf'), ('penguin', 'flower'), ('penguin', 'tiger'), ('penguin', 'bunny'), ('penguin', 'dress'), ('penguin', 'clown'), ('penguin', 'airplane'), ('penguin', 'moon'), ('penguin', 'balloon'), ('penguin', 'glasses'), ('penguin', 'helicopter'), ('penguin', 'flag'), ('penguin', 'bird'), ('penguin', 'button'), ('penguin', 'cat'), ('penguin', 'turtle'), ('penguin', 'black'), ('penguin', 'zebra'), ('penguin', 'light'), ('penguin', 'sun'), ('penguin', 'rooster'), ('penguin', 'necklace'), ('light', 'blue'), ('light', 'eye'), ('light', 'wolf'), ('light', 'flower'), ('light', 'tiger'), ('light', 'airplane'), ('light', 'moon'), ('light', 'balloon'), ('light', 'flag'), ('light', 'button'), ('light', 'penguin'), ('light', 'yellow'), ('light', 'sun'), ('light', 'necklace'), ('stairs', 'wolf'), ('stairs', 'tiger'), ('stairs', 'chair'), ('stairs', 'airplane'), ('stairs', 'flag'), ('puppy', 'wolf'), ('puppy', 'dog'), ('yellow', 'blue'), ('yellow', 'wolf'), ('yellow', 'flower'), ('yellow', 'tiger'), ('yellow', 'airplane'), ('yellow', 'moon'), ('yellow', 'balloon'), ('yellow', 'flag'), ('yellow', 'button'), ('yellow', 'light'), ('yellow', 'sun'), ('butterfly', 'plant'), ('butterfly', 'flower'), ('butterfly', 'tiger'), ('butterfly', 'airplane'), ('butterfly', 'zebra'), ('sun', 'horse'), ('sun', 'plant'), ('sun', 'eye'), ('sun', 'beads'), ('sun', 'wolf'), ('sun', 'flower'), ('sun', 'tiger'), ('sun', 'dress'), ('sun', 'smile'), ('sun', 'airplane'), ('sun', 'moon'), ('sun', 'balloon'), ('sun', 'glasses'), ('sun', 'helicopter'), ('sun', 'flag'), ('sun', 'grapes'), ('sun', 'bird'), ('sun', 'button'), ('sun', 'cat'), ('sun', 'turtle'), ('sun', 'zebra'), ('sun', 'penguin'), ('sun', 'light'), ('sun', 'yellow'), ('sun', 'rooster'), ('sun', 'necklace'), ('sun', 'clock'), ('rooster', 'horse'), ('rooster', 'squirrel'), ('rooster', 'wolf'), ('rooster', 'tiger'), ('rooster', 'bunny'), ('rooster', 'dress'), ('rooster', 'airplane'), ('rooster', 'moon'), ('rooster', 'flag'), ('rooster', 'bird'), ('rooster', 'penguin'), ('rooster', 'sun'), ('rooster', 'necklace'), ('necklace', 'tree'), ('necklace', 'horse'), ('necklace', 'blue'), ('necklace', 'beads'), ('necklace', 'wolf'), ('necklace', 'flower'), ('necklace', 'tiger'), ('necklace', 'chair'), ('necklace', 'bunny'), ('necklace', 'dress'), ('necklace', 'airplane'), ('necklace', 'moon'), ('necklace', 'balloon'), ('necklace', 'helicopter'), ('necklace', 'flag'), ('necklace', 'grapes'), ('necklace', 'button'), ('necklace', 'cat'), ('necklace', 'zebra'), ('necklace', 'penguin'), ('necklace', 'light'), ('necklace', 'sun'), ('necklace', 'rooster'), ('dog', 'horse'), ('dog', 'wolf'), ('dog', 'tiger'), ('dog', 'airplane'), ('dog', 'flag'), ('dog', 'cat'), ('dog', 'puppy'), ('pig', 'wolf'), ('deer', 'wolf'), ('deer', 'tiger'), ('clock', 'eye'), ('clock', 'wolf'), ('clock', 'airplane'), ('clock', 'moon'), ('clock', 'button'), ('clock', 'sun')]\n"
     ]
    }
   ],
   "source": [
    "print(visual_list)"
   ]
  },
  {
   "cell_type": "markdown",
   "metadata": {},
   "source": [
    "### 1) Mean Degree of Connectivity _k_"
   ]
  },
  {
   "cell_type": "code",
   "execution_count": 431,
   "metadata": {},
   "outputs": [
    {
     "data": {
      "text/plain": [
       "1.1568998109640831"
      ]
     },
     "execution_count": 431,
     "metadata": {},
     "output_type": "execute_result"
    }
   ],
   "source": [
    "mean_degree_connectivity(visual_graph)"
   ]
  },
  {
   "cell_type": "markdown",
   "metadata": {},
   "source": [
    "### 2) Mean Clustering Coefficient _CC_"
   ]
  },
  {
   "cell_type": "code",
   "execution_count": 432,
   "metadata": {},
   "outputs": [
    {
     "data": {
      "text/plain": [
       "0.06509661244878844"
      ]
     },
     "execution_count": 432,
     "metadata": {},
     "output_type": "execute_result"
    }
   ],
   "source": [
    "nx.average_clustering(visual_graph)"
   ]
  },
  {
   "cell_type": "markdown",
   "metadata": {},
   "source": [
    "### 3) Assortativity Coefficient _a_"
   ]
  },
  {
   "cell_type": "code",
   "execution_count": 433,
   "metadata": {},
   "outputs": [
    {
     "data": {
      "text/plain": [
       "-0.37439169996025706"
      ]
     },
     "execution_count": 433,
     "metadata": {},
     "output_type": "execute_result"
    }
   ],
   "source": [
    "nx.degree_assortativity_coefficient(visual_graph)"
   ]
  },
  {
   "cell_type": "markdown",
   "metadata": {},
   "source": [
    "### 4) Percentage of nodes in the LCC _Conn._"
   ]
  },
  {
   "cell_type": "code",
   "execution_count": 434,
   "metadata": {},
   "outputs": [
    {
     "data": {
      "text/plain": [
       "0.09829867674858223"
      ]
     },
     "execution_count": 434,
     "metadata": {},
     "output_type": "execute_result"
    }
   ],
   "source": [
    "perc_nodes_in_lcc(visual_graph)"
   ]
  },
  {
   "cell_type": "markdown",
   "metadata": {},
   "source": [
    "### 5) Mean shortest length in the LCC _d_"
   ]
  },
  {
   "cell_type": "code",
   "execution_count": 435,
   "metadata": {},
   "outputs": [
    {
     "data": {
      "text/plain": [
       "1.9079939668174963"
      ]
     },
     "execution_count": 435,
     "metadata": {},
     "output_type": "execute_result"
    }
   ],
   "source": [
    "mean_shortest_path_lcc(visual_graph)"
   ]
  },
  {
   "cell_type": "code",
   "execution_count": 436,
   "metadata": {},
   "outputs": [],
   "source": [
    "pickle.dump(visual_list, open( \"visual_graph.pickle\", \"wb\" ))"
   ]
  },
  {
   "cell_type": "code",
   "execution_count": 437,
   "metadata": {},
   "outputs": [
    {
     "data": {
      "text/plain": [
       "529"
      ]
     },
     "execution_count": 437,
     "metadata": {},
     "output_type": "execute_result"
    }
   ],
   "source": [
    "len(visual_graph.nodes)"
   ]
  },
  {
   "cell_type": "markdown",
   "metadata": {},
   "source": [
    "# Create the Lancaster Embedding Network"
   ]
  },
  {
   "cell_type": "code",
   "execution_count": 438,
   "metadata": {},
   "outputs": [],
   "source": [
    "norms = pd.read_csv('../data/Sensorimotor_norms.csv')\n",
    "cols = norms.describe().columns"
   ]
  },
  {
   "cell_type": "code",
   "execution_count": 439,
   "metadata": {},
   "outputs": [],
   "source": [
    "# normalize all columns\n",
    "for col in cols:\n",
    "    m = norms[col].max()\n",
    "    norms[col] = norms[col] / m"
   ]
  },
  {
   "cell_type": "code",
   "execution_count": 440,
   "metadata": {},
   "outputs": [],
   "source": [
    "vecs = {}\n",
    "\n",
    "for i,row in norms.iterrows():\n",
    "    vecs[row.Word.lower()] =  row[cols].values"
   ]
  },
  {
   "cell_type": "code",
   "execution_count": 441,
   "metadata": {},
   "outputs": [
    {
     "data": {
      "text/plain": [
       "22"
      ]
     },
     "execution_count": 441,
     "metadata": {},
     "output_type": "execute_result"
    }
   ],
   "source": [
    "len(vecs['red'])"
   ]
  },
  {
   "cell_type": "code",
   "execution_count": 442,
   "metadata": {},
   "outputs": [],
   "source": [
    "pickle.dump(vecs, open( \"lancaster_layer_vectors.pickle\", \"wb\" ))"
   ]
  },
  {
   "cell_type": "code",
   "execution_count": 443,
   "metadata": {},
   "outputs": [
    {
     "data": {
      "text/plain": [
       "529"
      ]
     },
     "execution_count": 443,
     "metadata": {},
     "output_type": "execute_result"
    }
   ],
   "source": [
    "lancaster = nx.Graph()\n",
    "lancaster.add_nodes_from(words)\n",
    "len(lancaster.nodes)"
   ]
  },
  {
   "cell_type": "code",
   "execution_count": 444,
   "metadata": {},
   "outputs": [
    {
     "data": {
      "application/vnd.jupyter.widget-view+json": {
       "model_id": "9b700f06074f403799d7a1f541a9142b",
       "version_major": 2,
       "version_minor": 0
      },
      "text/plain": [
       "  0%|          | 0/524 [00:00<?, ?it/s]"
      ]
     },
     "metadata": {},
     "output_type": "display_data"
    }
   ],
   "source": [
    "lancaster_list = []\n",
    "\n",
    "for item in tqdm(vecs):\n",
    "    x =  vecs[item]\n",
    "\n",
    "    \n",
    "    for word in vecs:\n",
    "        if word is not item:\n",
    "            y =  vecs[word]\n",
    "            cosine_sim = dot(x, y)/(norm(x)*norm(y))\n",
    "            \n",
    "            if cosine_sim > lancaster_thresh:\n",
    "                \n",
    "                if item not in words or word not in words:\n",
    "                    continue\n",
    "                else:\n",
    "                    lancaster_list.append((item, word))\n",
    "                    lancaster.add_edge(item, word)\n"
   ]
  },
  {
   "cell_type": "code",
   "execution_count": 445,
   "metadata": {},
   "outputs": [
    {
     "name": "stdout",
     "output_type": "stream",
     "text": [
      "529\n"
     ]
    }
   ],
   "source": [
    "print(len(lancaster.nodes))"
   ]
  },
  {
   "cell_type": "markdown",
   "metadata": {},
   "source": [
    "### 1) Mean Degree of Connectivity _k_"
   ]
  },
  {
   "cell_type": "code",
   "execution_count": 446,
   "metadata": {},
   "outputs": [
    {
     "data": {
      "text/plain": [
       "6.930056710775047"
      ]
     },
     "execution_count": 446,
     "metadata": {},
     "output_type": "execute_result"
    }
   ],
   "source": [
    "mean_degree_connectivity(lancaster)"
   ]
  },
  {
   "cell_type": "markdown",
   "metadata": {},
   "source": [
    "### 2) Mean Clustering Coefficient _CC_"
   ]
  },
  {
   "cell_type": "code",
   "execution_count": 447,
   "metadata": {},
   "outputs": [
    {
     "data": {
      "text/plain": [
       "0.25969123136243577"
      ]
     },
     "execution_count": 447,
     "metadata": {},
     "output_type": "execute_result"
    }
   ],
   "source": [
    "nx.average_clustering(lancaster)"
   ]
  },
  {
   "cell_type": "markdown",
   "metadata": {},
   "source": [
    "### 3) Assortativity Coefficient _a_"
   ]
  },
  {
   "cell_type": "code",
   "execution_count": 448,
   "metadata": {},
   "outputs": [
    {
     "data": {
      "text/plain": [
       "0.45154792499581903"
      ]
     },
     "execution_count": 448,
     "metadata": {},
     "output_type": "execute_result"
    }
   ],
   "source": [
    "nx.degree_assortativity_coefficient(lancaster)"
   ]
  },
  {
   "cell_type": "markdown",
   "metadata": {},
   "source": [
    "### 4) Percetage of nodes in the LCC _Conn._"
   ]
  },
  {
   "cell_type": "code",
   "execution_count": 449,
   "metadata": {},
   "outputs": [
    {
     "data": {
      "text/plain": [
       "0.5293005671077504"
      ]
     },
     "execution_count": 449,
     "metadata": {},
     "output_type": "execute_result"
    }
   ],
   "source": [
    "perc_nodes_in_lcc(lancaster)"
   ]
  },
  {
   "cell_type": "markdown",
   "metadata": {},
   "source": [
    "### 5) Mean shortest path length in LCC _d_"
   ]
  },
  {
   "cell_type": "code",
   "execution_count": 450,
   "metadata": {},
   "outputs": [
    {
     "data": {
      "text/plain": [
       "3.615924219150026"
      ]
     },
     "execution_count": 450,
     "metadata": {},
     "output_type": "execute_result"
    }
   ],
   "source": [
    "mean_shortest_path_lcc(lancaster)"
   ]
  },
  {
   "cell_type": "code",
   "execution_count": 451,
   "metadata": {},
   "outputs": [],
   "source": [
    "pickle.dump(lancaster_list, open( \"lancaster.pickle\", \"wb\" ))"
   ]
  },
  {
   "cell_type": "code",
   "execution_count": 452,
   "metadata": {},
   "outputs": [
    {
     "data": {
      "text/plain": [
       "529"
      ]
     },
     "execution_count": 452,
     "metadata": {},
     "output_type": "execute_result"
    }
   ],
   "source": [
    "len(lancaster.nodes)"
   ]
  },
  {
   "cell_type": "markdown",
   "metadata": {},
   "source": [
    "# Now, we will add the above created layers to the multiplex"
   ]
  },
  {
   "cell_type": "markdown",
   "metadata": {},
   "source": [
    "## Word + Visual + Sensorimotor"
   ]
  },
  {
   "cell_type": "code",
   "execution_count": 453,
   "metadata": {},
   "outputs": [],
   "source": [
    "new_3 = nx.Graph()"
   ]
  },
  {
   "cell_type": "code",
   "execution_count": 209,
   "metadata": {},
   "outputs": [],
   "source": [
    "new_3.add_nodes_from(words)"
   ]
  },
  {
   "cell_type": "code",
   "execution_count": 210,
   "metadata": {},
   "outputs": [],
   "source": [
    "for pair in visual_list:\n",
    "    new_3.add_edge(pair[0], pair[1])\n",
    "for pair in word_emb_list:\n",
    "    new_3.add_edge(pair[0], pair[1])\n",
    "for pair in lancaster_list:\n",
    "    new_3.add_edge(pair[0], pair[1])"
   ]
  },
  {
   "cell_type": "code",
   "execution_count": 211,
   "metadata": {},
   "outputs": [
    {
     "data": {
      "text/plain": [
       "529"
      ]
     },
     "execution_count": 211,
     "metadata": {},
     "output_type": "execute_result"
    }
   ],
   "source": [
    "len(new_3.nodes)"
   ]
  },
  {
   "cell_type": "markdown",
   "metadata": {},
   "source": [
    "### 1) k"
   ]
  },
  {
   "cell_type": "code",
   "execution_count": 212,
   "metadata": {},
   "outputs": [
    {
     "data": {
      "text/plain": [
       "8.81663516068053"
      ]
     },
     "execution_count": 212,
     "metadata": {},
     "output_type": "execute_result"
    }
   ],
   "source": [
    "mean_degree_connectivity(new_3)"
   ]
  },
  {
   "cell_type": "markdown",
   "metadata": {},
   "source": [
    "### 2) CC"
   ]
  },
  {
   "cell_type": "code",
   "execution_count": 213,
   "metadata": {},
   "outputs": [
    {
     "data": {
      "text/plain": [
       "0.2954640058454584"
      ]
     },
     "execution_count": 213,
     "metadata": {},
     "output_type": "execute_result"
    }
   ],
   "source": [
    "nx.average_clustering(new_3)"
   ]
  },
  {
   "cell_type": "markdown",
   "metadata": {},
   "source": [
    "### 3) a"
   ]
  },
  {
   "cell_type": "code",
   "execution_count": 214,
   "metadata": {},
   "outputs": [
    {
     "data": {
      "text/plain": [
       "0.2821758755160437"
      ]
     },
     "execution_count": 214,
     "metadata": {},
     "output_type": "execute_result"
    }
   ],
   "source": [
    "nx.degree_assortativity_coefficient(new_3)"
   ]
  },
  {
   "cell_type": "markdown",
   "metadata": {},
   "source": [
    "### 4) Conn."
   ]
  },
  {
   "cell_type": "code",
   "execution_count": 215,
   "metadata": {},
   "outputs": [
    {
     "data": {
      "text/plain": [
       "0.6275992438563327"
      ]
     },
     "execution_count": 215,
     "metadata": {},
     "output_type": "execute_result"
    }
   ],
   "source": [
    "perc_nodes_in_lcc(new_3)"
   ]
  },
  {
   "cell_type": "markdown",
   "metadata": {},
   "source": [
    "### 5) d"
   ]
  },
  {
   "cell_type": "code",
   "execution_count": 216,
   "metadata": {},
   "outputs": [
    {
     "data": {
      "text/plain": [
       "3.4131328941142214"
      ]
     },
     "execution_count": 216,
     "metadata": {},
     "output_type": "execute_result"
    }
   ],
   "source": [
    "mean_shortest_path_lcc(new_3)"
   ]
  },
  {
   "cell_type": "markdown",
   "metadata": {},
   "source": [
    "## Multiplex + new_3"
   ]
  },
  {
   "cell_type": "code",
   "execution_count": 217,
   "metadata": {},
   "outputs": [],
   "source": [
    "multiplex_new_3 = multiplex.copy()"
   ]
  },
  {
   "cell_type": "code",
   "execution_count": 218,
   "metadata": {},
   "outputs": [],
   "source": [
    "for pair in visual_list:\n",
    "    multiplex_new_3.add_edge(pair[0], pair[1])\n",
    "for pair in word_emb_list:\n",
    "    multiplex_new_3.add_edge(pair[0], pair[1])\n",
    "for pair in lancaster_list:\n",
    "    multiplex_new_3.add_edge(pair[0], pair[1])"
   ]
  },
  {
   "cell_type": "code",
   "execution_count": 219,
   "metadata": {},
   "outputs": [
    {
     "data": {
      "text/plain": [
       "529"
      ]
     },
     "execution_count": 219,
     "metadata": {},
     "output_type": "execute_result"
    }
   ],
   "source": [
    "len(multiplex_new_3.nodes())"
   ]
  },
  {
   "cell_type": "code",
   "execution_count": 220,
   "metadata": {},
   "outputs": [
    {
     "data": {
      "text/plain": [
       "33.342155009451794"
      ]
     },
     "execution_count": 220,
     "metadata": {},
     "output_type": "execute_result"
    }
   ],
   "source": [
    "mean_degree_connectivity(multiplex_new_3)"
   ]
  },
  {
   "cell_type": "code",
   "execution_count": 221,
   "metadata": {},
   "outputs": [
    {
     "data": {
      "text/plain": [
       "0.3330856221772822"
      ]
     },
     "execution_count": 221,
     "metadata": {},
     "output_type": "execute_result"
    }
   ],
   "source": [
    "nx.average_clustering(multiplex_new_3)"
   ]
  },
  {
   "cell_type": "code",
   "execution_count": 222,
   "metadata": {},
   "outputs": [
    {
     "data": {
      "text/plain": [
       "-0.020136314699906645"
      ]
     },
     "execution_count": 222,
     "metadata": {},
     "output_type": "execute_result"
    }
   ],
   "source": [
    "nx.degree_assortativity_coefficient(multiplex_new_3)"
   ]
  },
  {
   "cell_type": "code",
   "execution_count": 223,
   "metadata": {},
   "outputs": [
    {
     "data": {
      "text/plain": [
       "1.0"
      ]
     },
     "execution_count": 223,
     "metadata": {},
     "output_type": "execute_result"
    }
   ],
   "source": [
    "perc_nodes_in_lcc(multiplex_new_3)"
   ]
  },
  {
   "cell_type": "code",
   "execution_count": 224,
   "metadata": {},
   "outputs": [
    {
     "data": {
      "text/plain": [
       "2.2783052643638655"
      ]
     },
     "execution_count": 224,
     "metadata": {},
     "output_type": "execute_result"
    }
   ],
   "source": [
    "mean_shortest_path_lcc(multiplex_new_3)"
   ]
  },
  {
   "cell_type": "markdown",
   "metadata": {},
   "source": [
    "## Multiplex + Visual"
   ]
  },
  {
   "cell_type": "markdown",
   "metadata": {},
   "source": [
    "### Make a copy of the multiplex to add each layer"
   ]
  },
  {
   "cell_type": "code",
   "execution_count": 225,
   "metadata": {},
   "outputs": [],
   "source": [
    "multiplex_visual = multiplex.copy()"
   ]
  },
  {
   "cell_type": "code",
   "execution_count": 226,
   "metadata": {},
   "outputs": [],
   "source": [
    "# multiplex + visual\n",
    "for pair in visual_list:\n",
    "    multiplex_visual.add_edge(pair[0], pair[1])"
   ]
  },
  {
   "cell_type": "code",
   "execution_count": 227,
   "metadata": {},
   "outputs": [
    {
     "data": {
      "text/plain": [
       "529"
      ]
     },
     "execution_count": 227,
     "metadata": {},
     "output_type": "execute_result"
    }
   ],
   "source": [
    "len(multiplex_visual.nodes)"
   ]
  },
  {
   "cell_type": "markdown",
   "metadata": {},
   "source": [
    "### 1) _k_"
   ]
  },
  {
   "cell_type": "code",
   "execution_count": 228,
   "metadata": {},
   "outputs": [
    {
     "data": {
      "text/plain": [
       "27.330812854442343"
      ]
     },
     "execution_count": 228,
     "metadata": {},
     "output_type": "execute_result"
    }
   ],
   "source": [
    "mean_degree_connectivity(multiplex_visual)"
   ]
  },
  {
   "cell_type": "markdown",
   "metadata": {},
   "source": [
    "### 2) _CC_\n"
   ]
  },
  {
   "cell_type": "code",
   "execution_count": 229,
   "metadata": {},
   "outputs": [
    {
     "data": {
      "text/plain": [
       "0.33048673859820415"
      ]
     },
     "execution_count": 229,
     "metadata": {},
     "output_type": "execute_result"
    }
   ],
   "source": [
    "nx.average_clustering(multiplex_visual)"
   ]
  },
  {
   "cell_type": "markdown",
   "metadata": {},
   "source": [
    "### 3) _a_"
   ]
  },
  {
   "cell_type": "code",
   "execution_count": 230,
   "metadata": {},
   "outputs": [
    {
     "data": {
      "text/plain": [
       "-0.06984398586988604"
      ]
     },
     "execution_count": 230,
     "metadata": {},
     "output_type": "execute_result"
    }
   ],
   "source": [
    "nx.degree_assortativity_coefficient(multiplex_visual)"
   ]
  },
  {
   "cell_type": "markdown",
   "metadata": {},
   "source": [
    "### 4) _Conn._"
   ]
  },
  {
   "cell_type": "code",
   "execution_count": 231,
   "metadata": {},
   "outputs": [
    {
     "data": {
      "text/plain": [
       "1.0"
      ]
     },
     "execution_count": 231,
     "metadata": {},
     "output_type": "execute_result"
    }
   ],
   "source": [
    "perc_nodes_in_lcc(multiplex_visual)"
   ]
  },
  {
   "cell_type": "markdown",
   "metadata": {},
   "source": [
    "### 5)  _d_"
   ]
  },
  {
   "cell_type": "code",
   "execution_count": 232,
   "metadata": {},
   "outputs": [
    {
     "data": {
      "text/plain": [
       "2.375379503923927"
      ]
     },
     "execution_count": 232,
     "metadata": {},
     "output_type": "execute_result"
    }
   ],
   "source": [
    "mean_shortest_path_lcc(multiplex_visual)"
   ]
  },
  {
   "cell_type": "markdown",
   "metadata": {},
   "source": [
    "## Multiplex + Word"
   ]
  },
  {
   "cell_type": "code",
   "execution_count": 233,
   "metadata": {},
   "outputs": [],
   "source": [
    "multiplex_word = multiplex.copy()"
   ]
  },
  {
   "cell_type": "code",
   "execution_count": 234,
   "metadata": {},
   "outputs": [],
   "source": [
    "for pair in word_emb_list:\n",
    "    multiplex_word.add_edge(pair[0], pair[1])"
   ]
  },
  {
   "cell_type": "code",
   "execution_count": 235,
   "metadata": {},
   "outputs": [
    {
     "data": {
      "text/plain": [
       "529"
      ]
     },
     "execution_count": 235,
     "metadata": {},
     "output_type": "execute_result"
    }
   ],
   "source": [
    "len(multiplex_word.nodes)"
   ]
  },
  {
   "cell_type": "markdown",
   "metadata": {},
   "source": [
    "### 1) _k_"
   ]
  },
  {
   "cell_type": "code",
   "execution_count": 236,
   "metadata": {},
   "outputs": [
    {
     "data": {
      "text/plain": [
       "26.801512287334592"
      ]
     },
     "execution_count": 236,
     "metadata": {},
     "output_type": "execute_result"
    }
   ],
   "source": [
    "mean_degree_connectivity(multiplex_word)"
   ]
  },
  {
   "cell_type": "markdown",
   "metadata": {},
   "source": [
    "### 2) _CC_"
   ]
  },
  {
   "cell_type": "code",
   "execution_count": 237,
   "metadata": {},
   "outputs": [
    {
     "data": {
      "text/plain": [
       "0.33161217183466807"
      ]
     },
     "execution_count": 237,
     "metadata": {},
     "output_type": "execute_result"
    }
   ],
   "source": [
    "nx.average_clustering(multiplex_word)"
   ]
  },
  {
   "cell_type": "markdown",
   "metadata": {},
   "source": [
    "### 3) _a_"
   ]
  },
  {
   "cell_type": "code",
   "execution_count": 238,
   "metadata": {},
   "outputs": [
    {
     "data": {
      "text/plain": [
       "-0.06763528402764445"
      ]
     },
     "execution_count": 238,
     "metadata": {},
     "output_type": "execute_result"
    }
   ],
   "source": [
    "nx.degree_assortativity_coefficient(multiplex_word)"
   ]
  },
  {
   "cell_type": "markdown",
   "metadata": {},
   "source": [
    "### 4) _Conn._"
   ]
  },
  {
   "cell_type": "code",
   "execution_count": 239,
   "metadata": {},
   "outputs": [
    {
     "data": {
      "text/plain": [
       "1.0"
      ]
     },
     "execution_count": 239,
     "metadata": {},
     "output_type": "execute_result"
    }
   ],
   "source": [
    "perc_nodes_in_lcc(multiplex_word)"
   ]
  },
  {
   "cell_type": "markdown",
   "metadata": {},
   "source": [
    "### 5) _d_"
   ]
  },
  {
   "cell_type": "code",
   "execution_count": 240,
   "metadata": {},
   "outputs": [
    {
     "data": {
      "text/plain": [
       "2.389220656470184"
      ]
     },
     "execution_count": 240,
     "metadata": {},
     "output_type": "execute_result"
    }
   ],
   "source": [
    "mean_shortest_path_lcc(multiplex_word)"
   ]
  },
  {
   "cell_type": "markdown",
   "metadata": {},
   "source": [
    "# Multiplex + Lancaster"
   ]
  },
  {
   "cell_type": "code",
   "execution_count": 241,
   "metadata": {},
   "outputs": [],
   "source": [
    "multiplex_lancaster = multiplex.copy()"
   ]
  },
  {
   "cell_type": "code",
   "execution_count": 242,
   "metadata": {},
   "outputs": [],
   "source": [
    "for pair in lancaster_list:\n",
    "    multiplex_lancaster.add_edge(pair[0], pair[1])"
   ]
  },
  {
   "cell_type": "code",
   "execution_count": 243,
   "metadata": {},
   "outputs": [
    {
     "data": {
      "text/plain": [
       "529"
      ]
     },
     "execution_count": 243,
     "metadata": {},
     "output_type": "execute_result"
    }
   ],
   "source": [
    "len(multiplex_lancaster.nodes)"
   ]
  },
  {
   "cell_type": "markdown",
   "metadata": {},
   "source": [
    "### 1) _k_"
   ]
  },
  {
   "cell_type": "code",
   "execution_count": 244,
   "metadata": {},
   "outputs": [
    {
     "data": {
      "text/plain": [
       "32.189035916824196"
      ]
     },
     "execution_count": 244,
     "metadata": {},
     "output_type": "execute_result"
    }
   ],
   "source": [
    "mean_degree_connectivity(multiplex_lancaster)"
   ]
  },
  {
   "cell_type": "markdown",
   "metadata": {},
   "source": [
    "### 2) _CC_"
   ]
  },
  {
   "cell_type": "code",
   "execution_count": 245,
   "metadata": {},
   "outputs": [
    {
     "data": {
      "text/plain": [
       "0.3278162045648223"
      ]
     },
     "execution_count": 245,
     "metadata": {},
     "output_type": "execute_result"
    }
   ],
   "source": [
    "nx.average_clustering(multiplex_lancaster)"
   ]
  },
  {
   "cell_type": "markdown",
   "metadata": {},
   "source": [
    "### 3) _a_"
   ]
  },
  {
   "cell_type": "code",
   "execution_count": 246,
   "metadata": {},
   "outputs": [
    {
     "data": {
      "text/plain": [
       "-0.021172720751662943"
      ]
     },
     "execution_count": 246,
     "metadata": {},
     "output_type": "execute_result"
    }
   ],
   "source": [
    "nx.degree_assortativity_coefficient(multiplex_lancaster)"
   ]
  },
  {
   "cell_type": "markdown",
   "metadata": {},
   "source": [
    "### 4) _Conn._"
   ]
  },
  {
   "cell_type": "code",
   "execution_count": 131,
   "metadata": {},
   "outputs": [
    {
     "data": {
      "text/plain": [
       "1.0"
      ]
     },
     "execution_count": 131,
     "metadata": {},
     "output_type": "execute_result"
    }
   ],
   "source": [
    "perc_nodes_in_lcc(multiplex_lancaster)"
   ]
  },
  {
   "cell_type": "markdown",
   "metadata": {},
   "source": [
    "### 5) _d_"
   ]
  },
  {
   "cell_type": "code",
   "execution_count": 132,
   "metadata": {},
   "outputs": [
    {
     "data": {
      "text/plain": [
       "2.1268760382654524"
      ]
     },
     "execution_count": 132,
     "metadata": {},
     "output_type": "execute_result"
    }
   ],
   "source": [
    "mean_shortest_path_lcc(multiplex_lancaster)"
   ]
  }
 ],
 "metadata": {
  "kernelspec": {
   "display_name": "Python 3 (ipykernel)",
   "language": "python",
   "name": "python3"
  },
  "language_info": {
   "codemirror_mode": {
    "name": "ipython",
    "version": 3
   },
   "file_extension": ".py",
   "mimetype": "text/x-python",
   "name": "python",
   "nbconvert_exporter": "python",
   "pygments_lexer": "ipython3",
   "version": "3.9.7"
  }
 },
 "nbformat": 4,
 "nbformat_minor": 4
}
