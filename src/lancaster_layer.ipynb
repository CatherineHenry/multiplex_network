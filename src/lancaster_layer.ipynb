{
 "cells": [
  {
   "cell_type": "markdown",
   "metadata": {},
   "source": [
    "# Phase 1: Create a layer based on the Lancaster Sensorimotor Norms"
   ]
  },
  {
   "cell_type": "code",
   "execution_count": 2,
   "metadata": {},
   "outputs": [],
   "source": [
    "import pandas as pd\n",
    "import csv\n",
    "from nltk.stem import WordNetLemmatizer"
   ]
  },
  {
   "cell_type": "code",
   "execution_count": 3,
   "metadata": {},
   "outputs": [],
   "source": [
    "words = [line.strip() for line in open('../data/vertomul.txt')]"
   ]
  },
  {
   "cell_type": "code",
   "execution_count": 4,
   "metadata": {},
   "outputs": [
    {
     "data": {
      "text/plain": [
       "['a',\n",
       " 'above',\n",
       " 'after',\n",
       " 'airplane',\n",
       " 'all',\n",
       " 'alligator',\n",
       " 'animal',\n",
       " 'ankle',\n",
       " 'another',\n",
       " 'ant']"
      ]
     },
     "execution_count": 4,
     "metadata": {},
     "output_type": "execute_result"
    }
   ],
   "source": [
    "words[:10]"
   ]
  },
  {
   "cell_type": "code",
   "execution_count": 5,
   "metadata": {},
   "outputs": [
    {
     "data": {
      "text/plain": [
       "529"
      ]
     },
     "execution_count": 5,
     "metadata": {},
     "output_type": "execute_result"
    }
   ],
   "source": [
    "# lemmitize the words\n",
    "lemmatizer = WordNetLemmatizer()\n",
    "lemms = []\n",
    "\n",
    "for w in words:\n",
    "    word = lemmatizer.lemmatize(w)\n",
    "    word = lemmatizer.lemmatize(word, 'v')\n",
    "    lemms.append(word)\n",
    "len(lemms)"
   ]
  },
  {
   "cell_type": "code",
   "execution_count": 6,
   "metadata": {},
   "outputs": [
    {
     "data": {
      "text/plain": [
       "526"
      ]
     },
     "execution_count": 6,
     "metadata": {},
     "output_type": "execute_result"
    }
   ],
   "source": [
    "#drop the repeated words\n",
    "seen = set()\n",
    "result = []\n",
    "for word in lemms:\n",
    "    if word not in seen:\n",
    "        seen.add(word)\n",
    "        result.append(word)\n",
    "        \n",
    "len(result)"
   ]
  },
  {
   "cell_type": "markdown",
   "metadata": {},
   "source": [
    "## Is this okay? "
   ]
  },
  {
   "cell_type": "markdown",
   "metadata": {},
   "source": [
    "The vocabulary after lemmatization loses 3 words. "
   ]
  },
  {
   "cell_type": "markdown",
   "metadata": {},
   "source": [
    "Create a text file with the cleaned up vocabulary data."
   ]
  },
  {
   "cell_type": "code",
   "execution_count": 7,
   "metadata": {},
   "outputs": [],
   "source": [
    "#save the first 1000 to a file\n",
    "f= open(\"vocab.txt\",\"w\")\n",
    "\n",
    "for word in result:\n",
    "     f.write(\"%s\\n\" % word)\n",
    "        \n",
    "f.close() "
   ]
  },
  {
   "cell_type": "markdown",
   "metadata": {},
   "source": [
    "After plugging in the vocab.txt file into the Lancaster sensorimotor, we received a .csv file with the means and the standard deviation of each measurement for each word. "
   ]
  },
  {
   "cell_type": "markdown",
   "metadata": {},
   "source": [
    "NOTE: the vocabulary loses another 2 words while going through the sensorimotor because the word 'JELLO' and 'STAVE' are not found. "
   ]
  },
  {
   "cell_type": "code",
   "execution_count": 9,
   "metadata": {},
   "outputs": [
    {
     "data": {
      "text/plain": [
       "22"
      ]
     },
     "execution_count": 9,
     "metadata": {},
     "output_type": "execute_result"
    }
   ],
   "source": [
    "# csv file name \n",
    "filename = \"../data/Sensorimotor_norms.csv\"\n",
    "norms = pd.read_csv(filename)\n",
    "\n",
    "cols = norms.describe().columns\n",
    "len(cols)"
   ]
  },
  {
   "cell_type": "code",
   "execution_count": 10,
   "metadata": {},
   "outputs": [],
   "source": [
    "# normalize all columns\n",
    "for col in cols:\n",
    "    m = norms[col].max()\n",
    "    norms[col] = norms[col] / m"
   ]
  },
  {
   "cell_type": "code",
   "execution_count": 11,
   "metadata": {},
   "outputs": [],
   "source": [
    "vecs = {}\n",
    "\n",
    "for i,row in norms.iterrows():\n",
    "    vecs[row.Word.lower()] =  row[cols].values"
   ]
  },
  {
   "cell_type": "code",
   "execution_count": 12,
   "metadata": {},
   "outputs": [
    {
     "data": {
      "text/plain": [
       "array([0.0797948717948718, 0.0444, 0.0454731667349447, 0.1462078035949145,\n",
       "       0.037851314596554844, 0.9112, 0.011907164480322906,\n",
       "       0.05999999999999999, 0.6824, 0.0942, 0.05351856069232521,\n",
       "       0.39078498293515357, 0.22258326563769293, 0.26746589499793305,\n",
       "       0.5825902335456475, 0.21853741496598642, 0.38273142382731423,\n",
       "       0.10460611278519157, 0.3260135135135135, 0.8757322175732217,\n",
       "       0.4368098159509203, 0.2880694143167028], dtype=object)"
      ]
     },
     "execution_count": 12,
     "metadata": {},
     "output_type": "execute_result"
    }
   ],
   "source": [
    "vecs['red']"
   ]
  },
  {
   "cell_type": "code",
   "execution_count": 13,
   "metadata": {},
   "outputs": [
    {
     "data": {
      "text/plain": [
       "524"
      ]
     },
     "execution_count": 13,
     "metadata": {},
     "output_type": "execute_result"
    }
   ],
   "source": [
    "len(vecs)"
   ]
  },
  {
   "cell_type": "code",
   "execution_count": 14,
   "metadata": {},
   "outputs": [
    {
     "data": {
      "text/html": [
       "<div>\n",
       "<style scoped>\n",
       "    .dataframe tbody tr th:only-of-type {\n",
       "        vertical-align: middle;\n",
       "    }\n",
       "\n",
       "    .dataframe tbody tr th {\n",
       "        vertical-align: top;\n",
       "    }\n",
       "\n",
       "    .dataframe thead th {\n",
       "        text-align: right;\n",
       "    }\n",
       "</style>\n",
       "<table border=\"1\" class=\"dataframe\">\n",
       "  <thead>\n",
       "    <tr style=\"text-align: right;\">\n",
       "      <th></th>\n",
       "      <th>Word</th>\n",
       "      <th>Auditory.mean</th>\n",
       "      <th>Gustatory.mean</th>\n",
       "      <th>Haptic.mean</th>\n",
       "      <th>Interoceptive.mean</th>\n",
       "      <th>Olfactory.mean</th>\n",
       "      <th>Visual.mean</th>\n",
       "      <th>Foot_leg.mean</th>\n",
       "      <th>Hand_arm.mean</th>\n",
       "      <th>Head.mean</th>\n",
       "      <th>...</th>\n",
       "      <th>Gustatory.SD</th>\n",
       "      <th>Haptic.SD</th>\n",
       "      <th>Interoceptive.SD</th>\n",
       "      <th>Olfactory.SD</th>\n",
       "      <th>Visual.SD</th>\n",
       "      <th>Foot_leg.SD</th>\n",
       "      <th>Hand_arm.SD</th>\n",
       "      <th>Head.SD</th>\n",
       "      <th>Mouth.SD</th>\n",
       "      <th>Torso.SD</th>\n",
       "    </tr>\n",
       "  </thead>\n",
       "  <tbody>\n",
       "    <tr>\n",
       "      <th>0</th>\n",
       "      <td>A</td>\n",
       "      <td>0.454154</td>\n",
       "      <td>0.0000</td>\n",
       "      <td>0.087874</td>\n",
       "      <td>0.000000</td>\n",
       "      <td>0.000000</td>\n",
       "      <td>0.4858</td>\n",
       "      <td>0.000000</td>\n",
       "      <td>0.072857</td>\n",
       "      <td>0.2142</td>\n",
       "      <td>...</td>\n",
       "      <td>0.000000</td>\n",
       "      <td>0.387764</td>\n",
       "      <td>0.000000</td>\n",
       "      <td>0.000000</td>\n",
       "      <td>1.000000</td>\n",
       "      <td>0.000000</td>\n",
       "      <td>0.564189</td>\n",
       "      <td>0.890795</td>\n",
       "      <td>0.546421</td>\n",
       "      <td>0.000000</td>\n",
       "    </tr>\n",
       "    <tr>\n",
       "      <th>1</th>\n",
       "      <td>ABOVE</td>\n",
       "      <td>0.060308</td>\n",
       "      <td>0.0000</td>\n",
       "      <td>0.096477</td>\n",
       "      <td>0.180623</td>\n",
       "      <td>0.000000</td>\n",
       "      <td>0.6470</td>\n",
       "      <td>0.211504</td>\n",
       "      <td>0.378980</td>\n",
       "      <td>0.5334</td>\n",
       "      <td>...</td>\n",
       "      <td>0.000000</td>\n",
       "      <td>0.389831</td>\n",
       "      <td>0.525265</td>\n",
       "      <td>0.000000</td>\n",
       "      <td>0.797426</td>\n",
       "      <td>0.659492</td>\n",
       "      <td>0.804476</td>\n",
       "      <td>0.948117</td>\n",
       "      <td>0.555828</td>\n",
       "      <td>0.716703</td>\n",
       "    </tr>\n",
       "    <tr>\n",
       "      <th>2</th>\n",
       "      <td>AFTER</td>\n",
       "      <td>0.205128</td>\n",
       "      <td>0.0200</td>\n",
       "      <td>0.010242</td>\n",
       "      <td>0.164402</td>\n",
       "      <td>0.011333</td>\n",
       "      <td>0.2100</td>\n",
       "      <td>0.254894</td>\n",
       "      <td>0.268571</td>\n",
       "      <td>0.4842</td>\n",
       "      <td>...</td>\n",
       "      <td>0.181560</td>\n",
       "      <td>0.092600</td>\n",
       "      <td>0.598726</td>\n",
       "      <td>0.095238</td>\n",
       "      <td>0.706102</td>\n",
       "      <td>0.757211</td>\n",
       "      <td>0.758868</td>\n",
       "      <td>0.989121</td>\n",
       "      <td>0.831493</td>\n",
       "      <td>0.750108</td>\n",
       "    </tr>\n",
       "    <tr>\n",
       "      <th>3</th>\n",
       "      <td>AIRPLANE</td>\n",
       "      <td>0.638154</td>\n",
       "      <td>0.0112</td>\n",
       "      <td>0.307251</td>\n",
       "      <td>0.133932</td>\n",
       "      <td>0.050317</td>\n",
       "      <td>0.8334</td>\n",
       "      <td>0.302725</td>\n",
       "      <td>0.367347</td>\n",
       "      <td>0.6400</td>\n",
       "      <td>...</td>\n",
       "      <td>0.095857</td>\n",
       "      <td>0.712691</td>\n",
       "      <td>0.566879</td>\n",
       "      <td>0.311224</td>\n",
       "      <td>0.701121</td>\n",
       "      <td>0.796384</td>\n",
       "      <td>0.758024</td>\n",
       "      <td>0.774895</td>\n",
       "      <td>0.656442</td>\n",
       "      <td>0.822126</td>\n",
       "    </tr>\n",
       "    <tr>\n",
       "      <th>4</th>\n",
       "      <td>ALL</td>\n",
       "      <td>0.435897</td>\n",
       "      <td>0.1624</td>\n",
       "      <td>0.422368</td>\n",
       "      <td>0.287593</td>\n",
       "      <td>0.184044</td>\n",
       "      <td>0.6500</td>\n",
       "      <td>0.317053</td>\n",
       "      <td>0.417959</td>\n",
       "      <td>0.5334</td>\n",
       "      <td>...</td>\n",
       "      <td>0.683184</td>\n",
       "      <td>0.873088</td>\n",
       "      <td>0.859448</td>\n",
       "      <td>0.715136</td>\n",
       "      <td>0.750104</td>\n",
       "      <td>0.866982</td>\n",
       "      <td>0.890625</td>\n",
       "      <td>0.984100</td>\n",
       "      <td>0.896115</td>\n",
       "      <td>0.916269</td>\n",
       "    </tr>\n",
       "    <tr>\n",
       "      <th>...</th>\n",
       "      <td>...</td>\n",
       "      <td>...</td>\n",
       "      <td>...</td>\n",
       "      <td>...</td>\n",
       "      <td>...</td>\n",
       "      <td>...</td>\n",
       "      <td>...</td>\n",
       "      <td>...</td>\n",
       "      <td>...</td>\n",
       "      <td>...</td>\n",
       "      <td>...</td>\n",
       "      <td>...</td>\n",
       "      <td>...</td>\n",
       "      <td>...</td>\n",
       "      <td>...</td>\n",
       "      <td>...</td>\n",
       "      <td>...</td>\n",
       "      <td>...</td>\n",
       "      <td>...</td>\n",
       "      <td>...</td>\n",
       "      <td>...</td>\n",
       "    </tr>\n",
       "    <tr>\n",
       "      <th>519</th>\n",
       "      <td>YOU</td>\n",
       "      <td>0.512821</td>\n",
       "      <td>0.1112</td>\n",
       "      <td>0.614502</td>\n",
       "      <td>0.815870</td>\n",
       "      <td>0.314823</td>\n",
       "      <td>0.7112</td>\n",
       "      <td>0.658527</td>\n",
       "      <td>0.719592</td>\n",
       "      <td>0.8842</td>\n",
       "      <td>...</td>\n",
       "      <td>0.506499</td>\n",
       "      <td>0.750310</td>\n",
       "      <td>0.614437</td>\n",
       "      <td>0.800595</td>\n",
       "      <td>0.700706</td>\n",
       "      <td>0.950065</td>\n",
       "      <td>0.883024</td>\n",
       "      <td>0.546025</td>\n",
       "      <td>0.762372</td>\n",
       "      <td>0.973970</td>\n",
       "    </tr>\n",
       "    <tr>\n",
       "      <th>520</th>\n",
       "      <td>YUCKY</td>\n",
       "      <td>0.296205</td>\n",
       "      <td>0.6000</td>\n",
       "      <td>0.375461</td>\n",
       "      <td>0.414073</td>\n",
       "      <td>0.604488</td>\n",
       "      <td>0.6000</td>\n",
       "      <td>0.157013</td>\n",
       "      <td>0.260816</td>\n",
       "      <td>0.4778</td>\n",
       "      <td>...</td>\n",
       "      <td>0.750203</td>\n",
       "      <td>0.683754</td>\n",
       "      <td>0.755414</td>\n",
       "      <td>0.743622</td>\n",
       "      <td>0.753425</td>\n",
       "      <td>0.563495</td>\n",
       "      <td>0.735642</td>\n",
       "      <td>0.897908</td>\n",
       "      <td>0.732106</td>\n",
       "      <td>0.400000</td>\n",
       "    </tr>\n",
       "    <tr>\n",
       "      <th>521</th>\n",
       "      <td>ZEBRA</td>\n",
       "      <td>0.398769</td>\n",
       "      <td>0.0222</td>\n",
       "      <td>0.398197</td>\n",
       "      <td>0.012275</td>\n",
       "      <td>0.289665</td>\n",
       "      <td>0.8000</td>\n",
       "      <td>0.134612</td>\n",
       "      <td>0.233265</td>\n",
       "      <td>0.5238</td>\n",
       "      <td>...</td>\n",
       "      <td>0.191308</td>\n",
       "      <td>0.890864</td>\n",
       "      <td>0.100212</td>\n",
       "      <td>0.681122</td>\n",
       "      <td>0.682856</td>\n",
       "      <td>0.628928</td>\n",
       "      <td>0.770270</td>\n",
       "      <td>0.967364</td>\n",
       "      <td>0.526380</td>\n",
       "      <td>0.591323</td>\n",
       "    </tr>\n",
       "    <tr>\n",
       "      <th>522</th>\n",
       "      <td>ZIPPER</td>\n",
       "      <td>0.492308</td>\n",
       "      <td>0.0000</td>\n",
       "      <td>0.737403</td>\n",
       "      <td>0.087681</td>\n",
       "      <td>0.000000</td>\n",
       "      <td>0.8000</td>\n",
       "      <td>0.172957</td>\n",
       "      <td>0.816327</td>\n",
       "      <td>0.3142</td>\n",
       "      <td>...</td>\n",
       "      <td>0.000000</td>\n",
       "      <td>0.590740</td>\n",
       "      <td>0.399151</td>\n",
       "      <td>0.000000</td>\n",
       "      <td>0.521793</td>\n",
       "      <td>0.797245</td>\n",
       "      <td>0.693834</td>\n",
       "      <td>0.832218</td>\n",
       "      <td>0.267894</td>\n",
       "      <td>0.895011</td>\n",
       "    </tr>\n",
       "    <tr>\n",
       "      <th>523</th>\n",
       "      <td>ZOO</td>\n",
       "      <td>0.601641</td>\n",
       "      <td>0.0134</td>\n",
       "      <td>0.423392</td>\n",
       "      <td>0.160675</td>\n",
       "      <td>0.664778</td>\n",
       "      <td>0.7066</td>\n",
       "      <td>0.543290</td>\n",
       "      <td>0.345306</td>\n",
       "      <td>0.7846</td>\n",
       "      <td>...</td>\n",
       "      <td>0.104793</td>\n",
       "      <td>0.756924</td>\n",
       "      <td>0.493843</td>\n",
       "      <td>0.957058</td>\n",
       "      <td>0.926526</td>\n",
       "      <td>0.753336</td>\n",
       "      <td>0.528294</td>\n",
       "      <td>0.692887</td>\n",
       "      <td>0.390184</td>\n",
       "      <td>0.613449</td>\n",
       "    </tr>\n",
       "  </tbody>\n",
       "</table>\n",
       "<p>524 rows × 23 columns</p>\n",
       "</div>"
      ],
      "text/plain": [
       "         Word  Auditory.mean  Gustatory.mean  Haptic.mean  Interoceptive.mean  \\\n",
       "0           A       0.454154          0.0000     0.087874            0.000000   \n",
       "1       ABOVE       0.060308          0.0000     0.096477            0.180623   \n",
       "2       AFTER       0.205128          0.0200     0.010242            0.164402   \n",
       "3    AIRPLANE       0.638154          0.0112     0.307251            0.133932   \n",
       "4         ALL       0.435897          0.1624     0.422368            0.287593   \n",
       "..        ...            ...             ...          ...                 ...   \n",
       "519       YOU       0.512821          0.1112     0.614502            0.815870   \n",
       "520     YUCKY       0.296205          0.6000     0.375461            0.414073   \n",
       "521     ZEBRA       0.398769          0.0222     0.398197            0.012275   \n",
       "522    ZIPPER       0.492308          0.0000     0.737403            0.087681   \n",
       "523       ZOO       0.601641          0.0134     0.423392            0.160675   \n",
       "\n",
       "     Olfactory.mean  Visual.mean  Foot_leg.mean  Hand_arm.mean  Head.mean  \\\n",
       "0          0.000000       0.4858       0.000000       0.072857     0.2142   \n",
       "1          0.000000       0.6470       0.211504       0.378980     0.5334   \n",
       "2          0.011333       0.2100       0.254894       0.268571     0.4842   \n",
       "3          0.050317       0.8334       0.302725       0.367347     0.6400   \n",
       "4          0.184044       0.6500       0.317053       0.417959     0.5334   \n",
       "..              ...          ...            ...            ...        ...   \n",
       "519        0.314823       0.7112       0.658527       0.719592     0.8842   \n",
       "520        0.604488       0.6000       0.157013       0.260816     0.4778   \n",
       "521        0.289665       0.8000       0.134612       0.233265     0.5238   \n",
       "522        0.000000       0.8000       0.172957       0.816327     0.3142   \n",
       "523        0.664778       0.7066       0.543290       0.345306     0.7846   \n",
       "\n",
       "     ...  Gustatory.SD  Haptic.SD  Interoceptive.SD  Olfactory.SD  Visual.SD  \\\n",
       "0    ...      0.000000   0.387764          0.000000      0.000000   1.000000   \n",
       "1    ...      0.000000   0.389831          0.525265      0.000000   0.797426   \n",
       "2    ...      0.181560   0.092600          0.598726      0.095238   0.706102   \n",
       "3    ...      0.095857   0.712691          0.566879      0.311224   0.701121   \n",
       "4    ...      0.683184   0.873088          0.859448      0.715136   0.750104   \n",
       "..   ...           ...        ...               ...           ...        ...   \n",
       "519  ...      0.506499   0.750310          0.614437      0.800595   0.700706   \n",
       "520  ...      0.750203   0.683754          0.755414      0.743622   0.753425   \n",
       "521  ...      0.191308   0.890864          0.100212      0.681122   0.682856   \n",
       "522  ...      0.000000   0.590740          0.399151      0.000000   0.521793   \n",
       "523  ...      0.104793   0.756924          0.493843      0.957058   0.926526   \n",
       "\n",
       "     Foot_leg.SD  Hand_arm.SD   Head.SD  Mouth.SD  Torso.SD  \n",
       "0       0.000000     0.564189  0.890795  0.546421  0.000000  \n",
       "1       0.659492     0.804476  0.948117  0.555828  0.716703  \n",
       "2       0.757211     0.758868  0.989121  0.831493  0.750108  \n",
       "3       0.796384     0.758024  0.774895  0.656442  0.822126  \n",
       "4       0.866982     0.890625  0.984100  0.896115  0.916269  \n",
       "..           ...          ...       ...       ...       ...  \n",
       "519     0.950065     0.883024  0.546025  0.762372  0.973970  \n",
       "520     0.563495     0.735642  0.897908  0.732106  0.400000  \n",
       "521     0.628928     0.770270  0.967364  0.526380  0.591323  \n",
       "522     0.797245     0.693834  0.832218  0.267894  0.895011  \n",
       "523     0.753336     0.528294  0.692887  0.390184  0.613449  \n",
       "\n",
       "[524 rows x 23 columns]"
      ]
     },
     "execution_count": 14,
     "metadata": {},
     "output_type": "execute_result"
    }
   ],
   "source": [
    "norms"
   ]
  }
 ],
 "metadata": {
  "interpreter": {
   "hash": "a1b1a4322d5cd411ba5bda269f0fc64430bcd40e5df7d0b8819f8f4189205312"
  },
  "kernelspec": {
   "display_name": "Python 3.7.6 64-bit ('base': conda)",
   "name": "python3"
  },
  "language_info": {
   "codemirror_mode": {
    "name": "ipython",
    "version": 3
   },
   "file_extension": ".py",
   "mimetype": "text/x-python",
   "name": "python",
   "nbconvert_exporter": "python",
   "pygments_lexer": "ipython3",
   "version": "3.7.6"
  }
 },
 "nbformat": 4,
 "nbformat_minor": 4
}
